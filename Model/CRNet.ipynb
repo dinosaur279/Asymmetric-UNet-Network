{
 "cells": [
  {
   "cell_type": "code",
   "execution_count": 1,
   "id": "226c6337",
   "metadata": {},
   "outputs": [
    {
     "name": "stderr",
     "output_type": "stream",
     "text": [
      "C:\\Users\\ASUS\\anaconda3\\lib\\site-packages\\numpy\\_distributor_init.py:30: UserWarning: loaded more than 1 DLL from .libs:\n",
      "C:\\Users\\ASUS\\anaconda3\\lib\\site-packages\\numpy\\.libs\\libopenblas.NOIJJG62EMASZI6NYURL6JBKM4EVBGM7.gfortran-win_amd64.dll\n",
      "C:\\Users\\ASUS\\anaconda3\\lib\\site-packages\\numpy\\.libs\\libopenblas.XWYDX2IKJW2NMTWSFYNGFUWKQU3LYTCZ.gfortran-win_amd64.dll\n",
      "  warnings.warn(\"loaded more than 1 DLL from .libs:\"\n"
     ]
    }
   ],
   "source": [
    "import torch\n",
    "import torch.nn as nn\n",
    "import torch.nn.functional as F\n",
    "from collections import OrderedDict"
   ]
  },
  {
   "cell_type": "code",
   "execution_count": 2,
   "id": "eb7a3f39",
   "metadata": {},
   "outputs": [],
   "source": [
    "class ConvPool(nn.Module):\n",
    "\n",
    "    def __init__(self, in_channels, out_channels, is_batch_norm = False):\n",
    "        super(ConvPool, self).__init__()\n",
    "        self.layers = OrderedDict([\n",
    "                                   ('conv', nn.Conv2d(\n",
    "                                       in_channels = in_channels,\n",
    "                                       out_channels = out_channels,\n",
    "                                       kernel_size = 7, \n",
    "                                       stride = 1,\n",
    "                                       padding = 3\n",
    "                                   )),\n",
    "                                   ('norm', nn.BatchNorm2d(out_channels)),\n",
    "                                   ('relu', nn.ReLU(inplace=True)),\n",
    "                                   ('pool', nn.MaxPool2d(\n",
    "                                       kernel_size = 3,\n",
    "                                       stride = 2,\n",
    "                                   ))               \n",
    "        ])\n",
    "        if (not is_batch_norm):\n",
    "            self.layers.pop('norm')\n",
    "    \n",
    "        self.conv = nn.Sequential(self.layers)\n",
    "  \n",
    "    def forward(self, x):\n",
    "        return self.conv(x)"
   ]
  },
  {
   "cell_type": "code",
   "execution_count": 3,
   "id": "b9dfa73a",
   "metadata": {},
   "outputs": [
    {
     "name": "stdout",
     "output_type": "stream",
     "text": [
      "ConvPool(\n",
      "  (conv): Sequential(\n",
      "    (conv): Conv2d(1, 1, kernel_size=(7, 7), stride=(1, 1), padding=(3, 3))\n",
      "    (norm): BatchNorm2d(1, eps=1e-05, momentum=0.1, affine=True, track_running_stats=True)\n",
      "    (relu): ReLU(inplace=True)\n",
      "    (pool): MaxPool2d(kernel_size=3, stride=2, padding=0, dilation=1, ceil_mode=False)\n",
      "  )\n",
      ")\n"
     ]
    }
   ],
   "source": [
    "# test model architecture\n",
    "if __name__ == \"__main__\":\n",
    "    model = ConvPool(1, 1, True)\n",
    "    print(model)"
   ]
  },
  {
   "cell_type": "code",
   "execution_count": 4,
   "id": "e3bc60ec",
   "metadata": {},
   "outputs": [],
   "source": [
    "class CRNet(nn.Module):\n",
    "\n",
    "    def __init__(self, img_dimwh, in_channels=3, downs_features=[32, 64, 128]):\n",
    "        super(CRNet, self).__init__()\n",
    "        self.downs_features = downs_features\n",
    "\n",
    "        self.downs_layers = OrderedDict()\n",
    "        for i, feature in enumerate(downs_features):\n",
    "            self.downs_layers[f'convpool{i+1}'] = ConvPool(in_channels, feature, feature==32)\n",
    "            in_channels = feature\n",
    "        self.downs = nn.Sequential(self.downs_layers)\n",
    "\n",
    "        self.bottom = nn.ModuleDict({\n",
    "         'globavgpool' : nn.AvgPool2d(\n",
    "            kernel_size = 2,\n",
    "            stride = 2,\n",
    "         ),\n",
    "         'linear' : nn.Linear(self._cal_features__(img_dimwh) ** 2 * downs_features[-1], 2)   \n",
    "        })\n",
    "\n",
    "    def _cal_features__(self, img_dimwh):\n",
    "        globavgpool_dimwh = img_dimwh\n",
    "        for i in range(len(self.downs_features)):\n",
    "            globavgpool_dimwh = int(globavgpool_dimwh / 2 - 0.5)\n",
    "        globavgpool_dimwh = int(globavgpool_dimwh / 2)\n",
    "        return globavgpool_dimwh\n",
    "\n",
    "    def forward(self, x):\n",
    "        x = self.downs(x)\n",
    "        x = self.bottom['globavgpool'](x)\n",
    "        x = torch.flatten(x, 1)\n",
    "        return self.bottom['linear'](x)"
   ]
  },
  {
   "cell_type": "code",
   "execution_count": 5,
   "id": "b992d18f",
   "metadata": {},
   "outputs": [
    {
     "name": "stdout",
     "output_type": "stream",
     "text": [
      "CRNet(\n",
      "  (downs): Sequential(\n",
      "    (convpool1): ConvPool(\n",
      "      (conv): Sequential(\n",
      "        (conv): Conv2d(3, 32, kernel_size=(7, 7), stride=(1, 1), padding=(3, 3))\n",
      "        (norm): BatchNorm2d(32, eps=1e-05, momentum=0.1, affine=True, track_running_stats=True)\n",
      "        (relu): ReLU(inplace=True)\n",
      "        (pool): MaxPool2d(kernel_size=3, stride=2, padding=0, dilation=1, ceil_mode=False)\n",
      "      )\n",
      "    )\n",
      "    (convpool2): ConvPool(\n",
      "      (conv): Sequential(\n",
      "        (conv): Conv2d(32, 64, kernel_size=(7, 7), stride=(1, 1), padding=(3, 3))\n",
      "        (relu): ReLU(inplace=True)\n",
      "        (pool): MaxPool2d(kernel_size=3, stride=2, padding=0, dilation=1, ceil_mode=False)\n",
      "      )\n",
      "    )\n",
      "    (convpool3): ConvPool(\n",
      "      (conv): Sequential(\n",
      "        (conv): Conv2d(64, 128, kernel_size=(7, 7), stride=(1, 1), padding=(3, 3))\n",
      "        (relu): ReLU(inplace=True)\n",
      "        (pool): MaxPool2d(kernel_size=3, stride=2, padding=0, dilation=1, ceil_mode=False)\n",
      "      )\n",
      "    )\n",
      "  )\n",
      "  (bottom): ModuleDict(\n",
      "    (globavgpool): AvgPool2d(kernel_size=2, stride=2, padding=0)\n",
      "    (linear): Linear(in_features=128, out_features=2, bias=True)\n",
      "  )\n",
      ")\n"
     ]
    }
   ],
   "source": [
    "# test model architecture\n",
    "if __name__ == \"__main__\":\n",
    "    model = CRNet(23)\n",
    "    print(model)"
   ]
  },
  {
   "cell_type": "code",
   "execution_count": 6,
   "id": "ff92684c",
   "metadata": {},
   "outputs": [],
   "source": [
    "# test CRNet\n",
    "def test_CRNet():\n",
    "    x = torch.randn((1, 3, 224, 224))\n",
    "    model = CRNet(img_dimwh=224, in_channels=3)\n",
    "    pred = model(x)\n",
    "    output = F.log_softmax(pred, dim=1)\n",
    "    print(pred.shape, output)"
   ]
  },
  {
   "cell_type": "code",
   "execution_count": 7,
   "id": "5ce8a654",
   "metadata": {},
   "outputs": [
    {
     "name": "stdout",
     "output_type": "stream",
     "text": [
      "torch.Size([1, 2]) tensor([[-0.6503, -0.7379]], grad_fn=<LogSoftmaxBackward0>)\n"
     ]
    }
   ],
   "source": [
    "if __name__ == '__main__':\n",
    "    test_CRNet()"
   ]
  }
 ],
 "metadata": {
  "kernelspec": {
   "display_name": "Python 3",
   "language": "python",
   "name": "python3"
  },
  "language_info": {
   "codemirror_mode": {
    "name": "ipython",
    "version": 3
   },
   "file_extension": ".py",
   "mimetype": "text/x-python",
   "name": "python",
   "nbconvert_exporter": "python",
   "pygments_lexer": "ipython3",
   "version": "3.8.8"
  }
 },
 "nbformat": 4,
 "nbformat_minor": 5
}
