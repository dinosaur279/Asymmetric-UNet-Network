{
 "cells": [
  {
   "cell_type": "code",
   "execution_count": 1,
   "id": "e341f29d",
   "metadata": {},
   "outputs": [
    {
     "name": "stderr",
     "output_type": "stream",
     "text": [
      "C:\\Users\\ASUS\\anaconda3\\lib\\site-packages\\numpy\\_distributor_init.py:30: UserWarning: loaded more than 1 DLL from .libs:\n",
      "C:\\Users\\ASUS\\anaconda3\\lib\\site-packages\\numpy\\.libs\\libopenblas.NOIJJG62EMASZI6NYURL6JBKM4EVBGM7.gfortran-win_amd64.dll\n",
      "C:\\Users\\ASUS\\anaconda3\\lib\\site-packages\\numpy\\.libs\\libopenblas.XWYDX2IKJW2NMTWSFYNGFUWKQU3LYTCZ.gfortran-win_amd64.dll\n",
      "  warnings.warn(\"loaded more than 1 DLL from .libs:\"\n"
     ]
    },
    {
     "name": "stdout",
     "output_type": "stream",
     "text": [
      "importing Jupyter notebook from CrAsppNet.ipynb\n"
     ]
    }
   ],
   "source": [
    "import torch\n",
    "import torch.nn as nn\n",
    "import import_ipynb\n",
    "from collections import OrderedDict\n",
    "from CrAsppNet import CRASPPNet"
   ]
  },
  {
   "cell_type": "code",
   "execution_count": 2,
   "id": "e56b994f",
   "metadata": {},
   "outputs": [],
   "source": [
    "class Conv(nn.Module):\n",
    "    def __init__(self, in_channels, out_channels):\n",
    "        super(Conv, self).__init__()\n",
    "        self.layers = OrderedDict([\n",
    "                                   ('conv', nn.Conv2d(\n",
    "                                       in_channels = in_channels,\n",
    "                                       out_channels = out_channels,\n",
    "                                       kernel_size = 7, \n",
    "                                       stride = 1,\n",
    "                                       padding = 3,\n",
    "                                       bias=False\n",
    "                                   )),\n",
    "                                   ('norm', nn.BatchNorm2d(out_channels)),\n",
    "                                   ('relu', nn.ReLU(inplace=True)),          \n",
    "        ])\n",
    "        self.conv = nn.Sequential(self.layers)\n",
    "  \n",
    "    def forward(self, x):\n",
    "        return self.conv(x)"
   ]
  },
  {
   "cell_type": "code",
   "execution_count": 3,
   "id": "f44bf0aa",
   "metadata": {},
   "outputs": [],
   "source": [
    "class ASPPWrapper(nn.Sequential):\n",
    "    def __init__(self, aspp_module, in_channels=256, out_channels=128):\n",
    "        super(ASPPWrapper, self).__init__(\n",
    "            aspp_module,\n",
    "            nn.Conv2d(\n",
    "                in_channels=in_channels, \n",
    "                out_channels=out_channels,\n",
    "                kernel_size=7, \n",
    "                stride=1,\n",
    "                padding=3,\n",
    "                bias=False\n",
    "                ),\n",
    "                nn.BatchNorm2d(out_channels),\n",
    "                nn.ReLU()\n",
    "        )"
   ]
  },
  {
   "cell_type": "code",
   "execution_count": 4,
   "id": "35fcc1f8",
   "metadata": {},
   "outputs": [],
   "source": [
    "class UpTransConv(nn.Module):\n",
    "    def __init__(self, in_channels, out_channels, size=None, scale_factor=None):\n",
    "        super(UpTransConv, self).__init__()\n",
    "    \n",
    "        self.layers = OrderedDict([\n",
    "                               ('up_sample', nn.Upsample(\n",
    "                                   size=size,\n",
    "                                   scale_factor=scale_factor,\n",
    "                                   mode='bilinear',\n",
    "                                   align_corners=False\n",
    "                               )),               \n",
    "                               ('conv_trans', nn.ConvTranspose2d(\n",
    "                                  in_channels=in_channels,\n",
    "                                  out_channels=out_channels,\n",
    "                                  kernel_size=7,\n",
    "                                  stride=1,\n",
    "                                  padding=3,\n",
    "                                  bias=True\n",
    "                               ))\n",
    "        ])\n",
    "        self.conv = nn.Sequential(self.layers)\n",
    "  \n",
    "    def forward(self, x):\n",
    "        return self.conv(x)"
   ]
  },
  {
   "cell_type": "code",
   "execution_count": 5,
   "id": "094972fd",
   "metadata": {},
   "outputs": [],
   "source": [
    "class CRASPPReUNet(CRASPPNet):\n",
    "    def __init__(self, img_dimwh=224, in_channels=3, out_channels=1, downs_features=[32, 64, 128], atrous_rates=[6, 12, 18], scale_factor=3):\n",
    "        super(CRASPPReUNet, self).__init__(img_dimwh=img_dimwh, in_channels=in_channels, downs_features=downs_features, atrous_rates=atrous_rates)\n",
    "        self.downs_features = downs_features\n",
    "\n",
    "        self.aspp_wrapper = ASPPWrapper(\n",
    "            self.aspp,\n",
    "            in_channels=downs_features[-1] * 2,\n",
    "            out_channels=downs_features[-1]\n",
    "        )\n",
    "        up_features = downs_features[-1] + downs_features[0]\n",
    "        self.up = UpTransConv(\n",
    "            in_channels=downs_features[-1],\n",
    "            out_channels=up_features,\n",
    "            scale_factor=scale_factor\n",
    "        )\n",
    "        self.segment_branch = nn.ModuleDict({\n",
    "            'middle' : Conv(in_channels=up_features, out_channels=int(up_features/4)),\n",
    "            'final' : nn.Sequential(\n",
    "                UpTransConv(\n",
    "                    in_channels=int(up_features/4),\n",
    "                    out_channels=downs_features[0],\n",
    "                    size=img_dimwh\n",
    "                ),\n",
    "                Conv(\n",
    "                    in_channels=downs_features[0],\n",
    "                    out_channels=downs_features[0]\n",
    "                ),\n",
    "                nn.Conv2d(\n",
    "                  in_channels=downs_features[0], \n",
    "                  out_channels=out_channels,\n",
    "                  kernel_size=1, \n",
    "                  bias=True\n",
    "                )\n",
    "            )\n",
    "        })   \n",
    "        self.bottom.linear=nn.Linear(\n",
    "            in_features=self._cal_features_up__(img_dimwh, scale_factor)**2 * (int(up_features/4) + up_features),\n",
    "            out_features=2\n",
    "        )\n",
    "    def _cal_features_up__(self, img_dimwh, scale_factor):\n",
    "        globavgpool_dimwh = img_dimwh\n",
    "        for i in range(len(self.downs_features)):\n",
    "            globavgpool_dimwh = int(globavgpool_dimwh / 2 - 0.5)\n",
    "        globavgpool_dimwh = globavgpool_dimwh * scale_factor\n",
    "        globavgpool_dimwh = int(globavgpool_dimwh / 2)\n",
    "        return globavgpool_dimwh\n",
    "\n",
    "    def forward(self, x):\n",
    "        x = self.downs(x)\n",
    "        x = self.aspp_wrapper(x)\n",
    "        x = self.up(x)\n",
    "        x_middle = self.segment_branch['middle'](x)\n",
    "        x_segmentation = self.segment_branch['final'](x_middle)\n",
    "        x_concat = torch.cat((x, x_middle), dim=1)\n",
    "        x_classification = self.bottom['globavgpool'](x_concat)\n",
    "        x_classification = torch.flatten(x_classification, 1)\n",
    "        x_classification = self.bottom['linear'](x_classification)\n",
    "        return x_classification, x_segmentation"
   ]
  },
  {
   "cell_type": "code",
   "execution_count": 6,
   "id": "af15f5a8",
   "metadata": {},
   "outputs": [],
   "source": [
    "def test_crasppreu():\n",
    "    x = torch.randn((16, 3, 224, 224))\n",
    "    model = CRASPPReUNet()\n",
    "    cls, seg = model(x)\n",
    "    print(cls.shape),\n",
    "    print(seg.shape)\n",
    "     "
   ]
  },
  {
   "cell_type": "code",
   "execution_count": 7,
   "id": "78e7fea9",
   "metadata": {},
   "outputs": [
    {
     "name": "stdout",
     "output_type": "stream",
     "text": [
      "torch.Size([16, 2])\n",
      "torch.Size([16, 1, 224, 224])\n"
     ]
    }
   ],
   "source": [
    "if __name__ == '__main__':\n",
    "    test_crasppreu()"
   ]
  }
 ],
 "metadata": {
  "kernelspec": {
   "display_name": "Python 3",
   "language": "python",
   "name": "python3"
  },
  "language_info": {
   "codemirror_mode": {
    "name": "ipython",
    "version": 3
   },
   "file_extension": ".py",
   "mimetype": "text/x-python",
   "name": "python",
   "nbconvert_exporter": "python",
   "pygments_lexer": "ipython3",
   "version": "3.8.8"
  }
 },
 "nbformat": 4,
 "nbformat_minor": 5
}
