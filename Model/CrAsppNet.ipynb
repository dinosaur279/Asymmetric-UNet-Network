{
 "cells": [
  {
   "cell_type": "code",
   "execution_count": 1,
   "id": "84efc3f6",
   "metadata": {},
   "outputs": [
    {
     "name": "stderr",
     "output_type": "stream",
     "text": [
      "C:\\Users\\ASUS\\anaconda3\\lib\\site-packages\\numpy\\_distributor_init.py:30: UserWarning: loaded more than 1 DLL from .libs:\n",
      "C:\\Users\\ASUS\\anaconda3\\lib\\site-packages\\numpy\\.libs\\libopenblas.NOIJJG62EMASZI6NYURL6JBKM4EVBGM7.gfortran-win_amd64.dll\n",
      "C:\\Users\\ASUS\\anaconda3\\lib\\site-packages\\numpy\\.libs\\libopenblas.XWYDX2IKJW2NMTWSFYNGFUWKQU3LYTCZ.gfortran-win_amd64.dll\n",
      "  warnings.warn(\"loaded more than 1 DLL from .libs:\"\n"
     ]
    }
   ],
   "source": [
    "import torch\n",
    "import torch.nn as nn\n",
    "import import_ipynb\n",
    "from torch.nn import functional as F\n",
    "from collections import OrderedDict\n",
    "from CRNet import CRNet"
   ]
  },
  {
   "cell_type": "code",
   "execution_count": 2,
   "id": "78dcd133",
   "metadata": {},
   "outputs": [],
   "source": [
    "class AstrousConv(nn.Module):\n",
    "    def __init__(self, in_channels, out_channels, dilation):\n",
    "        super(AstrousConv, self).__init__()\n",
    "    \n",
    "        self.astrous_conv = nn.Sequential(\n",
    "            nn.Conv2d(\n",
    "                in_channels=in_channels, \n",
    "                out_channels=out_channels, \n",
    "                kernel_size=3,\n",
    "                padding=dilation,\n",
    "                dilation=dilation,\n",
    "                bias=False\n",
    "                ),\n",
    "            nn.BatchNorm2d(out_channels),\n",
    "            nn.ReLU()\n",
    "        )\n",
    "  \n",
    "    def forward(self, x):\n",
    "        return self.astrous_conv(x)"
   ]
  },
  {
   "cell_type": "code",
   "execution_count": 3,
   "id": "5650bb95",
   "metadata": {},
   "outputs": [],
   "source": [
    "class SpatialPooling(nn.Module):\n",
    "    def __init__(self, in_channels, out_channels):\n",
    "        super(SpatialPooling, self).__init__()\n",
    "    \n",
    "        self.global_average_pooling = nn.Sequential(\n",
    "            nn.AdaptiveAvgPool2d(1),\n",
    "            nn.Conv2d(\n",
    "                in_channels=in_channels,\n",
    "                out_channels=out_channels,\n",
    "                kernel_size=1,\n",
    "                bias=False\n",
    "            ),\n",
    "            nn.BatchNorm2d(out_channels),\n",
    "            nn.ReLU()\n",
    "        )\n",
    " \n",
    "    def forward(self, x):\n",
    "        size = x.shape[-2:]\n",
    "        x = self.global_average_pooling(x)\n",
    "        return F.interpolate(x, size=size, mode='bilinear', align_corners=False)"
   ]
  },
  {
   "cell_type": "code",
   "execution_count": 4,
   "id": "96efc1e4",
   "metadata": {},
   "outputs": [],
   "source": [
    "class ASPP(nn.Module):\n",
    "    def __init__(self, in_channels=128, out_channels=256, atrous_rates=[6, 12, 18]):\n",
    "        super(ASPP, self).__init__()\n",
    "    \n",
    "        self.atrous_convs = nn.ModuleList()\n",
    "        self.atrous_convs.append(nn.Sequential(\n",
    "            nn.Conv2d(\n",
    "                in_channels=in_channels,\n",
    "                out_channels=out_channels,\n",
    "                kernel_size=1,\n",
    "                bias=False\n",
    "            ),\n",
    "            nn.BatchNorm2d(out_channels),\n",
    "            nn.ReLU()\n",
    "        ))\n",
    "        for rate in atrous_rates:\n",
    "            self.atrous_convs.append(AstrousConv(\n",
    "            in_channels=in_channels,\n",
    "            out_channels=out_channels,\n",
    "            dilation=rate\n",
    "            ))\n",
    "    \n",
    "        self.spatial_pooling = SpatialPooling(\n",
    "            in_channels=in_channels,\n",
    "            out_channels=out_channels\n",
    "        )\n",
    "\n",
    "        self.pyramid_pooling = nn.Sequential(\n",
    "            nn.Conv2d(\n",
    "                in_channels=(len(self.atrous_convs) + 1) * out_channels,\n",
    "                out_channels=out_channels,\n",
    "                kernel_size=1,\n",
    "                bias=False\n",
    "            ),\n",
    "            nn.BatchNorm2d(out_channels),\n",
    "            nn.ReLU(),\n",
    "            nn.Dropout(p=0.5)\n",
    "        )\n",
    "\n",
    "    def forward(self, x):\n",
    "        aspp_elements = []\n",
    "        for atrous_conv in self.atrous_convs:\n",
    "            aspp_elements.append(atrous_conv(x))\n",
    "        aspp_elements.append(self.spatial_pooling(x))\n",
    "        assp_stack = torch.cat(aspp_elements, dim=1)\n",
    "        return self.pyramid_pooling(assp_stack)"
   ]
  },
  {
   "cell_type": "code",
   "execution_count": 5,
   "id": "51963404",
   "metadata": {},
   "outputs": [],
   "source": [
    "def test_aspp():\n",
    "    x = torch.randn((3, 128, 27, 27))\n",
    "    model = ASPP()\n",
    "    pred = model(x)\n",
    "    print(pred.shape)"
   ]
  },
  {
   "cell_type": "code",
   "execution_count": 6,
   "id": "06c7f512",
   "metadata": {},
   "outputs": [],
   "source": [
    "class CRASPPNet(CRNet):\n",
    "    def __init__(self, img_dimwh=224, in_channels=3, downs_features=[32, 64, 128], atrous_rates=[6, 12, 18]):\n",
    "        super(CRASPPNet, self).__init__(img_dimwh=img_dimwh, in_channels=in_channels, downs_features=downs_features)\n",
    "        self.aspp = ASPP(\n",
    "            in_channels=downs_features[-1],\n",
    "            out_channels=downs_features[-1] * 2,\n",
    "            atrous_rates=atrous_rates\n",
    "        )\n",
    "        self.bottom.linear = nn.Linear(self._cal_features__(img_dimwh) ** 2 * (downs_features[-1] * 2), 2)\n",
    "\n",
    "    def forward(self, x):\n",
    "        x = self.downs(x)\n",
    "        x = self.aspp(x)\n",
    "        x = self.bottom['globavgpool'](x)\n",
    "        x = torch.flatten(x, 1)\n",
    "        return self.bottom['linear'](x)"
   ]
  },
  {
   "cell_type": "code",
   "execution_count": 7,
   "id": "649adc39",
   "metadata": {},
   "outputs": [],
   "source": [
    "def test_craspp():\n",
    "    x = torch.randn((16, 3, 224, 224))\n",
    "    model = CRASPPNet()\n",
    "    pred = model(x)\n",
    "    print(pred.shape)"
   ]
  },
  {
   "cell_type": "code",
   "execution_count": 8,
   "id": "f7aeaab8",
   "metadata": {},
   "outputs": [
    {
     "name": "stdout",
     "output_type": "stream",
     "text": [
      "torch.Size([3, 256, 27, 27])\n",
      "torch.Size([16, 2])\n"
     ]
    }
   ],
   "source": [
    "if __name__ == \"__main__\":\n",
    "    test_aspp()\n",
    "    test_craspp()"
   ]
  }
 ],
 "metadata": {
  "kernelspec": {
   "display_name": "Python 3",
   "language": "python",
   "name": "python3"
  },
  "language_info": {
   "codemirror_mode": {
    "name": "ipython",
    "version": 3
   },
   "file_extension": ".py",
   "mimetype": "text/x-python",
   "name": "python",
   "nbconvert_exporter": "python",
   "pygments_lexer": "ipython3",
   "version": "3.8.8"
  }
 },
 "nbformat": 4,
 "nbformat_minor": 5
}
