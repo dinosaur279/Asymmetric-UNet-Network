{
 "cells": [
  {
   "cell_type": "code",
   "execution_count": null,
   "id": "e3b27067",
   "metadata": {},
   "outputs": [],
   "source": [
    "import matplotlib.pyplot as plt\n",
    "import numpy as np\n",
    "import os"
   ]
  },
  {
   "cell_type": "code",
   "execution_count": null,
   "id": "862539d0",
   "metadata": {},
   "outputs": [],
   "source": [
    "## Copy from VisualFinal\n",
    "def get_scores(data, key):\n",
    "    data_class = []\n",
    "    data_mask = []\n",
    "    signal = \"STOP\"\n",
    "\n",
    "    for line in data:\n",
    "        line = line.strip()\n",
    "        if signal == \"START\":\n",
    "            if \"[Classification]\" in line:\n",
    "                elements = line.split(\",\")\n",
    "                scores_class = [float(element.split(\" \")[-1]) for element in elements]\n",
    "                data_class.append(scores_class)\n",
    "            if \"[Segmentation]\" in line:\n",
    "                elements = line.split(\",\")\n",
    "                scores_mask = [float(element.split(\" \")[-1]) for element in elements]\n",
    "                data_mask.append(scores_mask)\n",
    "                signal = \"STOP\"\n",
    "        if key in line:\n",
    "            signal = \"START\"\n",
    "            epoch = int((line.split(\" \")[-1])[:-1])\n",
    "            \n",
    "    return np.array(data_class), np.array(data_mask)"
   ]
  },
  {
   "cell_type": "code",
   "execution_count": null,
   "id": "34a7b500",
   "metadata": {},
   "outputs": [],
   "source": [
    "def parse_data (file_path):\n",
    "    file = open(file_path, \"r\")\n",
    "    data = file.read().split(\"\\n\")[1:]\n",
    "    file.close()\n",
    "\n",
    "    train_data_class, train_data_mask = get_scores(data, \"[TRAIN]\")\n",
    "    eval_data_class, eval_data_mask = get_scores(data, \"[EVAL]\")\n",
    "    test_data_class, test_data_mask = get_scores(data, \"[TEST]\")\n",
    "\n",
    "    return train_data_class, train_data_mask, eval_data_class, eval_data_mask, test_data_class, test_data_mask   "
   ]
  },
  {
   "cell_type": "code",
   "execution_count": null,
   "id": "8759dada",
   "metadata": {},
   "outputs": [],
   "source": [
    "def sub_visual(x, ys, margin, graph_name, indices, is_finish, is_margin=True):\n",
    "    global LABELS\n",
    "    fig = plt.figure(figsize=(10, 10))\n",
    "    plt.title(graph_name)\n",
    "    plt.xlabel('Epoch')\n",
    "    for i in indices:\n",
    "        y = ys[i]\n",
    "        if margin[0] == 1:\n",
    "            y_interest_index = np.argmax(y)\n",
    "        else:\n",
    "            y_interest_index = np.argmin(y)\n",
    "        plt.text(x[y_interest_index], y[y_interest_index], f\"{y[y_interest_index]:.2f}\", size = 'large')\n",
    "        plt.scatter(x[y_interest_index], y[y_interest_index], s=50)\n",
    "        plt.plot(x, y, label = LABELS[i])\n",
    "    if is_margin:\n",
    "        plt.plot(x, margin)\n",
    "    plt.legend()\n",
    "    if is_finish:\n",
    "        global out_dir\n",
    "        plt.savefig(f\"{out_dir}/{graph_name}.png\")\n",
    "    plt.show()"
   ]
  },
  {
   "cell_type": "code",
   "execution_count": null,
   "id": "0a3f97d3",
   "metadata": {},
   "outputs": [],
   "source": [
    "def visual(data, is_finish=False):\n",
    "    global LABELS\n",
    "    LABELS = [\"Classification Loss\", \"Classification Accuracy (Train)\", \"Classification Dice Score (Train)\",\n",
    "            \"Segmentation Loss\", \"Segmentation Accuracy (Train)\", \"Segmentation Dice Score (Train)\",\n",
    "            \"Classification Accuracy (Evaluation)\", \"Classification Dice Score (Evaluation)\", \"Classification F1 (Evaluation)\",\n",
    "            \"Segmentation Accuracy (Evaluation)\", \"Segmentation Dice Score (Evaluation)\",\n",
    "            \"Classification Accuracy (Test)\", \"Classification Dice Score (Test)\", \"Classification F1 (Test)\",\n",
    "            \"Segmentation Accuracy (Test)\", \"Segmentation Dice Score (Test)\"\n",
    "            ]\n",
    "    x = range(len(data))\n",
    "    y0 = np.zeros_like(x)\n",
    "    y1 = np.ones_like(x)\n",
    "    ys =  []\n",
    "    for i in range(data.shape[1]):\n",
    "        y = data[:,i]\n",
    "        if i != 0 and i != 3 and i != 8 and i != 13:\n",
    "            y = y/100\n",
    "        ys.append(y)\n",
    "\n",
    "    sub_visual(x, ys, y0, \"Training Loss\", [0, 3], is_finish)\n",
    "    sub_visual(x, ys, y1, \"[Train & Evaluation] Classification Dice Score\", [2, 7], is_finish)\n",
    "    sub_visual(x, ys, y1, \"[Train & Evaluation] Segmentation Dice Score\", [5, 10], is_finish)\n",
    "    sub_visual(x, ys, y1, \"[Train & Evaluation] Classification Accuracy\", [1, 6], is_finish)\n",
    "    sub_visual(x, ys, y1, \"[Train & Evaluation] Segmentation Accuracy\", [4, 9], is_finish)\n",
    "\n",
    "    if is_finish:\n",
    "        sub_visual(x, ys, y1, \"[Evaluation] Classification\", [6, 7, 8], is_finish)\n",
    "        sub_visual(x, ys, y1, \"[Evaluation] Segmentation\", [9, 10], is_finish)\n",
    "        sub_visual(x, ys, y1, \"[Test] Classification\", [11, 12, 13], is_finish)\n",
    "        sub_visual(x, ys, y1, \"[Test] Segmentation\", [14, 15], is_finish)\n",
    "        sub_visual(x, ys, y1, \"[Evaluation & Test] Classification Dice Score\", [7, 12], is_finish)\n",
    "        sub_visual(x, ys, y1, \"[Evaluation & Test] Segmentation Dice Score\", [10, 15], is_finish)"
   ]
  },
  {
   "cell_type": "code",
   "execution_count": null,
   "id": "fe53e2e0",
   "metadata": {},
   "outputs": [],
   "source": [
    "# file_path = 'D:/YSC2023/Implementation/Final_Output/CRNet_PNG_256/train_log'\n",
    "# file_path = 'D:/YSC2023/Implementation/Final_Output/CRNet_HU_256/train_log'\n",
    "# file_path =  r'D:/YSC2023/Implementation/Final_Output/OriginalIncoNet_PNG_256/train_log'\n",
    "# file_path =  r'D:/YSC2023/Implementation/Final_Output/OriginalIncoNet_HU_256/train_log'\n",
    "# file_path =  r'D:/YSC2023/Implementation/Final_Output/XNet_HU_256/train_log'\n",
    "# file_path =  r'D:/YSC2023/Implementation/Final_Output/XNet_PNG_256/train_log'\n",
    "# file_path =  r'D:/YSC2023/Implementation/Final_Output/XNet_CAP_HU_256/train_log'\n",
    "# file_path =  r'D:/YSC2023/Implementation/Final_Output/XNet_CAP_PNG_256/train_log'\n",
    "\n",
    "file_path =  r'D:/YSC2023/Implementation/Final_Output_DatasetSplit/Lung_Mask/XNet_HU_256/train_log'\n",
    "\n",
    "file_path = file_path.replace(\"Final_Output_DatasetSplit\", \"Model Results DatasetSplit\")\n",
    "out_dir = file_path.replace(\"train_log\", \"graphs\")\n",
    "train_data_class, train_data_mask, eval_data_class, eval_data_mask, test_data_class, test_data_mask = parse_data(file_path)\n",
    "# visual(np.concatenate((train_data_class, train_data_mask, eval_data_class, eval_data_mask), axis=1))                      #For training diagnosis\n",
    "visual(np.concatenate((train_data_class, train_data_mask, eval_data_class, eval_data_mask, test_data_class, test_data_mask), axis=1), is_finish=True) "
   ]
  },
  {
   "cell_type": "code",
   "execution_count": null,
   "id": "cfbe4649",
   "metadata": {},
   "outputs": [],
   "source": []
  }
 ],
 "metadata": {
  "kernelspec": {
   "display_name": "Python 3",
   "language": "python",
   "name": "python3"
  },
  "language_info": {
   "codemirror_mode": {
    "name": "ipython",
    "version": 3
   },
   "file_extension": ".py",
   "mimetype": "text/x-python",
   "name": "python",
   "nbconvert_exporter": "python",
   "pygments_lexer": "ipython3",
   "version": "3.8.8"
  }
 },
 "nbformat": 4,
 "nbformat_minor": 5
}
