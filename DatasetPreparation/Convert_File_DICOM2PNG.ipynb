{
 "cells": [
  {
   "cell_type": "code",
   "execution_count": 10,
   "id": "e504a4f8",
   "metadata": {},
   "outputs": [],
   "source": [
    "# Mở file để đọc\n",
    "with open(r'D:\\YSC2023\\Dataset_Split\\Dataset\\normal_validation.txt', 'r') as f_input:\n",
    "    # Đọc nội dung của file vào biến data\n",
    "    data = f_input.read()\n",
    "    data_convert = data.replace('.dcm','.png')\n",
    "\n",
    "# Mở file để ghi\n",
    "with open(r'D:\\YSC2023\\Dataset_Split\\Dataset_PNG\\normal_validation.txt', 'w') as f_output:\n",
    "    # Ghi nội dung vào file\n",
    "    f_output.write(data_convert)"
   ]
  },
  {
   "cell_type": "code",
   "execution_count": null,
   "id": "d448707e",
   "metadata": {},
   "outputs": [],
   "source": []
  }
 ],
 "metadata": {
  "kernelspec": {
   "display_name": "Python 3",
   "language": "python",
   "name": "python3"
  },
  "language_info": {
   "codemirror_mode": {
    "name": "ipython",
    "version": 3
   },
   "file_extension": ".py",
   "mimetype": "text/x-python",
   "name": "python",
   "nbconvert_exporter": "python",
   "pygments_lexer": "ipython3",
   "version": "3.8.8"
  }
 },
 "nbformat": 4,
 "nbformat_minor": 5
}
