{
 "cells": [
  {
   "cell_type": "code",
   "execution_count": 1,
   "id": "ff7b1539",
   "metadata": {},
   "outputs": [
    {
     "name": "stdout",
     "output_type": "stream",
     "text": [
      "Collecting SimpleITK\n",
      "  Downloading SimpleITK-2.2.1-cp38-cp38-win_amd64.whl (27.0 MB)\n",
      "Installing collected packages: SimpleITK\n",
      "Successfully installed SimpleITK-2.2.1\n",
      "Requirement already satisfied: glob2 in c:\\users\\asus\\anaconda3\\lib\\site-packages (0.7)\n"
     ]
    }
   ],
   "source": [
    "# !pip install SimpleITK\n",
    "# !pip install glob2"
   ]
  },
  {
   "cell_type": "code",
   "execution_count": 1,
   "id": "dda3efa2",
   "metadata": {},
   "outputs": [],
   "source": [
    "import SimpleITK as sitk\n",
    "import os\n",
    "from tqdm import tqdm\n",
    "import numpy as np\n",
    "import glob2"
   ]
  },
  {
   "cell_type": "code",
   "execution_count": 2,
   "id": "4bc709af",
   "metadata": {},
   "outputs": [],
   "source": [
    "WRITER = sitk.ImageFileWriter()\n",
    "WRITER.KeepOriginalImageUIDOn()\n",
    "def write_dicom(slide, slides_name, output_path, i):\n",
    "    global WRITER\n",
    "    file_name = f\"{slides_name.split('.')[0]}_{i}.dcm\"\n",
    "    if os.path.isfile(os.path.join(output_path, file_name)):\n",
    "        print('[INFO] Alert Filename Duplicated!____________________________________________')\n",
    "    else:\n",
    "        WRITER.SetFileName(os.path.join(output_path, file_name))\n",
    "        WRITER.Execute(slide)"
   ]
  },
  {
   "cell_type": "code",
   "execution_count": 3,
   "id": "60b32abf",
   "metadata": {},
   "outputs": [],
   "source": [
    "def load_nii_format_volume (input_path):\n",
    "    file_name = os.path.basename(input_path)\n",
    "    print(\"[INFO] Loading \", file_name)\n",
    "\n",
    "    reader = sitk.ImageFileReader()\n",
    "    reader.SetImageIO(\"NiftiImageIO\")\n",
    "    reader.SetFileName(input_path)\n",
    "    slides = reader.Execute()\n",
    "\n",
    "    print(\"[INFO] Volume Size: \", slides.GetSize())\n",
    "    return slides, file_name"
   ]
  },
  {
   "cell_type": "code",
   "execution_count": 4,
   "id": "4de96c44",
   "metadata": {},
   "outputs": [],
   "source": [
    "# StatisticsImageFilter computes the minimum, maximum, sum, sum of squares, mean, variance sigma of an image\n",
    "STATIC_IMAGE_FILTER = sitk.StatisticsImageFilter()\n",
    "def is_black_mask(slide_mask):\n",
    "    STATIC_IMAGE_FILTER.Execute(slide_mask) # Execute the filter on the input image\n",
    "    max_value = STATIC_IMAGE_FILTER.GetMaximum() # Return the computed Maximum.\n",
    "    if max_value > 0.0:\n",
    "        return False\n",
    "    else:\n",
    "        return True"
   ]
  },
  {
   "cell_type": "code",
   "execution_count": 5,
   "id": "fb66ba04",
   "metadata": {},
   "outputs": [],
   "source": [
    "THRESHOLD_FILTER = sitk.ThresholdImageFilter()\n",
    "THRESHOLD_FILTER.SetLower(0.0)\n",
    "THRESHOLD_FILTER.SetLower(0.0)\n",
    "THRESHOLD_FILTER.SetOutsideValue(1.0)\n",
    "def normalize_mask(slide_mask):\n",
    "    global THRESHOLD_FILTER\n",
    "    slide_mask = THRESHOLD_FILTER.Execute(slide_mask)\n",
    "    return slide_mask"
   ]
  },
  {
   "cell_type": "code",
   "execution_count": 7,
   "id": "878e408d",
   "metadata": {},
   "outputs": [],
   "source": [
    "def covid19_ct_lung_and_infection_segmentation(\n",
    "    input_ct_dir=r'D:\\YSC2023\\Dataset\\COVID-19 CT Lung and Infection Segmentation Dataset\\COVID-19-CT-Seg_20cases',\n",
    "    input_lungmask_dir=r'D:\\YSC2023\\Dataset\\COVID-19 CT Lung and Infection Segmentation Dataset\\Lung_Mask',\n",
    "    input_lesionmask_dir=r'D:\\YSC2023\\Dataset\\COVID-19 CT Lung and Infection Segmentation Dataset\\Infection_Mask',\n",
    "    output_covid_ct_dir=r'D:\\YSC2023\\Implementation\\Dataset\\COVID\\Covid',\n",
    "    output_covid_lungmask_dir=r'D:\\YSC2023\\Implementation\\Dataset\\COVID\\Covid_LungMask',\n",
    "    output_covid_lesionmask_dir=r'D:\\YSC2023\\Implementation\\Dataset\\COVID\\Covid_LesionMask',\n",
    "    output_normal_ct_dir=r'D:\\YSC2023\\Implementation\\Dataset\\NONCOVID\\Normal',\n",
    "    output_normal_lungmask_dir=r'D:\\YSC2023\\Implementation\\Dataset\\NONCOVID\\Normal_LungMask'\n",
    "):\n",
    "    for filename in os.listdir(input_ct_dir):\n",
    "        slides_ct, slides_ct_name = load_nii_format_volume(os.path.join(input_ct_dir, filename))\n",
    "        slides_lungmask, slides_lungmask_name = load_nii_format_volume(os.path.join(input_lungmask_dir, filename))\n",
    "        slides_lesionmask, slides_lesionmask_name = load_nii_format_volume(os.path.join(input_lesionmask_dir, filename))\n",
    "        if (slides_ct.GetDepth() == slides_lungmask.GetDepth() and slides_ct.GetDepth() == slides_lesionmask.GetDepth()):\n",
    "            print('[INFO] Valid Data:', slides_ct_name)\n",
    "            print('[INFO] Normalizing Mask...')\n",
    "            slides_lungmask = normalize_mask(slides_lungmask)\n",
    "            slides_lesionmask = normalize_mask(slides_lesionmask)\n",
    "            print('[INFO] Saving...')\n",
    "            for i in tqdm(range(slides_ct.GetDepth())):\n",
    "                if not is_black_mask(slides_lungmask[:,:,i]):\n",
    "                    if not is_black_mask(slides_lesionmask[:,:,i]):\n",
    "                        write_dicom(slides_ct[:,:,i], slides_ct_name, output_covid_ct_dir, i)\n",
    "                        write_dicom(slides_lungmask[:,:,i], slides_ct_name, output_covid_lungmask_dir, i)\n",
    "                        write_dicom(slides_lesionmask[:,:,i], slides_ct_name, output_covid_lesionmask_dir, i)\n",
    "                    else:\n",
    "                        write_dicom(slides_ct[:,:,i], slides_ct_name, output_normal_ct_dir, i)\n",
    "                        write_dicom(slides_lungmask[:,:,i], slides_ct_name, output_normal_lungmask_dir, i)\n",
    "        else:\n",
    "            print('[INFO] Invalid Data:', slides_ct_name)\n",
    "            break"
   ]
  },
  {
   "cell_type": "code",
   "execution_count": 8,
   "id": "ec94140c",
   "metadata": {},
   "outputs": [],
   "source": [
    "CAST_FILTER = sitk.CastImageFilter()\n",
    "CAST_FILTER.SetOutputPixelType(sitk.sitkInt16)\n",
    "def covid19_ct_segmentation_dataset(\n",
    "    input_ct_file=r'D:\\YSC2023\\Dataset\\COVID-19 CT segmentation dataset\\tr_im.nii.gz',\n",
    "    input_lungmask_file=r'D:\\YSC2023\\Dataset\\COVID-19 CT segmentation dataset\\tr_lungmasks_updated.nii.gz',\n",
    "    input_lesionmask_file=r'D:\\YSC2023\\Dataset\\COVID-19 CT segmentation dataset\\tr_mask.nii.gz',\n",
    "    output_covid_ct_dir=r'D:\\YSC2023\\Implementation\\Dataset\\COVID\\Covid',\n",
    "    output_covid_lungmask_dir=r'D:\\YSC2023\\Implementation\\Dataset\\COVID\\Covid_LungMask',\n",
    "    output_covid_lesionmask_dir=r'D:\\YSC2023\\Implementation\\Dataset\\COVID\\Covid_LesionMask',\n",
    "    output_normal_ct_dir=r'D:\\YSC2023\\Implementation\\Dataset\\NONCOVID\\Normal',\n",
    "    output_normal_lungmask_dir=r'D:\\YSC2023\\Implementation\\Dataset\\NONCOVID\\Normal_LungMask'\n",
    "):\n",
    "    global CAST_FILTER\n",
    "    slides_ct, slides_ct_name = load_nii_format_volume(input_ct_file)\n",
    "    slides_lungmask, slides_lungmask_name = load_nii_format_volume(input_lungmask_file)\n",
    "    slides_lesionmask, slides_lesionmask_name = load_nii_format_volume(input_lesionmask_file)\n",
    "    if (slides_ct.GetDepth() == slides_lungmask.GetDepth() and slides_ct.GetDepth() == slides_lesionmask.GetDepth()):\n",
    "        print('[INFO] Valid Data:', slides_ct_name)\n",
    "        print('[INFO] Normalizing Mask...')\n",
    "        slides_lungmask = normalize_mask(slides_lungmask)\n",
    "        slides_lesionmask = normalize_mask(slides_lesionmask)\n",
    "        print('[INFO] Casting to int16 ...')\n",
    "        slides_ct = CAST_FILTER.Execute(slides_ct)\n",
    "        slides_lungmask = CAST_FILTER.Execute(slides_lungmask)\n",
    "        slides_lesionmask = CAST_FILTER.Execute(slides_lesionmask)\n",
    "        print('[INFO] Saving...')\n",
    "        for i in tqdm(range(slides_ct.GetDepth())):\n",
    "            if not is_black_mask(slides_lungmask[:,:,i]):\n",
    "                if not is_black_mask(slides_lesionmask[:,:,i]):\n",
    "                    write_dicom(slides_ct[:,:,i], slides_ct_name, output_covid_ct_dir, i)\n",
    "                    write_dicom(slides_lungmask[:,:,i], slides_ct_name, output_covid_lungmask_dir, i)\n",
    "                    write_dicom(slides_lesionmask[:,:,i], slides_ct_name, output_covid_lesionmask_dir, i)\n",
    "                else:\n",
    "                    write_dicom(slides_ct[:,:,i], slides_ct_name, output_normal_ct_dir, i)\n",
    "                    write_dicom(slides_lungmask[:,:,i], slides_ct_name, output_normal_lungmask_dir, i)\n",
    "    else:\n",
    "        print('[INFO] Invalid Data:', slides_ct_name)"
   ]
  },
  {
   "cell_type": "code",
   "execution_count": 10,
   "id": "cd7b120d",
   "metadata": {},
   "outputs": [],
   "source": [
    "def radiopaedia(\n",
    "    input_ct_dir=r'D:\\YSC2023\\Dataset\\Radiopaedia\\rp_im',\n",
    "    input_lungmask_dir=r'D:\\YSC2023\\Dataset\\Radiopaedia\\rp_lung_msk',\n",
    "    input_lesionmask_dir=r'D:\\YSC2023\\Dataset\\Radiopaedia\\rp_msk',\n",
    "    output_covid_ct_dir=r'D:\\YSC2023\\Implementation\\Dataset\\COVID\\Covid',\n",
    "    output_covid_lungmask_dir=r'D:\\YSC2023\\Implementation\\Dataset\\COVID\\Covid_LungMask',\n",
    "    output_covid_lesionmask_dir=r'D:\\YSC2023\\Implementation\\Dataset\\COVID\\Covid_LesionMask',\n",
    "    output_normal_ct_dir=r'D:\\YSC2023\\Implementation\\Dataset\\NONCOVID\\Normal',\n",
    "    output_normal_lungmask_dir=r'D:\\YSC2023\\Implementation\\Dataset\\NONCOVID\\Normal_LungMask'\n",
    "):\n",
    "    for filename in os.listdir(input_ct_dir):\n",
    "        slides_ct, slides_ct_name = load_nii_format_volume(os.path.join(input_ct_dir, filename))\n",
    "        slides_lungmask, slides_lungmask_name = load_nii_format_volume(os.path.join(input_lungmask_dir, filename))\n",
    "        slides_lesionmask, slides_lesionmask_name = load_nii_format_volume(os.path.join(input_lesionmask_dir, filename))\n",
    "        if (slides_ct.GetDepth() == slides_lungmask.GetDepth() and slides_ct.GetDepth() == slides_lesionmask.GetDepth()):\n",
    "            print('[INFO] Valid Data:', slides_ct_name)\n",
    "            print('[INFO] Normalizing Mask...')\n",
    "            slides_lungmask = normalize_mask(slides_lungmask)\n",
    "            slides_lesionmask = normalize_mask(slides_lesionmask)\n",
    "            print('[INFO] Casting to int16 ...')\n",
    "            slides_ct = CAST_FILTER.Execute(slides_ct)\n",
    "            slides_lungmask = CAST_FILTER.Execute(slides_lungmask)\n",
    "            slides_lesionmask = CAST_FILTER.Execute(slides_lesionmask)\n",
    "            print('[INFO] Saving...')\n",
    "            for i in tqdm(range(slides_ct.GetDepth())):\n",
    "                if not is_black_mask(slides_lungmask[:,:,i]):\n",
    "                    if not is_black_mask(slides_lesionmask[:,:,i]):\n",
    "                        write_dicom(slides_ct[:,:,i], slides_ct_name, output_covid_ct_dir, i)\n",
    "                        write_dicom(slides_lungmask[:,:,i], slides_ct_name, output_covid_lungmask_dir, i)\n",
    "                        write_dicom(slides_lesionmask[:,:,i], slides_ct_name, output_covid_lesionmask_dir, i)\n",
    "                    else:\n",
    "                        write_dicom(slides_ct[:,:,i], slides_ct_name, output_normal_ct_dir, i)\n",
    "                        write_dicom(slides_lungmask[:,:,i], slides_ct_name, output_normal_lungmask_dir, i)\n",
    "        else:\n",
    "            print('[INFO] Invalid Data:', slides_ct_name)\n",
    "            break"
   ]
  },
  {
   "cell_type": "code",
   "execution_count": 11,
   "id": "c9ff6d26",
   "metadata": {},
   "outputs": [
    {
     "name": "stdout",
     "output_type": "stream",
     "text": [
      "[INFO] Loading  coronacases_001.nii.gz\n",
      "[INFO] Volume Size:  (512, 512, 301)\n",
      "[INFO] Loading  coronacases_001.nii.gz\n",
      "[INFO] Volume Size:  (512, 512, 301)\n",
      "[INFO] Loading  coronacases_001.nii.gz\n",
      "[INFO] Volume Size:  (512, 512, 301)\n"
     ]
    },
    {
     "name": "stderr",
     "output_type": "stream",
     "text": [
      "\r",
      "  0%|                                                                                          | 0/301 [00:00<?, ?it/s]"
     ]
    },
    {
     "name": "stdout",
     "output_type": "stream",
     "text": [
      "[INFO] Valid Data: coronacases_001.nii.gz\n",
      "[INFO] Normalizing Mask...\n",
      "[INFO] Saving...\n"
     ]
    },
    {
     "name": "stderr",
     "output_type": "stream",
     "text": [
      "100%|████████████████████████████████████████████████████████████████████████████████| 301/301 [00:06<00:00, 43.85it/s]\n"
     ]
    },
    {
     "name": "stdout",
     "output_type": "stream",
     "text": [
      "[INFO] Loading  coronacases_002.nii.gz\n",
      "[INFO] Volume Size:  (512, 512, 200)\n",
      "[INFO] Loading  coronacases_002.nii.gz\n",
      "[INFO] Volume Size:  (512, 512, 200)\n",
      "[INFO] Loading  coronacases_002.nii.gz\n",
      "[INFO] Volume Size:  (512, 512, 200)\n",
      "[INFO] Valid Data: coronacases_002.nii.gz\n",
      "[INFO] Normalizing Mask...\n"
     ]
    },
    {
     "name": "stderr",
     "output_type": "stream",
     "text": [
      "  5%|████                                                                             | 10/200 [00:00<00:02, 88.87it/s]"
     ]
    },
    {
     "name": "stdout",
     "output_type": "stream",
     "text": [
      "[INFO] Saving...\n"
     ]
    },
    {
     "name": "stderr",
     "output_type": "stream",
     "text": [
      "100%|████████████████████████████████████████████████████████████████████████████████| 200/200 [00:05<00:00, 39.12it/s]\n"
     ]
    },
    {
     "name": "stdout",
     "output_type": "stream",
     "text": [
      "[INFO] Loading  coronacases_003.nii.gz\n",
      "[INFO] Volume Size:  (512, 512, 200)\n",
      "[INFO] Loading  coronacases_003.nii.gz\n",
      "[INFO] Volume Size:  (512, 512, 200)\n",
      "[INFO] Loading  coronacases_003.nii.gz\n",
      "[INFO] Volume Size:  (512, 512, 200)\n",
      "[INFO] Valid Data: coronacases_003.nii.gz\n",
      "[INFO] Normalizing Mask...\n",
      "[INFO] Saving...\n"
     ]
    },
    {
     "name": "stderr",
     "output_type": "stream",
     "text": [
      "100%|████████████████████████████████████████████████████████████████████████████████| 200/200 [00:04<00:00, 42.08it/s]\n"
     ]
    },
    {
     "name": "stdout",
     "output_type": "stream",
     "text": [
      "[INFO] Loading  coronacases_004.nii.gz\n",
      "[INFO] Volume Size:  (512, 512, 270)\n",
      "[INFO] Loading  coronacases_004.nii.gz\n",
      "[INFO] Volume Size:  (512, 512, 270)\n",
      "[INFO] Loading  coronacases_004.nii.gz\n",
      "[INFO] Volume Size:  (512, 512, 270)\n",
      "[INFO] Valid Data: coronacases_004.nii.gz\n",
      "[INFO] Normalizing Mask...\n"
     ]
    },
    {
     "name": "stderr",
     "output_type": "stream",
     "text": [
      "  2%|█▌                                                                                | 5/270 [00:00<00:06, 41.11it/s]"
     ]
    },
    {
     "name": "stdout",
     "output_type": "stream",
     "text": [
      "[INFO] Saving...\n"
     ]
    },
    {
     "name": "stderr",
     "output_type": "stream",
     "text": [
      "100%|████████████████████████████████████████████████████████████████████████████████| 270/270 [00:06<00:00, 39.95it/s]\n"
     ]
    },
    {
     "name": "stdout",
     "output_type": "stream",
     "text": [
      "[INFO] Loading  coronacases_005.nii.gz\n",
      "[INFO] Volume Size:  (512, 512, 290)\n",
      "[INFO] Loading  coronacases_005.nii.gz\n",
      "[INFO] Volume Size:  (512, 512, 290)\n",
      "[INFO] Loading  coronacases_005.nii.gz\n",
      "[INFO] Volume Size:  (512, 512, 290)\n",
      "[INFO] Valid Data: coronacases_005.nii.gz\n",
      "[INFO] Normalizing Mask...\n"
     ]
    },
    {
     "name": "stderr",
     "output_type": "stream",
     "text": [
      "  4%|███▌                                                                            | 13/290 [00:00<00:02, 106.00it/s]"
     ]
    },
    {
     "name": "stdout",
     "output_type": "stream",
     "text": [
      "[INFO] Saving...\n"
     ]
    },
    {
     "name": "stderr",
     "output_type": "stream",
     "text": [
      "100%|████████████████████████████████████████████████████████████████████████████████| 290/290 [00:07<00:00, 40.27it/s]\n"
     ]
    },
    {
     "name": "stdout",
     "output_type": "stream",
     "text": [
      "[INFO] Loading  coronacases_006.nii.gz\n",
      "[INFO] Volume Size:  (512, 512, 213)\n",
      "[INFO] Loading  coronacases_006.nii.gz\n",
      "[INFO] Volume Size:  (512, 512, 213)\n",
      "[INFO] Loading  coronacases_006.nii.gz\n",
      "[INFO] Volume Size:  (512, 512, 213)\n",
      "[INFO] Valid Data: coronacases_006.nii.gz\n",
      "[INFO] Normalizing Mask...\n"
     ]
    },
    {
     "name": "stderr",
     "output_type": "stream",
     "text": [
      "  8%|██████▍                                                                         | 17/213 [00:00<00:01, 147.64it/s]"
     ]
    },
    {
     "name": "stdout",
     "output_type": "stream",
     "text": [
      "[INFO] Saving...\n"
     ]
    },
    {
     "name": "stderr",
     "output_type": "stream",
     "text": [
      "100%|████████████████████████████████████████████████████████████████████████████████| 213/213 [00:04<00:00, 42.85it/s]\n"
     ]
    },
    {
     "name": "stdout",
     "output_type": "stream",
     "text": [
      "[INFO] Loading  coronacases_007.nii.gz\n",
      "[INFO] Volume Size:  (512, 512, 249)\n",
      "[INFO] Loading  coronacases_007.nii.gz\n",
      "[INFO] Volume Size:  (512, 512, 249)\n",
      "[INFO] Loading  coronacases_007.nii.gz\n",
      "[INFO] Volume Size:  (512, 512, 249)\n",
      "[INFO] Valid Data: coronacases_007.nii.gz\n",
      "[INFO] Normalizing Mask...\n"
     ]
    },
    {
     "name": "stderr",
     "output_type": "stream",
     "text": [
      "  5%|███▉                                                                             | 12/249 [00:00<00:02, 98.98it/s]"
     ]
    },
    {
     "name": "stdout",
     "output_type": "stream",
     "text": [
      "[INFO] Saving...\n"
     ]
    },
    {
     "name": "stderr",
     "output_type": "stream",
     "text": [
      "100%|████████████████████████████████████████████████████████████████████████████████| 249/249 [00:06<00:00, 41.14it/s]\n"
     ]
    },
    {
     "name": "stdout",
     "output_type": "stream",
     "text": [
      "[INFO] Loading  coronacases_008.nii.gz\n",
      "[INFO] Volume Size:  (512, 512, 301)\n",
      "[INFO] Loading  coronacases_008.nii.gz\n",
      "[INFO] Volume Size:  (512, 512, 301)\n",
      "[INFO] Loading  coronacases_008.nii.gz\n",
      "[INFO] Volume Size:  (512, 512, 301)\n"
     ]
    },
    {
     "name": "stderr",
     "output_type": "stream",
     "text": [
      "  6%|█████                                                                           | 19/301 [00:00<00:01, 182.46it/s]"
     ]
    },
    {
     "name": "stdout",
     "output_type": "stream",
     "text": [
      "[INFO] Valid Data: coronacases_008.nii.gz\n",
      "[INFO] Normalizing Mask...\n",
      "[INFO] Saving...\n"
     ]
    },
    {
     "name": "stderr",
     "output_type": "stream",
     "text": [
      "100%|████████████████████████████████████████████████████████████████████████████████| 301/301 [00:07<00:00, 39.83it/s]\n"
     ]
    },
    {
     "name": "stdout",
     "output_type": "stream",
     "text": [
      "[INFO] Loading  coronacases_009.nii.gz\n",
      "[INFO] Volume Size:  (512, 512, 256)\n",
      "[INFO] Loading  coronacases_009.nii.gz\n",
      "[INFO] Volume Size:  (512, 512, 256)\n",
      "[INFO] Loading  coronacases_009.nii.gz\n",
      "[INFO] Volume Size:  (512, 512, 256)\n",
      "[INFO] Valid Data: coronacases_009.nii.gz\n",
      "[INFO] Normalizing Mask...\n"
     ]
    },
    {
     "name": "stderr",
     "output_type": "stream",
     "text": [
      "  4%|██▉                                                                               | 9/256 [00:00<00:03, 75.63it/s]"
     ]
    },
    {
     "name": "stdout",
     "output_type": "stream",
     "text": [
      "[INFO] Saving...\n"
     ]
    },
    {
     "name": "stderr",
     "output_type": "stream",
     "text": [
      "100%|████████████████████████████████████████████████████████████████████████████████| 256/256 [00:06<00:00, 41.82it/s]\n"
     ]
    },
    {
     "name": "stdout",
     "output_type": "stream",
     "text": [
      "[INFO] Loading  coronacases_010.nii.gz\n",
      "[INFO] Volume Size:  (512, 512, 301)\n",
      "[INFO] Loading  coronacases_010.nii.gz\n",
      "[INFO] Volume Size:  (512, 512, 301)\n",
      "[INFO] Loading  coronacases_010.nii.gz\n",
      "[INFO] Volume Size:  (512, 512, 301)\n"
     ]
    },
    {
     "name": "stderr",
     "output_type": "stream",
     "text": [
      "  6%|█████                                                                           | 19/301 [00:00<00:01, 181.66it/s]"
     ]
    },
    {
     "name": "stdout",
     "output_type": "stream",
     "text": [
      "[INFO] Valid Data: coronacases_010.nii.gz\n",
      "[INFO] Normalizing Mask...\n",
      "[INFO] Saving...\n"
     ]
    },
    {
     "name": "stderr",
     "output_type": "stream",
     "text": [
      "100%|████████████████████████████████████████████████████████████████████████████████| 301/301 [00:06<00:00, 43.93it/s]\n"
     ]
    },
    {
     "name": "stdout",
     "output_type": "stream",
     "text": [
      "[INFO] Loading  radiopaedia_10_85902_1.nii.gz\n",
      "[INFO] Volume Size:  (630, 630, 39)\n",
      "[INFO] Loading  radiopaedia_10_85902_1.nii.gz\n",
      "[INFO] Volume Size:  (630, 630, 39)\n",
      "[INFO] Loading  radiopaedia_10_85902_1.nii.gz\n",
      "[INFO] Volume Size:  (630, 630, 39)\n",
      "[INFO] Valid Data: radiopaedia_10_85902_1.nii.gz\n",
      "[INFO] Normalizing Mask...\n",
      "[INFO] Saving...\n"
     ]
    },
    {
     "name": "stderr",
     "output_type": "stream",
     "text": [
      "100%|██████████████████████████████████████████████████████████████████████████████████| 39/39 [00:00<00:00, 41.23it/s]\n"
     ]
    },
    {
     "name": "stdout",
     "output_type": "stream",
     "text": [
      "[INFO] Loading  radiopaedia_10_85902_3.nii.gz\n",
      "[INFO] Volume Size:  (630, 630, 418)\n",
      "[INFO] Loading  radiopaedia_10_85902_3.nii.gz\n",
      "[INFO] Volume Size:  (630, 630, 418)\n",
      "[INFO] Loading  radiopaedia_10_85902_3.nii.gz\n",
      "[INFO] Volume Size:  (630, 630, 418)\n",
      "[INFO] Valid Data: radiopaedia_10_85902_3.nii.gz\n",
      "[INFO] Normalizing Mask...\n"
     ]
    },
    {
     "name": "stderr",
     "output_type": "stream",
     "text": [
      "  8%|██████▌                                                                         | 34/418 [00:00<00:02, 167.57it/s]"
     ]
    },
    {
     "name": "stdout",
     "output_type": "stream",
     "text": [
      "[INFO] Saving...\n"
     ]
    },
    {
     "name": "stderr",
     "output_type": "stream",
     "text": [
      "100%|████████████████████████████████████████████████████████████████████████████████| 418/418 [00:10<00:00, 39.80it/s]\n"
     ]
    },
    {
     "name": "stdout",
     "output_type": "stream",
     "text": [
      "[INFO] Loading  radiopaedia_14_85914_0.nii.gz\n",
      "[INFO] Volume Size:  (630, 401, 110)\n",
      "[INFO] Loading  radiopaedia_14_85914_0.nii.gz\n",
      "[INFO] Volume Size:  (630, 401, 110)\n"
     ]
    },
    {
     "name": "stderr",
     "output_type": "stream",
     "text": [
      "\r",
      "  0%|                                                                                          | 0/110 [00:00<?, ?it/s]"
     ]
    },
    {
     "name": "stdout",
     "output_type": "stream",
     "text": [
      "[INFO] Loading  radiopaedia_14_85914_0.nii.gz\n",
      "[INFO] Volume Size:  (630, 401, 110)\n",
      "[INFO] Valid Data: radiopaedia_14_85914_0.nii.gz\n",
      "[INFO] Normalizing Mask...\n",
      "[INFO] Saving...\n"
     ]
    },
    {
     "name": "stderr",
     "output_type": "stream",
     "text": [
      "100%|████████████████████████████████████████████████████████████████████████████████| 110/110 [00:03<00:00, 35.92it/s]\n"
     ]
    },
    {
     "name": "stdout",
     "output_type": "stream",
     "text": [
      "[INFO] Loading  radiopaedia_27_86410_0.nii.gz\n",
      "[INFO] Volume Size:  (630, 630, 66)\n",
      "[INFO] Loading  radiopaedia_27_86410_0.nii.gz\n",
      "[INFO] Volume Size:  (630, 630, 66)\n",
      "[INFO] Loading  radiopaedia_27_86410_0.nii.gz\n",
      "[INFO] Volume Size:  (630, 630, 66)\n"
     ]
    },
    {
     "name": "stderr",
     "output_type": "stream",
     "text": [
      " 14%|███████████▎                                                                       | 9/66 [00:00<00:00, 69.87it/s]"
     ]
    },
    {
     "name": "stdout",
     "output_type": "stream",
     "text": [
      "[INFO] Valid Data: radiopaedia_27_86410_0.nii.gz\n",
      "[INFO] Normalizing Mask...\n",
      "[INFO] Saving...\n"
     ]
    },
    {
     "name": "stderr",
     "output_type": "stream",
     "text": [
      "100%|██████████████████████████████████████████████████████████████████████████████████| 66/66 [00:01<00:00, 39.11it/s]\n",
      "  0%|                                                                                           | 0/42 [00:00<?, ?it/s]"
     ]
    },
    {
     "name": "stdout",
     "output_type": "stream",
     "text": [
      "[INFO] Loading  radiopaedia_29_86490_1.nii.gz\n",
      "[INFO] Volume Size:  (630, 630, 42)\n",
      "[INFO] Loading  radiopaedia_29_86490_1.nii.gz\n",
      "[INFO] Volume Size:  (630, 630, 42)\n",
      "[INFO] Loading  radiopaedia_29_86490_1.nii.gz\n",
      "[INFO] Volume Size:  (630, 630, 42)\n",
      "[INFO] Valid Data: radiopaedia_29_86490_1.nii.gz\n",
      "[INFO] Normalizing Mask...\n",
      "[INFO] Saving...\n"
     ]
    },
    {
     "name": "stderr",
     "output_type": "stream",
     "text": [
      "100%|██████████████████████████████████████████████████████████████████████████████████| 42/42 [00:00<00:00, 53.43it/s]\n",
      "  0%|                                                                                           | 0/42 [00:00<?, ?it/s]"
     ]
    },
    {
     "name": "stdout",
     "output_type": "stream",
     "text": [
      "[INFO] Loading  radiopaedia_29_86491_1.nii.gz\n",
      "[INFO] Volume Size:  (630, 630, 42)\n",
      "[INFO] Loading  radiopaedia_29_86491_1.nii.gz\n",
      "[INFO] Volume Size:  (630, 630, 42)\n",
      "[INFO] Loading  radiopaedia_29_86491_1.nii.gz\n",
      "[INFO] Volume Size:  (630, 630, 42)\n",
      "[INFO] Valid Data: radiopaedia_29_86491_1.nii.gz\n",
      "[INFO] Normalizing Mask...\n",
      "[INFO] Saving...\n"
     ]
    },
    {
     "name": "stderr",
     "output_type": "stream",
     "text": [
      "100%|██████████████████████████████████████████████████████████████████████████████████| 42/42 [00:00<00:00, 42.14it/s]\n"
     ]
    },
    {
     "name": "stdout",
     "output_type": "stream",
     "text": [
      "[INFO] Loading  radiopaedia_36_86526_0.nii.gz\n",
      "[INFO] Volume Size:  (630, 630, 45)\n",
      "[INFO] Loading  radiopaedia_36_86526_0.nii.gz\n",
      "[INFO] Volume Size:  (630, 630, 45)\n",
      "[INFO] Loading  radiopaedia_36_86526_0.nii.gz\n",
      "[INFO] Volume Size:  (630, 630, 45)\n",
      "[INFO] Valid Data: radiopaedia_36_86526_0.nii.gz\n",
      "[INFO] Normalizing Mask...\n",
      "[INFO] Saving...\n"
     ]
    },
    {
     "name": "stderr",
     "output_type": "stream",
     "text": [
      "100%|██████████████████████████████████████████████████████████████████████████████████| 45/45 [00:01<00:00, 32.36it/s]\n"
     ]
    },
    {
     "name": "stdout",
     "output_type": "stream",
     "text": [
      "[INFO] Loading  radiopaedia_40_86625_0.nii.gz\n",
      "[INFO] Volume Size:  (630, 630, 93)\n",
      "[INFO] Loading  radiopaedia_40_86625_0.nii.gz\n"
     ]
    },
    {
     "name": "stderr",
     "output_type": "stream",
     "text": [
      " 12%|█████████▋                                                                        | 11/93 [00:00<00:00, 90.81it/s]"
     ]
    },
    {
     "name": "stdout",
     "output_type": "stream",
     "text": [
      "[INFO] Volume Size:  (630, 630, 93)\n",
      "[INFO] Loading  radiopaedia_40_86625_0.nii.gz\n",
      "[INFO] Volume Size:  (630, 630, 93)\n",
      "[INFO] Valid Data: radiopaedia_40_86625_0.nii.gz\n",
      "[INFO] Normalizing Mask...\n",
      "[INFO] Saving...\n"
     ]
    },
    {
     "name": "stderr",
     "output_type": "stream",
     "text": [
      "100%|██████████████████████████████████████████████████████████████████████████████████| 93/93 [00:02<00:00, 36.97it/s]\n",
      "  0%|                                                                                           | 0/39 [00:00<?, ?it/s]"
     ]
    },
    {
     "name": "stdout",
     "output_type": "stream",
     "text": [
      "[INFO] Loading  radiopaedia_4_85506_1.nii.gz\n",
      "[INFO] Volume Size:  (630, 630, 39)\n",
      "[INFO] Loading  radiopaedia_4_85506_1.nii.gz\n",
      "[INFO] Volume Size:  (630, 630, 39)\n",
      "[INFO] Loading  radiopaedia_4_85506_1.nii.gz\n",
      "[INFO] Volume Size:  (630, 630, 39)\n",
      "[INFO] Valid Data: radiopaedia_4_85506_1.nii.gz\n",
      "[INFO] Normalizing Mask...\n",
      "[INFO] Saving...\n"
     ]
    },
    {
     "name": "stderr",
     "output_type": "stream",
     "text": [
      "100%|██████████████████████████████████████████████████████████████████████████████████| 39/39 [00:00<00:00, 39.61it/s]\n",
      "  0%|                                                                                           | 0/45 [00:00<?, ?it/s]"
     ]
    },
    {
     "name": "stdout",
     "output_type": "stream",
     "text": [
      "[INFO] Loading  radiopaedia_7_85703_0.nii.gz\n",
      "[INFO] Volume Size:  (630, 630, 45)\n",
      "[INFO] Loading  radiopaedia_7_85703_0.nii.gz\n",
      "[INFO] Volume Size:  (630, 630, 45)\n",
      "[INFO] Loading  radiopaedia_7_85703_0.nii.gz\n",
      "[INFO] Volume Size:  (630, 630, 45)\n",
      "[INFO] Valid Data: radiopaedia_7_85703_0.nii.gz\n",
      "[INFO] Normalizing Mask...\n",
      "[INFO] Saving...\n"
     ]
    },
    {
     "name": "stderr",
     "output_type": "stream",
     "text": [
      "100%|██████████████████████████████████████████████████████████████████████████████████| 45/45 [00:01<00:00, 32.70it/s]\n"
     ]
    },
    {
     "name": "stdout",
     "output_type": "stream",
     "text": [
      "[INFO] Loading  tr_im.nii.gz\n",
      "[INFO] Volume Size:  (512, 512, 100)\n",
      "[INFO] Loading  tr_lungmasks_updated.nii.gz\n",
      "[INFO] Volume Size:  (512, 512, 100)\n",
      "[INFO] Loading  tr_mask.nii.gz\n"
     ]
    },
    {
     "name": "stderr",
     "output_type": "stream",
     "text": [
      "\r",
      "  0%|                                                                                          | 0/100 [00:00<?, ?it/s]"
     ]
    },
    {
     "name": "stdout",
     "output_type": "stream",
     "text": [
      "[INFO] Volume Size:  (512, 512, 100)\n",
      "[INFO] Valid Data: tr_im.nii.gz\n",
      "[INFO] Normalizing Mask...\n",
      "[INFO] Casting to int16 ...\n",
      "[INFO] Saving...\n"
     ]
    },
    {
     "name": "stderr",
     "output_type": "stream",
     "text": [
      "100%|████████████████████████████████████████████████████████████████████████████████| 100/100 [00:02<00:00, 33.66it/s]\n"
     ]
    },
    {
     "name": "stdout",
     "output_type": "stream",
     "text": [
      "[INFO] Loading  1.nii.gz\n",
      "[INFO] Volume Size:  (630, 630, 45)\n",
      "[INFO] Loading  1.nii.gz\n",
      "[INFO] Volume Size:  (630, 630, 45)\n",
      "[INFO] Loading  1.nii.gz\n",
      "[INFO] Volume Size:  (630, 630, 45)\n"
     ]
    },
    {
     "name": "stderr",
     "output_type": "stream",
     "text": [
      " 11%|█████████▏                                                                         | 5/45 [00:00<00:01, 38.89it/s]"
     ]
    },
    {
     "name": "stdout",
     "output_type": "stream",
     "text": [
      "[INFO] Valid Data: 1.nii.gz\n",
      "[INFO] Normalizing Mask...\n",
      "[INFO] Casting to int16 ...\n",
      "[INFO] Saving...\n"
     ]
    },
    {
     "name": "stderr",
     "output_type": "stream",
     "text": [
      "100%|██████████████████████████████████████████████████████████████████████████████████| 45/45 [00:01<00:00, 31.41it/s]\n"
     ]
    },
    {
     "name": "stdout",
     "output_type": "stream",
     "text": [
      "[INFO] Loading  2.nii.gz\n",
      "[INFO] Volume Size:  (630, 630, 39)\n",
      "[INFO] Loading  2.nii.gz\n",
      "[INFO] Volume Size:  (630, 630, 39)\n",
      "[INFO] Loading  2.nii.gz\n",
      "[INFO] Volume Size:  (630, 630, 39)\n",
      "[INFO] Valid Data: 2.nii.gz\n",
      "[INFO] Normalizing Mask...\n"
     ]
    },
    {
     "name": "stderr",
     "output_type": "stream",
     "text": [
      " 18%|██████████████▉                                                                    | 7/39 [00:00<00:00, 64.99it/s]"
     ]
    },
    {
     "name": "stdout",
     "output_type": "stream",
     "text": [
      "[INFO] Casting to int16 ...\n",
      "[INFO] Saving...\n"
     ]
    },
    {
     "name": "stderr",
     "output_type": "stream",
     "text": [
      "100%|██████████████████████████████████████████████████████████████████████████████████| 39/39 [00:00<00:00, 39.89it/s]\n"
     ]
    },
    {
     "name": "stdout",
     "output_type": "stream",
     "text": [
      "[INFO] Loading  3.nii.gz\n",
      "[INFO] Volume Size:  (630, 630, 418)\n",
      "[INFO] Loading  3.nii.gz\n",
      "[INFO] Volume Size:  (630, 630, 418)\n",
      "[INFO] Loading  3.nii.gz\n",
      "[INFO] Volume Size:  (630, 630, 418)\n",
      "[INFO] Valid Data: 3.nii.gz\n",
      "[INFO] Normalizing Mask...\n",
      "[INFO] Casting to int16 ...\n"
     ]
    },
    {
     "name": "stderr",
     "output_type": "stream",
     "text": [
      "  4%|██▊                                                                             | 15/418 [00:00<00:02, 145.27it/s]"
     ]
    },
    {
     "name": "stdout",
     "output_type": "stream",
     "text": [
      "[INFO] Saving...\n"
     ]
    },
    {
     "name": "stderr",
     "output_type": "stream",
     "text": [
      "100%|████████████████████████████████████████████████████████████████████████████████| 418/418 [00:10<00:00, 39.02it/s]\n"
     ]
    },
    {
     "name": "stdout",
     "output_type": "stream",
     "text": [
      "[INFO] Loading  4.nii.gz\n",
      "[INFO] Volume Size:  (630, 630, 39)\n",
      "[INFO] Loading  4.nii.gz\n"
     ]
    },
    {
     "name": "stderr",
     "output_type": "stream",
     "text": [
      "\r",
      "  0%|                                                                                           | 0/39 [00:00<?, ?it/s]"
     ]
    },
    {
     "name": "stdout",
     "output_type": "stream",
     "text": [
      "[INFO] Volume Size:  (630, 630, 39)\n",
      "[INFO] Loading  4.nii.gz\n",
      "[INFO] Volume Size:  (630, 630, 39)\n",
      "[INFO] Valid Data: 4.nii.gz\n",
      "[INFO] Normalizing Mask...\n",
      "[INFO] Casting to int16 ...\n",
      "[INFO] Saving...\n"
     ]
    },
    {
     "name": "stderr",
     "output_type": "stream",
     "text": [
      "100%|██████████████████████████████████████████████████████████████████████████████████| 39/39 [00:01<00:00, 36.47it/s]\n"
     ]
    },
    {
     "name": "stdout",
     "output_type": "stream",
     "text": [
      "[INFO] Loading  5.nii.gz\n"
     ]
    },
    {
     "name": "stderr",
     "output_type": "stream",
     "text": [
      "\r",
      "  0%|                                                                                           | 0/66 [00:00<?, ?it/s]"
     ]
    },
    {
     "name": "stdout",
     "output_type": "stream",
     "text": [
      "[INFO] Volume Size:  (630, 630, 66)\n",
      "[INFO] Loading  5.nii.gz\n",
      "[INFO] Volume Size:  (630, 630, 66)\n",
      "[INFO] Loading  5.nii.gz\n",
      "[INFO] Volume Size:  (630, 630, 66)\n",
      "[INFO] Valid Data: 5.nii.gz\n",
      "[INFO] Normalizing Mask...\n",
      "[INFO] Casting to int16 ...\n",
      "[INFO] Saving...\n"
     ]
    },
    {
     "name": "stderr",
     "output_type": "stream",
     "text": [
      "100%|██████████████████████████████████████████████████████████████████████████████████| 66/66 [00:01<00:00, 34.06it/s]\n"
     ]
    },
    {
     "name": "stdout",
     "output_type": "stream",
     "text": [
      "[INFO] Loading  6.nii.gz\n",
      "[INFO] Volume Size:  (630, 630, 42)\n",
      "[INFO] Loading  6.nii.gz\n",
      "[INFO] Volume Size:  (630, 630, 42)\n",
      "[INFO] Loading  6.nii.gz\n",
      "[INFO] Volume Size:  (630, 630, 42)\n"
     ]
    },
    {
     "name": "stderr",
     "output_type": "stream",
     "text": [
      " 29%|███████████████████████▏                                                         | 12/42 [00:00<00:00, 102.54it/s]"
     ]
    },
    {
     "name": "stdout",
     "output_type": "stream",
     "text": [
      "[INFO] Valid Data: 6.nii.gz\n",
      "[INFO] Normalizing Mask...\n",
      "[INFO] Casting to int16 ...\n",
      "[INFO] Saving...\n"
     ]
    },
    {
     "name": "stderr",
     "output_type": "stream",
     "text": [
      "100%|██████████████████████████████████████████████████████████████████████████████████| 42/42 [00:00<00:00, 48.54it/s]\n"
     ]
    },
    {
     "name": "stdout",
     "output_type": "stream",
     "text": [
      "[INFO] Loading  7.nii.gz\n",
      "[INFO] Volume Size:  (630, 630, 42)\n",
      "[INFO] Loading  7.nii.gz\n",
      "[INFO] Volume Size:  (630, 630, 42)\n"
     ]
    },
    {
     "name": "stderr",
     "output_type": "stream",
     "text": [
      "\r",
      "  0%|                                                                                           | 0/42 [00:00<?, ?it/s]"
     ]
    },
    {
     "name": "stdout",
     "output_type": "stream",
     "text": [
      "[INFO] Loading  7.nii.gz\n",
      "[INFO] Volume Size:  (630, 630, 42)\n",
      "[INFO] Valid Data: 7.nii.gz\n",
      "[INFO] Normalizing Mask...\n",
      "[INFO] Casting to int16 ...\n",
      "[INFO] Saving...\n"
     ]
    },
    {
     "name": "stderr",
     "output_type": "stream",
     "text": [
      "100%|██████████████████████████████████████████████████████████████████████████████████| 42/42 [00:01<00:00, 37.76it/s]\n"
     ]
    },
    {
     "name": "stdout",
     "output_type": "stream",
     "text": [
      "[INFO] Loading  8.nii.gz\n",
      "[INFO] Volume Size:  (630, 630, 45)\n",
      "[INFO] Loading  8.nii.gz\n",
      "[INFO] Volume Size:  (630, 630, 45)\n"
     ]
    },
    {
     "name": "stderr",
     "output_type": "stream",
     "text": [
      "  7%|█████▌                                                                             | 3/45 [00:00<00:01, 29.76it/s]"
     ]
    },
    {
     "name": "stdout",
     "output_type": "stream",
     "text": [
      "[INFO] Loading  8.nii.gz\n",
      "[INFO] Volume Size:  (630, 630, 45)\n",
      "[INFO] Valid Data: 8.nii.gz\n",
      "[INFO] Normalizing Mask...\n",
      "[INFO] Casting to int16 ...\n",
      "[INFO] Saving...\n"
     ]
    },
    {
     "name": "stderr",
     "output_type": "stream",
     "text": [
      "100%|██████████████████████████████████████████████████████████████████████████████████| 45/45 [00:01<00:00, 32.54it/s]\n"
     ]
    },
    {
     "name": "stdout",
     "output_type": "stream",
     "text": [
      "[INFO] Loading  9.nii.gz\n",
      "[INFO] Volume Size:  (630, 630, 93)\n",
      "[INFO] Loading  9.nii.gz\n",
      "[INFO] Volume Size:  (630, 630, 93)\n",
      "[INFO] Loading  9.nii.gz\n",
      "[INFO] Volume Size:  (630, 630, 93)\n",
      "[INFO] Valid Data: 9.nii.gz\n",
      "[INFO] Normalizing Mask...\n",
      "[INFO] Casting to int16 ...\n",
      "[INFO] Saving...\n"
     ]
    },
    {
     "name": "stderr",
     "output_type": "stream",
     "text": [
      "100%|██████████████████████████████████████████████████████████████████████████████████| 93/93 [00:02<00:00, 36.43it/s]\n"
     ]
    }
   ],
   "source": [
    "covid19_ct_lung_and_infection_segmentation()\n",
    "covid19_ct_segmentation_dataset()\n",
    "radiopaedia()"
   ]
  },
  {
   "cell_type": "code",
   "execution_count": 17,
   "id": "ffd44238",
   "metadata": {},
   "outputs": [],
   "source": [
    "datset_path = r\"D:\\YSC2023\\Implementation\\Dataset\"\n",
    "covid_data_path = r\"D:\\YSC2023\\Implementation\\Dataset\\COVID\\Covid\"\n",
    "normal_data_path = r\"D:\\YSC2023\\Implementation\\Dataset\\NONCOVID\\Normal\"\n",
    "\n",
    "def generate_train_validation_test_set():\n",
    "    train_ratio = 0.65\n",
    "    validation_ratio = 0.20\n",
    "    test_ratio = 0.15\n",
    "\n",
    "    images_covid = glob2.glob(os.path.join(covid_data_path, \"*.dcm\"))\n",
    "    images_normal = glob2.glob(os.path.join(normal_data_path, \"*.dcm\"))\n",
    "\n",
    "    covid_length = len(images_covid)\n",
    "    normal_length = len(images_normal)\n",
    "    print(covid_length, normal_length)\n",
    "\n",
    "    images_HU_Covid = []\n",
    "    images_HU_Normal = []\n",
    "    for image in images_covid:\n",
    "        if (os.path.basename(image)).split('_')[0] != \"radiopaedia\":\n",
    "            images_HU_Covid.append(image)\n",
    "    for image in images_normal:\n",
    "        if (os.path.basename(image)).split('_')[0] != \"radiopaedia\":\n",
    "            images_HU_Normal.append(image)\n",
    "\n",
    "    covid_length = len(images_HU_Covid)\n",
    "    normal_length = len(images_HU_Normal)\n",
    "    print(covid_length, normal_length)\n",
    "    images_covid = images_HU_Covid\n",
    "    images_normal = images_HU_Normal\n",
    "\n",
    "    covid_train_end_idx = int(covid_length * train_ratio) - 1 \n",
    "    covid_validation_end_idx = int(covid_length * (train_ratio + validation_ratio)) - 1\n",
    "    normal_train_end_idx = int(normal_length * train_ratio) - 1\n",
    "    normal_validation_end_idx = int(normal_length * (train_ratio + validation_ratio)) - 1\n",
    "    \n",
    "    # Xáo trộn dữ liệu\n",
    "    np.random.shuffle(images_covid)\n",
    "    np.random.shuffle(images_normal)\n",
    "    \n",
    "    # covid\n",
    "    with open(os.path.join(datset_path, \"covid_train.txt\"), \"w\") as f:\n",
    "        for line in images_covid[:covid_train_end_idx]:\n",
    "            f.write(os.path.basename(line)+'\\n')\n",
    "    f.close() \n",
    "\n",
    "    with open(os.path.join(datset_path, \"covid_validation.txt\"), \"w\") as f:\n",
    "        for line in images_covid[covid_train_end_idx:covid_validation_end_idx]:\n",
    "            f.write(os.path.basename(line)+'\\n')\n",
    "    f.close() \n",
    "\n",
    "    with open(os.path.join(datset_path, \"covid_test.txt\"), \"w\") as f:\n",
    "        for line in images_covid[covid_validation_end_idx:]:\n",
    "            f.write(os.path.basename(line)+'\\n')\n",
    "    f.close() \n",
    "\n",
    "    # normal\n",
    "    with open(os.path.join(datset_path, \"normal_train.txt\"), \"w\") as f:\n",
    "        for line in images_normal[:normal_train_end_idx]:\n",
    "            f.write(os.path.basename(line)+'\\n')\n",
    "    f.close() \n",
    "\n",
    "    with open(os.path.join(datset_path, \"normal_validation.txt\"), \"w\") as f:\n",
    "        for line in images_normal[normal_train_end_idx:normal_validation_end_idx]:\n",
    "            f.write(os.path.basename(line)+'\\n')\n",
    "    f.close() \n",
    "\n",
    "    with open(os.path.join(datset_path, \"normal_test.txt\"), \"w\") as f:\n",
    "        for line in images_normal[normal_validation_end_idx:normal_length]:\n",
    "            f.write(os.path.basename(line)+'\\n')\n",
    "    f.close() "
   ]
  },
  {
   "cell_type": "code",
   "execution_count": 18,
   "id": "71f4d220",
   "metadata": {},
   "outputs": [
    {
     "name": "stdout",
     "output_type": "stream",
     "text": [
      "2315 1471\n",
      "1822 1147\n"
     ]
    }
   ],
   "source": [
    "generate_train_validation_test_set()"
   ]
  }
 ],
 "metadata": {
  "kernelspec": {
   "display_name": "Python 3",
   "language": "python",
   "name": "python3"
  },
  "language_info": {
   "codemirror_mode": {
    "name": "ipython",
    "version": 3
   },
   "file_extension": ".py",
   "mimetype": "text/x-python",
   "name": "python",
   "nbconvert_exporter": "python",
   "pygments_lexer": "ipython3",
   "version": "3.8.8"
  }
 },
 "nbformat": 4,
 "nbformat_minor": 5
}
