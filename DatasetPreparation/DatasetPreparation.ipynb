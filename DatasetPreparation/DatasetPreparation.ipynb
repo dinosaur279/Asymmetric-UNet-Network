{
 "cells": [
  {
   "cell_type": "code",
   "execution_count": 1,
   "id": "ff7b1539",
   "metadata": {},
   "outputs": [],
   "source": [
    "# !pip install SimpleITK\n",
    "# !pip install glob2"
   ]
  },
  {
   "cell_type": "code",
   "execution_count": 1,
   "id": "dda3efa2",
   "metadata": {},
   "outputs": [
    {
     "name": "stderr",
     "output_type": "stream",
     "text": [
      "C:\\Users\\ASUS\\anaconda3\\lib\\site-packages\\numpy\\_distributor_init.py:30: UserWarning: loaded more than 1 DLL from .libs:\n",
      "C:\\Users\\ASUS\\anaconda3\\lib\\site-packages\\numpy\\.libs\\libopenblas.NOIJJG62EMASZI6NYURL6JBKM4EVBGM7.gfortran-win_amd64.dll\n",
      "C:\\Users\\ASUS\\anaconda3\\lib\\site-packages\\numpy\\.libs\\libopenblas.XWYDX2IKJW2NMTWSFYNGFUWKQU3LYTCZ.gfortran-win_amd64.dll\n",
      "  warnings.warn(\"loaded more than 1 DLL from .libs:\"\n"
     ]
    }
   ],
   "source": [
    "import SimpleITK as sitk\n",
    "import os\n",
    "from tqdm import tqdm\n",
    "import numpy as np\n",
    "import glob2"
   ]
  },
  {
   "cell_type": "code",
   "execution_count": 3,
   "id": "4bc709af",
   "metadata": {},
   "outputs": [],
   "source": [
    "WRITER = sitk.ImageFileWriter()\n",
    "WRITER.KeepOriginalImageUIDOn()\n",
    "def write_dicom(slide, slides_name, output_path, i):\n",
    "    global WRITER\n",
    "    file_name = f\"{slides_name.split('.')[0]}_{i}.dcm\"\n",
    "    if os.path.isfile(os.path.join(output_path, file_name)):\n",
    "        print('[INFO] Alert Filename Duplicated!____________________________________________')\n",
    "    else:\n",
    "        WRITER.SetFileName(os.path.join(output_path, file_name))\n",
    "        WRITER.Execute(slide)"
   ]
  },
  {
   "cell_type": "code",
   "execution_count": 4,
   "id": "60b32abf",
   "metadata": {},
   "outputs": [],
   "source": [
    "def load_nii_format_volume (input_path):\n",
    "    file_name = os.path.basename(input_path)\n",
    "    print(\"[INFO] Loading \", file_name)\n",
    "\n",
    "    reader = sitk.ImageFileReader()\n",
    "    reader.SetImageIO(\"NiftiImageIO\")\n",
    "    reader.SetFileName(input_path)\n",
    "    slides = reader.Execute()\n",
    "\n",
    "    print(\"[INFO] Volume Size: \", slides.GetSize())\n",
    "    return slides, file_name"
   ]
  },
  {
   "cell_type": "code",
   "execution_count": 5,
   "id": "4de96c44",
   "metadata": {},
   "outputs": [],
   "source": [
    "# StatisticsImageFilter computes the minimum, maximum, sum, sum of squares, mean, variance sigma of an image\n",
    "STATIC_IMAGE_FILTER = sitk.StatisticsImageFilter()\n",
    "def is_black_mask(slide_mask):\n",
    "    STATIC_IMAGE_FILTER.Execute(slide_mask) # Execute the filter on the input image\n",
    "    max_value = STATIC_IMAGE_FILTER.GetMaximum() # Return the computed Maximum.\n",
    "    if max_value > 0.0:\n",
    "        return False\n",
    "    else:\n",
    "        return True"
   ]
  },
  {
   "cell_type": "code",
   "execution_count": 6,
   "id": "fb66ba04",
   "metadata": {},
   "outputs": [],
   "source": [
    "THRESHOLD_FILTER = sitk.ThresholdImageFilter()\n",
    "THRESHOLD_FILTER.SetLower(0.0)\n",
    "THRESHOLD_FILTER.SetLower(0.0)\n",
    "THRESHOLD_FILTER.SetOutsideValue(1.0)\n",
    "def normalize_mask(slide_mask):\n",
    "    global THRESHOLD_FILTER\n",
    "    slide_mask = THRESHOLD_FILTER.Execute(slide_mask)\n",
    "    return slide_mask"
   ]
  },
  {
   "cell_type": "code",
   "execution_count": 7,
   "id": "878e408d",
   "metadata": {},
   "outputs": [],
   "source": [
    "def covid19_ct_lung_and_infection_segmentation(\n",
    "    input_ct_dir=r'D:\\YSC2023\\Dataset\\COVID-19 CT Lung and Infection Segmentation Dataset\\COVID-19-CT-Seg_20cases',\n",
    "    input_lungmask_dir=r'D:\\YSC2023\\Dataset\\COVID-19 CT Lung and Infection Segmentation Dataset\\Lung_Mask',\n",
    "    input_lesionmask_dir=r'D:\\YSC2023\\Dataset\\COVID-19 CT Lung and Infection Segmentation Dataset\\Infection_Mask',\n",
    "    output_covid_ct_dir=r'D:\\YSC2023\\Implementation\\Dataset\\COVID\\Covid',\n",
    "    output_covid_lungmask_dir=r'D:\\YSC2023\\Implementation\\Dataset\\COVID\\Covid_LungMask',\n",
    "    output_covid_lesionmask_dir=r'D:\\YSC2023\\Implementation\\Dataset\\COVID\\Covid_LesionMask',\n",
    "    output_normal_ct_dir=r'D:\\YSC2023\\Implementation\\Dataset\\NONCOVID\\Normal',\n",
    "    output_normal_lungmask_dir=r'D:\\YSC2023\\Implementation\\Dataset\\NONCOVID\\Normal_LungMask'\n",
    "):\n",
    "    for filename in os.listdir(input_ct_dir):\n",
    "        slides_ct, slides_ct_name = load_nii_format_volume(os.path.join(input_ct_dir, filename))\n",
    "        slides_lungmask, slides_lungmask_name = load_nii_format_volume(os.path.join(input_lungmask_dir, filename))\n",
    "        slides_lesionmask, slides_lesionmask_name = load_nii_format_volume(os.path.join(input_lesionmask_dir, filename))\n",
    "        if (slides_ct.GetDepth() == slides_lungmask.GetDepth() and slides_ct.GetDepth() == slides_lesionmask.GetDepth()):\n",
    "            print('[INFO] Valid Data:', slides_ct_name)\n",
    "            print('[INFO] Normalizing Mask...')\n",
    "            slides_lungmask = normalize_mask(slides_lungmask)\n",
    "            slides_lesionmask = normalize_mask(slides_lesionmask)\n",
    "            print('[INFO] Saving...')\n",
    "            for i in tqdm(range(slides_ct.GetDepth())):\n",
    "                if not is_black_mask(slides_lungmask[:,:,i]):\n",
    "                    if not is_black_mask(slides_lesionmask[:,:,i]):\n",
    "                        write_dicom(slides_ct[:,:,i], slides_ct_name, output_covid_ct_dir, i)\n",
    "                        write_dicom(slides_lungmask[:,:,i], slides_ct_name, output_covid_lungmask_dir, i)\n",
    "                        write_dicom(slides_lesionmask[:,:,i], slides_ct_name, output_covid_lesionmask_dir, i)\n",
    "                    else:\n",
    "                        write_dicom(slides_ct[:,:,i], slides_ct_name, output_normal_ct_dir, i)\n",
    "                        write_dicom(slides_lungmask[:,:,i], slides_ct_name, output_normal_lungmask_dir, i)\n",
    "        else:\n",
    "            print('[INFO] Invalid Data:', slides_ct_name)\n",
    "            break"
   ]
  },
  {
   "cell_type": "code",
   "execution_count": 8,
   "id": "ec94140c",
   "metadata": {},
   "outputs": [],
   "source": [
    "CAST_FILTER = sitk.CastImageFilter()\n",
    "CAST_FILTER.SetOutputPixelType(sitk.sitkInt16)\n",
    "def covid19_ct_segmentation_dataset(\n",
    "    input_ct_file=r'D:\\YSC2023\\Dataset\\COVID-19 CT segmentation dataset\\tr_im.nii.gz',\n",
    "    input_lungmask_file=r'D:\\YSC2023\\Dataset\\COVID-19 CT segmentation dataset\\tr_lungmasks_updated.nii.gz',\n",
    "    input_lesionmask_file=r'D:\\YSC2023\\Dataset\\COVID-19 CT segmentation dataset\\tr_mask.nii.gz',\n",
    "    output_covid_ct_dir=r'D:\\YSC2023\\Implementation\\Dataset\\COVID\\Covid',\n",
    "    output_covid_lungmask_dir=r'D:\\YSC2023\\Implementation\\Dataset\\COVID\\Covid_LungMask',\n",
    "    output_covid_lesionmask_dir=r'D:\\YSC2023\\Implementation\\Dataset\\COVID\\Covid_LesionMask',\n",
    "    output_normal_ct_dir=r'D:\\YSC2023\\Implementation\\Dataset\\NONCOVID\\Normal',\n",
    "    output_normal_lungmask_dir=r'D:\\YSC2023\\Implementation\\Dataset\\NONCOVID\\Normal_LungMask'\n",
    "):\n",
    "    global CAST_FILTER\n",
    "    slides_ct, slides_ct_name = load_nii_format_volume(input_ct_file)\n",
    "    slides_lungmask, slides_lungmask_name = load_nii_format_volume(input_lungmask_file)\n",
    "    slides_lesionmask, slides_lesionmask_name = load_nii_format_volume(input_lesionmask_file)\n",
    "    if (slides_ct.GetDepth() == slides_lungmask.GetDepth() and slides_ct.GetDepth() == slides_lesionmask.GetDepth()):\n",
    "        print('[INFO] Valid Data:', slides_ct_name)\n",
    "        print('[INFO] Normalizing Mask...')\n",
    "        slides_lungmask = normalize_mask(slides_lungmask)\n",
    "        slides_lesionmask = normalize_mask(slides_lesionmask)\n",
    "        print('[INFO] Casting to int16 ...')\n",
    "        slides_ct = CAST_FILTER.Execute(slides_ct)\n",
    "        slides_lungmask = CAST_FILTER.Execute(slides_lungmask)\n",
    "        slides_lesionmask = CAST_FILTER.Execute(slides_lesionmask)\n",
    "        print('[INFO] Saving...')\n",
    "        for i in tqdm(range(slides_ct.GetDepth())):\n",
    "            if not is_black_mask(slides_lungmask[:,:,i]):\n",
    "                if not is_black_mask(slides_lesionmask[:,:,i]):\n",
    "                    write_dicom(slides_ct[:,:,i], slides_ct_name, output_covid_ct_dir, i)\n",
    "                    write_dicom(slides_lungmask[:,:,i], slides_ct_name, output_covid_lungmask_dir, i)\n",
    "                    write_dicom(slides_lesionmask[:,:,i], slides_ct_name, output_covid_lesionmask_dir, i)\n",
    "                else:\n",
    "                    write_dicom(slides_ct[:,:,i], slides_ct_name, output_normal_ct_dir, i)\n",
    "                    write_dicom(slides_lungmask[:,:,i], slides_ct_name, output_normal_lungmask_dir, i)\n",
    "    else:\n",
    "        print('[INFO] Invalid Data:', slides_ct_name)"
   ]
  },
  {
   "cell_type": "code",
   "execution_count": 9,
   "id": "cd7b120d",
   "metadata": {},
   "outputs": [],
   "source": [
    "def radiopaedia(\n",
    "    input_ct_dir=r'D:\\YSC2023\\Dataset\\Radiopaedia\\rp_im',\n",
    "    input_lungmask_dir=r'D:\\YSC2023\\Dataset\\Radiopaedia\\rp_lung_msk',\n",
    "    input_lesionmask_dir=r'D:\\YSC2023\\Dataset\\Radiopaedia\\rp_msk',\n",
    "    output_covid_ct_dir=r'D:\\YSC2023\\Implementation\\Dataset\\COVID\\Covid',\n",
    "    output_covid_lungmask_dir=r'D:\\YSC2023\\Implementation\\Dataset\\COVID\\Covid_LungMask',\n",
    "    output_covid_lesionmask_dir=r'D:\\YSC2023\\Implementation\\Dataset\\COVID\\Covid_LesionMask',\n",
    "    output_normal_ct_dir=r'D:\\YSC2023\\Implementation\\Dataset\\NONCOVID\\Normal',\n",
    "    output_normal_lungmask_dir=r'D:\\YSC2023\\Implementation\\Dataset\\NONCOVID\\Normal_LungMask'\n",
    "):\n",
    "    for filename in os.listdir(input_ct_dir):\n",
    "        slides_ct, slides_ct_name = load_nii_format_volume(os.path.join(input_ct_dir, filename))\n",
    "        slides_lungmask, slides_lungmask_name = load_nii_format_volume(os.path.join(input_lungmask_dir, filename))\n",
    "        slides_lesionmask, slides_lesionmask_name = load_nii_format_volume(os.path.join(input_lesionmask_dir, filename))\n",
    "        if (slides_ct.GetDepth() == slides_lungmask.GetDepth() and slides_ct.GetDepth() == slides_lesionmask.GetDepth()):\n",
    "            print('[INFO] Valid Data:', slides_ct_name)\n",
    "            print('[INFO] Normalizing Mask...')\n",
    "            slides_lungmask = normalize_mask(slides_lungmask)\n",
    "            slides_lesionmask = normalize_mask(slides_lesionmask)\n",
    "            print('[INFO] Casting to int16 ...')\n",
    "            slides_ct = CAST_FILTER.Execute(slides_ct)\n",
    "            slides_lungmask = CAST_FILTER.Execute(slides_lungmask)\n",
    "            slides_lesionmask = CAST_FILTER.Execute(slides_lesionmask)\n",
    "            print('[INFO] Saving...')\n",
    "            for i in tqdm(range(slides_ct.GetDepth())):\n",
    "                if not is_black_mask(slides_lungmask[:,:,i]):\n",
    "                    if not is_black_mask(slides_lesionmask[:,:,i]):\n",
    "                        write_dicom(slides_ct[:,:,i], slides_ct_name, output_covid_ct_dir, i)\n",
    "                        write_dicom(slides_lungmask[:,:,i], slides_ct_name, output_covid_lungmask_dir, i)\n",
    "                        write_dicom(slides_lesionmask[:,:,i], slides_ct_name, output_covid_lesionmask_dir, i)\n",
    "                    else:\n",
    "                        write_dicom(slides_ct[:,:,i], slides_ct_name, output_normal_ct_dir, i)\n",
    "                        write_dicom(slides_lungmask[:,:,i], slides_ct_name, output_normal_lungmask_dir, i)\n",
    "        else:\n",
    "            print('[INFO] Invalid Data:', slides_ct_name)\n",
    "            break"
   ]
  },
  {
   "cell_type": "code",
   "execution_count": 10,
   "id": "7a4a19a5",
   "metadata": {},
   "outputs": [],
   "source": [
    "def mosmed(\n",
    "    input_ct_dir=r'D:\\YSC2023\\Dataset\\MosMed\\studies\\CT_1',\n",
    "    input_lungmask_dir=r'D:\\YSC2023\\Dataset\\MosMed\\lung_masks',\n",
    "    input_lesionmask_dir=r'D:\\YSC2023\\Dataset\\MosMed\\masks',\n",
    "    output_covid_ct_dir=r'D:\\YSC2023\\Implementation\\Dataset\\COVID\\Covid',\n",
    "    output_covid_lungmask_dir=r'D:\\YSC2023\\Implementation\\Dataset\\COVID\\Covid_LungMask',\n",
    "    output_covid_lesionmask_dir=r'D:\\YSC2023\\Implementation\\Dataset\\COVID\\Covid_LesionMask',\n",
    "    output_normal_ct_dir=r'D:\\YSC2023\\Implementation\\Dataset\\NONCOVID\\Normal',\n",
    "    output_normal_lungmask_dir=r'D:\\YSC2023\\Implementation\\Dataset\\NONCOVID\\Normal_LungMask'\n",
    "):\n",
    "    for filename in os.listdir(input_ct_dir):\n",
    "        slides_ct, slides_ct_name = load_nii_format_volume(os.path.join(input_ct_dir, filename))\n",
    "        slides_lungmask, slides_lungmask_name = load_nii_format_volume(os.path.join(input_lungmask_dir, filename.replace(\".nii.gz\", \"_lungmask_.nii.gz\")))\n",
    "        slides_lesionmask, slides_lesionmask_name = load_nii_format_volume(os.path.join(input_lesionmask_dir, filename.replace(\".nii.gz\", \"_mask.nii\")))\n",
    "        if (slides_ct.GetDepth() == slides_lungmask.GetDepth() and slides_ct.GetDepth() == slides_lesionmask.GetDepth()):\n",
    "            print('[INFO] Valid Data:', slides_ct_name)\n",
    "            print('[INFO] Normalizing Mask...')\n",
    "            slides_lungmask = normalize_mask(slides_lungmask)\n",
    "            slides_lesionmask = normalize_mask(slides_lesionmask)\n",
    "            print('[INFO] Saving...')\n",
    "            for i in tqdm(range(slides_ct.GetDepth())):\n",
    "                if not is_black_mask(slides_lungmask[:,:,i]):\n",
    "                    if not is_black_mask(slides_lesionmask[:,:,i]):\n",
    "                        write_dicom(slides_ct[:,:,i], slides_ct_name, output_covid_ct_dir, i)\n",
    "                        write_dicom(slides_lungmask[:,:,i], slides_ct_name, output_covid_lungmask_dir, i)\n",
    "                        write_dicom(slides_lesionmask[:,:,i], slides_ct_name, output_covid_lesionmask_dir, i)\n",
    "                    else:\n",
    "                        write_dicom(slides_ct[:,:,i], slides_ct_name, output_normal_ct_dir, i)\n",
    "                        write_dicom(slides_lungmask[:,:,i], slides_ct_name, output_normal_lungmask_dir, i)\n",
    "        else:\n",
    "            print('[INFO] Invalid Data:', slides_ct_name)\n",
    "            break"
   ]
  },
  {
   "cell_type": "code",
   "execution_count": 11,
   "id": "645ae438",
   "metadata": {},
   "outputs": [],
   "source": [
    "def covid_ct_md_normal(\n",
    "    input_ct_dir=r'D:\\YSC2023\\Dataset\\COVID-CT-MD\\NIfTI\\Normal',\n",
    "    input_lungmask_dir=r'D:\\YSC2023\\Dataset\\COVID-CT-MD\\NIfTI\\Normal_LungMask',\n",
    "    output_normal_ct_dir=r'D:\\YSC2023\\Implementation\\Dataset\\NONCOVID\\Normal',\n",
    "    output_normal_lungmask_dir=r'D:\\YSC2023\\Implementation\\Dataset\\NONCOVID\\Normal_LungMask'\n",
    "):\n",
    "    for filename in os.listdir(input_ct_dir):\n",
    "        slides_ct, slides_ct_name = load_nii_format_volume(os.path.join(input_ct_dir, filename))\n",
    "        slides_lungmask, slides_lungmask_name = load_nii_format_volume(os.path.join(input_lungmask_dir, filename.replace(\".nii.gz\", \"_lungmask_.nii\")))\n",
    "        if (slides_ct.GetDepth() == slides_lungmask.GetDepth()):\n",
    "            print('[INFO] Valid Data:', slides_ct_name)\n",
    "            print('[INFO] Normalizing Mask...')\n",
    "            slides_lungmask = normalize_mask(slides_lungmask)\n",
    "            print('[INFO] Saving...')\n",
    "            for i in tqdm(range(slides_ct.GetDepth())):\n",
    "                if not is_black_mask(slides_lungmask[:,:,i]):\n",
    "                    write_dicom(slides_ct[:,:,i], slides_ct_name, output_normal_ct_dir, i)\n",
    "                    write_dicom(slides_lungmask[:,:,i], slides_ct_name, output_normal_lungmask_dir, i)\n",
    "        else:\n",
    "            print('[INFO] Invalid Data:', slides_ct_name)\n",
    "            break"
   ]
  },
  {
   "cell_type": "code",
   "execution_count": 12,
   "id": "01f5e22f",
   "metadata": {},
   "outputs": [],
   "source": [
    "def covid_ct_md_cap(\n",
    "    input_ct_dir=r'D:\\YSC2023\\Dataset\\COVID-CT-MD\\NIfTI\\CAP',\n",
    "    input_lungmask_dir=r'D:\\YSC2023\\Dataset\\COVID-CT-MD\\NIfTI\\CAP_LungMask',\n",
    "    output_normal_ct_dir=r'D:\\YSC2023\\Implementation\\Dataset\\NONCOVID\\CAP',\n",
    "    output_normal_lungmask_dir=r'D:\\YSC2023\\Implementation\\Dataset\\NONCOVID\\CAP_LungMask'\n",
    "):\n",
    "    for filename in os.listdir(input_ct_dir):\n",
    "        slides_ct, slides_ct_name = load_nii_format_volume(os.path.join(input_ct_dir, filename))\n",
    "        slides_lungmask, slides_lungmask_name = load_nii_format_volume(os.path.join(input_lungmask_dir, filename.replace(\".nii.gz\", \"_lungmask_.nii\")))\n",
    "        if (slides_ct.GetDepth() == slides_lungmask.GetDepth()):\n",
    "            print('[INFO] Valid Data:', slides_ct_name)\n",
    "            print('[INFO] Normalizing Mask...')\n",
    "            slides_lungmask = normalize_mask(slides_lungmask)\n",
    "            print('[INFO] Saving...')\n",
    "            for i in tqdm(range(slides_ct.GetDepth())):\n",
    "                if not is_black_mask(slides_lungmask[:,:,i]):\n",
    "                    write_dicom(slides_ct[:,:,i], slides_ct_name, output_normal_ct_dir, i)\n",
    "                    write_dicom(slides_lungmask[:,:,i], slides_ct_name, output_normal_lungmask_dir, i)\n",
    "        else:\n",
    "            print('[INFO] Invalid Data:', slides_ct_name)\n",
    "            break"
   ]
  },
  {
   "cell_type": "code",
   "execution_count": 13,
   "id": "c9ff6d26",
   "metadata": {},
   "outputs": [
    {
     "name": "stdout",
     "output_type": "stream",
     "text": [
      "[INFO] Loading  coronacases_001.nii.gz\n",
      "[INFO] Volume Size:  (512, 512, 301)\n",
      "[INFO] Loading  coronacases_001.nii.gz\n",
      "[INFO] Volume Size:  (512, 512, 301)\n",
      "[INFO] Loading  coronacases_001.nii.gz\n"
     ]
    },
    {
     "name": "stderr",
     "output_type": "stream",
     "text": [
      "\r",
      "  0%|                                                                                          | 0/301 [00:00<?, ?it/s]"
     ]
    },
    {
     "name": "stdout",
     "output_type": "stream",
     "text": [
      "[INFO] Volume Size:  (512, 512, 301)\n",
      "[INFO] Valid Data: coronacases_001.nii.gz\n",
      "[INFO] Normalizing Mask...\n",
      "[INFO] Saving...\n"
     ]
    },
    {
     "name": "stderr",
     "output_type": "stream",
     "text": [
      "100%|████████████████████████████████████████████████████████████████████████████████| 301/301 [00:06<00:00, 44.41it/s]\n"
     ]
    },
    {
     "name": "stdout",
     "output_type": "stream",
     "text": [
      "[INFO] Loading  coronacases_002.nii.gz\n",
      "[INFO] Volume Size:  (512, 512, 200)\n",
      "[INFO] Loading  coronacases_002.nii.gz\n",
      "[INFO] Volume Size:  (512, 512, 200)\n",
      "[INFO] Loading  coronacases_002.nii.gz\n",
      "[INFO] Volume Size:  (512, 512, 200)\n",
      "[INFO] Valid Data: coronacases_002.nii.gz\n",
      "[INFO] Normalizing Mask...\n"
     ]
    },
    {
     "name": "stderr",
     "output_type": "stream",
     "text": [
      "  5%|████                                                                             | 10/200 [00:00<00:01, 97.06it/s]"
     ]
    },
    {
     "name": "stdout",
     "output_type": "stream",
     "text": [
      "[INFO] Saving...\n"
     ]
    },
    {
     "name": "stderr",
     "output_type": "stream",
     "text": [
      "100%|████████████████████████████████████████████████████████████████████████████████| 200/200 [00:04<00:00, 40.75it/s]\n"
     ]
    },
    {
     "name": "stdout",
     "output_type": "stream",
     "text": [
      "[INFO] Loading  coronacases_003.nii.gz\n",
      "[INFO] Volume Size:  (512, 512, 200)\n",
      "[INFO] Loading  coronacases_003.nii.gz\n",
      "[INFO] Volume Size:  (512, 512, 200)\n",
      "[INFO] Loading  coronacases_003.nii.gz\n",
      "[INFO] Volume Size:  (512, 512, 200)\n",
      "[INFO] Valid Data: coronacases_003.nii.gz\n",
      "[INFO] Normalizing Mask...\n"
     ]
    },
    {
     "name": "stderr",
     "output_type": "stream",
     "text": [
      "  9%|███████▏                                                                        | 18/200 [00:00<00:01, 174.72it/s]"
     ]
    },
    {
     "name": "stdout",
     "output_type": "stream",
     "text": [
      "[INFO] Saving...\n"
     ]
    },
    {
     "name": "stderr",
     "output_type": "stream",
     "text": [
      "100%|████████████████████████████████████████████████████████████████████████████████| 200/200 [00:04<00:00, 43.08it/s]\n"
     ]
    },
    {
     "name": "stdout",
     "output_type": "stream",
     "text": [
      "[INFO] Loading  coronacases_004.nii.gz\n",
      "[INFO] Volume Size:  (512, 512, 270)\n",
      "[INFO] Loading  coronacases_004.nii.gz\n",
      "[INFO] Volume Size:  (512, 512, 270)\n",
      "[INFO] Loading  coronacases_004.nii.gz\n",
      "[INFO] Volume Size:  (512, 512, 270)\n"
     ]
    },
    {
     "name": "stderr",
     "output_type": "stream",
     "text": [
      "  1%|█▏                                                                                | 4/270 [00:00<00:06, 39.99it/s]"
     ]
    },
    {
     "name": "stdout",
     "output_type": "stream",
     "text": [
      "[INFO] Valid Data: coronacases_004.nii.gz\n",
      "[INFO] Normalizing Mask...\n",
      "[INFO] Saving...\n"
     ]
    },
    {
     "name": "stderr",
     "output_type": "stream",
     "text": [
      "100%|████████████████████████████████████████████████████████████████████████████████| 270/270 [00:07<00:00, 38.12it/s]\n"
     ]
    },
    {
     "name": "stdout",
     "output_type": "stream",
     "text": [
      "[INFO] Loading  coronacases_005.nii.gz\n",
      "[INFO] Volume Size:  (512, 512, 290)\n",
      "[INFO] Loading  coronacases_005.nii.gz\n",
      "[INFO] Volume Size:  (512, 512, 290)\n",
      "[INFO] Loading  coronacases_005.nii.gz\n"
     ]
    },
    {
     "name": "stderr",
     "output_type": "stream",
     "text": [
      "\r",
      "  0%|                                                                                          | 0/290 [00:00<?, ?it/s]"
     ]
    },
    {
     "name": "stdout",
     "output_type": "stream",
     "text": [
      "[INFO] Volume Size:  (512, 512, 290)\n",
      "[INFO] Valid Data: coronacases_005.nii.gz\n",
      "[INFO] Normalizing Mask...\n",
      "[INFO] Saving...\n"
     ]
    },
    {
     "name": "stderr",
     "output_type": "stream",
     "text": [
      "100%|████████████████████████████████████████████████████████████████████████████████| 290/290 [00:06<00:00, 42.64it/s]\n"
     ]
    },
    {
     "name": "stdout",
     "output_type": "stream",
     "text": [
      "[INFO] Loading  coronacases_006.nii.gz\n",
      "[INFO] Volume Size:  (512, 512, 213)\n",
      "[INFO] Loading  coronacases_006.nii.gz\n",
      "[INFO] Volume Size:  (512, 512, 213)\n",
      "[INFO] Loading  coronacases_006.nii.gz\n",
      "[INFO] Volume Size:  (512, 512, 213)\n",
      "[INFO] Valid Data: coronacases_006.nii.gz\n"
     ]
    },
    {
     "name": "stderr",
     "output_type": "stream",
     "text": [
      "  8%|██████▍                                                                         | 17/213 [00:00<00:01, 168.28it/s]"
     ]
    },
    {
     "name": "stdout",
     "output_type": "stream",
     "text": [
      "[INFO] Normalizing Mask...\n",
      "[INFO] Saving...\n"
     ]
    },
    {
     "name": "stderr",
     "output_type": "stream",
     "text": [
      "100%|████████████████████████████████████████████████████████████████████████████████| 213/213 [00:04<00:00, 46.68it/s]\n"
     ]
    },
    {
     "name": "stdout",
     "output_type": "stream",
     "text": [
      "[INFO] Loading  coronacases_007.nii.gz\n",
      "[INFO] Volume Size:  (512, 512, 249)\n",
      "[INFO] Loading  coronacases_007.nii.gz\n",
      "[INFO] Volume Size:  (512, 512, 249)\n",
      "[INFO] Loading  coronacases_007.nii.gz\n",
      "[INFO] Volume Size:  (512, 512, 249)\n",
      "[INFO] Valid Data: coronacases_007.nii.gz\n",
      "[INFO] Normalizing Mask...\n"
     ]
    },
    {
     "name": "stderr",
     "output_type": "stream",
     "text": [
      "  5%|████▏                                                                           | 13/249 [00:00<00:02, 112.04it/s]"
     ]
    },
    {
     "name": "stdout",
     "output_type": "stream",
     "text": [
      "[INFO] Saving...\n"
     ]
    },
    {
     "name": "stderr",
     "output_type": "stream",
     "text": [
      "100%|████████████████████████████████████████████████████████████████████████████████| 249/249 [00:05<00:00, 45.21it/s]\n"
     ]
    },
    {
     "name": "stdout",
     "output_type": "stream",
     "text": [
      "[INFO] Loading  coronacases_008.nii.gz\n",
      "[INFO] Volume Size:  (512, 512, 301)\n",
      "[INFO] Loading  coronacases_008.nii.gz\n",
      "[INFO] Volume Size:  (512, 512, 301)\n",
      "[INFO] Loading  coronacases_008.nii.gz\n"
     ]
    },
    {
     "name": "stderr",
     "output_type": "stream",
     "text": [
      "\r",
      "  0%|                                                                                          | 0/301 [00:00<?, ?it/s]"
     ]
    },
    {
     "name": "stdout",
     "output_type": "stream",
     "text": [
      "[INFO] Volume Size:  (512, 512, 301)\n",
      "[INFO] Valid Data: coronacases_008.nii.gz\n",
      "[INFO] Normalizing Mask...\n",
      "[INFO] Saving...\n"
     ]
    },
    {
     "name": "stderr",
     "output_type": "stream",
     "text": [
      "100%|████████████████████████████████████████████████████████████████████████████████| 301/301 [00:06<00:00, 43.08it/s]\n"
     ]
    },
    {
     "name": "stdout",
     "output_type": "stream",
     "text": [
      "[INFO] Loading  coronacases_009.nii.gz\n",
      "[INFO] Volume Size:  (512, 512, 256)\n",
      "[INFO] Loading  coronacases_009.nii.gz\n",
      "[INFO] Volume Size:  (512, 512, 256)\n",
      "[INFO] Loading  coronacases_009.nii.gz\n"
     ]
    },
    {
     "name": "stderr",
     "output_type": "stream",
     "text": [
      "  4%|██▉                                                                               | 9/256 [00:00<00:03, 80.35it/s]"
     ]
    },
    {
     "name": "stdout",
     "output_type": "stream",
     "text": [
      "[INFO] Volume Size:  (512, 512, 256)\n",
      "[INFO] Valid Data: coronacases_009.nii.gz\n",
      "[INFO] Normalizing Mask...\n",
      "[INFO] Saving...\n"
     ]
    },
    {
     "name": "stderr",
     "output_type": "stream",
     "text": [
      "100%|████████████████████████████████████████████████████████████████████████████████| 256/256 [00:05<00:00, 45.07it/s]\n"
     ]
    },
    {
     "name": "stdout",
     "output_type": "stream",
     "text": [
      "[INFO] Loading  coronacases_010.nii.gz\n",
      "[INFO] Volume Size:  (512, 512, 301)\n",
      "[INFO] Loading  coronacases_010.nii.gz\n",
      "[INFO] Volume Size:  (512, 512, 301)\n",
      "[INFO] Loading  coronacases_010.nii.gz\n"
     ]
    },
    {
     "name": "stderr",
     "output_type": "stream",
     "text": [
      "  7%|█████▎                                                                          | 20/301 [00:00<00:01, 197.23it/s]"
     ]
    },
    {
     "name": "stdout",
     "output_type": "stream",
     "text": [
      "[INFO] Volume Size:  (512, 512, 301)\n",
      "[INFO] Valid Data: coronacases_010.nii.gz\n",
      "[INFO] Normalizing Mask...\n",
      "[INFO] Saving...\n"
     ]
    },
    {
     "name": "stderr",
     "output_type": "stream",
     "text": [
      "100%|████████████████████████████████████████████████████████████████████████████████| 301/301 [00:06<00:00, 48.85it/s]\n",
      "  0%|                                                                                           | 0/39 [00:00<?, ?it/s]"
     ]
    },
    {
     "name": "stdout",
     "output_type": "stream",
     "text": [
      "[INFO] Loading  radiopaedia_10_85902_1.nii.gz\n",
      "[INFO] Volume Size:  (630, 630, 39)\n",
      "[INFO] Loading  radiopaedia_10_85902_1.nii.gz\n",
      "[INFO] Volume Size:  (630, 630, 39)\n",
      "[INFO] Loading  radiopaedia_10_85902_1.nii.gz\n",
      "[INFO] Volume Size:  (630, 630, 39)\n",
      "[INFO] Valid Data: radiopaedia_10_85902_1.nii.gz\n",
      "[INFO] Normalizing Mask...\n",
      "[INFO] Saving...\n"
     ]
    },
    {
     "name": "stderr",
     "output_type": "stream",
     "text": [
      "100%|██████████████████████████████████████████████████████████████████████████████████| 39/39 [00:00<00:00, 41.41it/s]\n"
     ]
    },
    {
     "name": "stdout",
     "output_type": "stream",
     "text": [
      "[INFO] Loading  radiopaedia_10_85902_3.nii.gz\n",
      "[INFO] Volume Size:  (630, 630, 418)\n",
      "[INFO] Loading  radiopaedia_10_85902_3.nii.gz\n",
      "[INFO] Volume Size:  (630, 630, 418)\n",
      "[INFO] Loading  radiopaedia_10_85902_3.nii.gz\n",
      "[INFO] Volume Size:  (630, 630, 418)\n",
      "[INFO] Valid Data: radiopaedia_10_85902_3.nii.gz\n",
      "[INFO] Normalizing Mask...\n"
     ]
    },
    {
     "name": "stderr",
     "output_type": "stream",
     "text": [
      "  4%|██▊                                                                             | 15/418 [00:00<00:02, 149.97it/s]"
     ]
    },
    {
     "name": "stdout",
     "output_type": "stream",
     "text": [
      "[INFO] Saving...\n"
     ]
    },
    {
     "name": "stderr",
     "output_type": "stream",
     "text": [
      "100%|████████████████████████████████████████████████████████████████████████████████| 418/418 [00:09<00:00, 42.95it/s]\n"
     ]
    },
    {
     "name": "stdout",
     "output_type": "stream",
     "text": [
      "[INFO] Loading  radiopaedia_14_85914_0.nii.gz\n",
      "[INFO] Volume Size:  (630, 401, 110)\n",
      "[INFO] Loading  radiopaedia_14_85914_0.nii.gz\n"
     ]
    },
    {
     "name": "stderr",
     "output_type": "stream",
     "text": [
      "\r",
      "  0%|                                                                                          | 0/110 [00:00<?, ?it/s]"
     ]
    },
    {
     "name": "stdout",
     "output_type": "stream",
     "text": [
      "[INFO] Volume Size:  (630, 401, 110)\n",
      "[INFO] Loading  radiopaedia_14_85914_0.nii.gz\n",
      "[INFO] Volume Size:  (630, 401, 110)\n",
      "[INFO] Valid Data: radiopaedia_14_85914_0.nii.gz\n",
      "[INFO] Normalizing Mask...\n",
      "[INFO] Saving...\n"
     ]
    },
    {
     "name": "stderr",
     "output_type": "stream",
     "text": [
      "100%|████████████████████████████████████████████████████████████████████████████████| 110/110 [00:02<00:00, 37.40it/s]\n"
     ]
    },
    {
     "name": "stdout",
     "output_type": "stream",
     "text": [
      "[INFO] Loading  radiopaedia_27_86410_0.nii.gz\n",
      "[INFO] Volume Size:  (630, 630, 66)\n",
      "[INFO] Loading  radiopaedia_27_86410_0.nii.gz\n",
      "[INFO] Volume Size:  (630, 630, 66)\n",
      "[INFO] Loading  radiopaedia_27_86410_0.nii.gz\n"
     ]
    },
    {
     "name": "stderr",
     "output_type": "stream",
     "text": [
      " 14%|███████████▎                                                                       | 9/66 [00:00<00:00, 72.62it/s]"
     ]
    },
    {
     "name": "stdout",
     "output_type": "stream",
     "text": [
      "[INFO] Volume Size:  (630, 630, 66)\n",
      "[INFO] Valid Data: radiopaedia_27_86410_0.nii.gz\n",
      "[INFO] Normalizing Mask...\n",
      "[INFO] Saving...\n"
     ]
    },
    {
     "name": "stderr",
     "output_type": "stream",
     "text": [
      "100%|██████████████████████████████████████████████████████████████████████████████████| 66/66 [00:01<00:00, 40.96it/s]\n",
      "  0%|                                                                                           | 0/42 [00:00<?, ?it/s]"
     ]
    },
    {
     "name": "stdout",
     "output_type": "stream",
     "text": [
      "[INFO] Loading  radiopaedia_29_86490_1.nii.gz\n",
      "[INFO] Volume Size:  (630, 630, 42)\n",
      "[INFO] Loading  radiopaedia_29_86490_1.nii.gz\n",
      "[INFO] Volume Size:  (630, 630, 42)\n",
      "[INFO] Loading  radiopaedia_29_86490_1.nii.gz\n",
      "[INFO] Volume Size:  (630, 630, 42)\n",
      "[INFO] Valid Data: radiopaedia_29_86490_1.nii.gz\n",
      "[INFO] Normalizing Mask...\n",
      "[INFO] Saving...\n"
     ]
    },
    {
     "name": "stderr",
     "output_type": "stream",
     "text": [
      "100%|██████████████████████████████████████████████████████████████████████████████████| 42/42 [00:00<00:00, 55.13it/s]\n",
      "  0%|                                                                                           | 0/42 [00:00<?, ?it/s]"
     ]
    },
    {
     "name": "stdout",
     "output_type": "stream",
     "text": [
      "[INFO] Loading  radiopaedia_29_86491_1.nii.gz\n",
      "[INFO] Volume Size:  (630, 630, 42)\n",
      "[INFO] Loading  radiopaedia_29_86491_1.nii.gz\n",
      "[INFO] Volume Size:  (630, 630, 42)\n",
      "[INFO] Loading  radiopaedia_29_86491_1.nii.gz\n",
      "[INFO] Volume Size:  (630, 630, 42)\n",
      "[INFO] Valid Data: radiopaedia_29_86491_1.nii.gz\n",
      "[INFO] Normalizing Mask...\n",
      "[INFO] Saving...\n"
     ]
    },
    {
     "name": "stderr",
     "output_type": "stream",
     "text": [
      "100%|██████████████████████████████████████████████████████████████████████████████████| 42/42 [00:00<00:00, 43.50it/s]\n"
     ]
    },
    {
     "name": "stdout",
     "output_type": "stream",
     "text": [
      "[INFO] Loading  radiopaedia_36_86526_0.nii.gz\n",
      "[INFO] Volume Size:  (630, 630, 45)\n",
      "[INFO] Loading  radiopaedia_36_86526_0.nii.gz\n",
      "[INFO] Volume Size:  (630, 630, 45)\n",
      "[INFO] Loading  radiopaedia_36_86526_0.nii.gz\n",
      "[INFO] Volume Size:  (630, 630, 45)\n",
      "[INFO] Valid Data: radiopaedia_36_86526_0.nii.gz\n",
      "[INFO] Normalizing Mask...\n",
      "[INFO] Saving...\n"
     ]
    },
    {
     "name": "stderr",
     "output_type": "stream",
     "text": [
      "100%|██████████████████████████████████████████████████████████████████████████████████| 45/45 [00:01<00:00, 35.48it/s]\n"
     ]
    },
    {
     "name": "stdout",
     "output_type": "stream",
     "text": [
      "[INFO] Loading  radiopaedia_40_86625_0.nii.gz\n",
      "[INFO] Volume Size:  (630, 630, 93)\n",
      "[INFO] Loading  radiopaedia_40_86625_0.nii.gz\n"
     ]
    },
    {
     "name": "stderr",
     "output_type": "stream",
     "text": [
      "\r",
      "  0%|                                                                                           | 0/93 [00:00<?, ?it/s]"
     ]
    },
    {
     "name": "stdout",
     "output_type": "stream",
     "text": [
      "[INFO] Volume Size:  (630, 630, 93)\n",
      "[INFO] Loading  radiopaedia_40_86625_0.nii.gz\n",
      "[INFO] Volume Size:  (630, 630, 93)\n",
      "[INFO] Valid Data: radiopaedia_40_86625_0.nii.gz\n",
      "[INFO] Normalizing Mask...\n",
      "[INFO] Saving...\n"
     ]
    },
    {
     "name": "stderr",
     "output_type": "stream",
     "text": [
      "100%|██████████████████████████████████████████████████████████████████████████████████| 93/93 [00:02<00:00, 39.81it/s]\n",
      "  0%|                                                                                           | 0/39 [00:00<?, ?it/s]"
     ]
    },
    {
     "name": "stdout",
     "output_type": "stream",
     "text": [
      "[INFO] Loading  radiopaedia_4_85506_1.nii.gz\n",
      "[INFO] Volume Size:  (630, 630, 39)\n",
      "[INFO] Loading  radiopaedia_4_85506_1.nii.gz\n",
      "[INFO] Volume Size:  (630, 630, 39)\n",
      "[INFO] Loading  radiopaedia_4_85506_1.nii.gz\n",
      "[INFO] Volume Size:  (630, 630, 39)\n",
      "[INFO] Valid Data: radiopaedia_4_85506_1.nii.gz\n",
      "[INFO] Normalizing Mask...\n",
      "[INFO] Saving...\n"
     ]
    },
    {
     "name": "stderr",
     "output_type": "stream",
     "text": [
      "100%|██████████████████████████████████████████████████████████████████████████████████| 39/39 [00:00<00:00, 41.48it/s]\n",
      "  0%|                                                                                           | 0/45 [00:00<?, ?it/s]"
     ]
    },
    {
     "name": "stdout",
     "output_type": "stream",
     "text": [
      "[INFO] Loading  radiopaedia_7_85703_0.nii.gz\n",
      "[INFO] Volume Size:  (630, 630, 45)\n",
      "[INFO] Loading  radiopaedia_7_85703_0.nii.gz\n",
      "[INFO] Volume Size:  (630, 630, 45)\n",
      "[INFO] Loading  radiopaedia_7_85703_0.nii.gz\n",
      "[INFO] Volume Size:  (630, 630, 45)\n",
      "[INFO] Valid Data: radiopaedia_7_85703_0.nii.gz\n",
      "[INFO] Normalizing Mask...\n",
      "[INFO] Saving...\n"
     ]
    },
    {
     "name": "stderr",
     "output_type": "stream",
     "text": [
      "100%|██████████████████████████████████████████████████████████████████████████████████| 45/45 [00:01<00:00, 34.53it/s]\n"
     ]
    },
    {
     "name": "stdout",
     "output_type": "stream",
     "text": [
      "[INFO] Loading  tr_im.nii.gz\n",
      "[INFO] Volume Size:  (512, 512, 100)\n",
      "[INFO] Loading  tr_lungmasks_updated.nii.gz\n",
      "[INFO] Volume Size:  (512, 512, 100)\n",
      "[INFO] Loading  tr_mask.nii.gz\n"
     ]
    },
    {
     "name": "stderr",
     "output_type": "stream",
     "text": [
      "\r",
      "  0%|                                                                                          | 0/100 [00:00<?, ?it/s]"
     ]
    },
    {
     "name": "stdout",
     "output_type": "stream",
     "text": [
      "[INFO] Volume Size:  (512, 512, 100)\n",
      "[INFO] Valid Data: tr_im.nii.gz\n",
      "[INFO] Normalizing Mask...\n",
      "[INFO] Casting to int16 ...\n",
      "[INFO] Saving...\n"
     ]
    },
    {
     "name": "stderr",
     "output_type": "stream",
     "text": [
      "100%|████████████████████████████████████████████████████████████████████████████████| 100/100 [00:02<00:00, 36.52it/s]\n"
     ]
    },
    {
     "name": "stdout",
     "output_type": "stream",
     "text": [
      "[INFO] Loading  1.nii.gz\n",
      "[INFO] Volume Size:  (630, 630, 45)\n",
      "[INFO] Loading  1.nii.gz\n",
      "[INFO] Volume Size:  (630, 630, 45)\n"
     ]
    },
    {
     "name": "stderr",
     "output_type": "stream",
     "text": [
      " 11%|█████████▏                                                                         | 5/45 [00:00<00:00, 43.92it/s]"
     ]
    },
    {
     "name": "stdout",
     "output_type": "stream",
     "text": [
      "[INFO] Loading  1.nii.gz\n",
      "[INFO] Volume Size:  (630, 630, 45)\n",
      "[INFO] Valid Data: 1.nii.gz\n",
      "[INFO] Normalizing Mask...\n",
      "[INFO] Casting to int16 ...\n",
      "[INFO] Saving...\n"
     ]
    },
    {
     "name": "stderr",
     "output_type": "stream",
     "text": [
      "100%|██████████████████████████████████████████████████████████████████████████████████| 45/45 [00:01<00:00, 34.84it/s]\n"
     ]
    },
    {
     "name": "stdout",
     "output_type": "stream",
     "text": [
      "[INFO] Loading  2.nii.gz\n",
      "[INFO] Volume Size:  (630, 630, 39)\n",
      "[INFO] Loading  2.nii.gz\n",
      "[INFO] Volume Size:  (630, 630, 39)\n",
      "[INFO] Loading  2.nii.gz\n",
      "[INFO] Volume Size:  (630, 630, 39)\n"
     ]
    },
    {
     "name": "stderr",
     "output_type": "stream",
     "text": [
      " 18%|██████████████▉                                                                    | 7/39 [00:00<00:00, 69.51it/s]"
     ]
    },
    {
     "name": "stdout",
     "output_type": "stream",
     "text": [
      "[INFO] Valid Data: 2.nii.gz\n",
      "[INFO] Normalizing Mask...\n",
      "[INFO] Casting to int16 ...\n",
      "[INFO] Saving...\n"
     ]
    },
    {
     "name": "stderr",
     "output_type": "stream",
     "text": [
      "100%|██████████████████████████████████████████████████████████████████████████████████| 39/39 [00:00<00:00, 43.18it/s]\n"
     ]
    },
    {
     "name": "stdout",
     "output_type": "stream",
     "text": [
      "[INFO] Loading  3.nii.gz\n",
      "[INFO] Volume Size:  (630, 630, 418)\n",
      "[INFO] Loading  3.nii.gz\n",
      "[INFO] Volume Size:  (630, 630, 418)\n",
      "[INFO] Loading  3.nii.gz\n",
      "[INFO] Volume Size:  (630, 630, 418)\n",
      "[INFO] Valid Data: 3.nii.gz\n",
      "[INFO] Normalizing Mask...\n",
      "[INFO] Casting to int16 ...\n"
     ]
    },
    {
     "name": "stderr",
     "output_type": "stream",
     "text": [
      "  8%|██████                                                                          | 32/418 [00:00<00:02, 159.52it/s]"
     ]
    },
    {
     "name": "stdout",
     "output_type": "stream",
     "text": [
      "[INFO] Saving...\n"
     ]
    },
    {
     "name": "stderr",
     "output_type": "stream",
     "text": [
      "100%|████████████████████████████████████████████████████████████████████████████████| 418/418 [00:09<00:00, 43.74it/s]\n"
     ]
    },
    {
     "name": "stdout",
     "output_type": "stream",
     "text": [
      "[INFO] Loading  4.nii.gz\n",
      "[INFO] Volume Size:  (630, 630, 39)\n",
      "[INFO] Loading  4.nii.gz\n",
      "[INFO] Volume Size:  (630, 630, 39)\n"
     ]
    },
    {
     "name": "stderr",
     "output_type": "stream",
     "text": [
      "\r",
      "  0%|                                                                                           | 0/39 [00:00<?, ?it/s]"
     ]
    },
    {
     "name": "stdout",
     "output_type": "stream",
     "text": [
      "[INFO] Loading  4.nii.gz\n",
      "[INFO] Volume Size:  (630, 630, 39)\n",
      "[INFO] Valid Data: 4.nii.gz\n",
      "[INFO] Normalizing Mask...\n",
      "[INFO] Casting to int16 ...\n",
      "[INFO] Saving...\n"
     ]
    },
    {
     "name": "stderr",
     "output_type": "stream",
     "text": [
      "100%|██████████████████████████████████████████████████████████████████████████████████| 39/39 [00:00<00:00, 40.78it/s]\n"
     ]
    },
    {
     "name": "stdout",
     "output_type": "stream",
     "text": [
      "[INFO] Loading  5.nii.gz\n"
     ]
    },
    {
     "name": "stderr",
     "output_type": "stream",
     "text": [
      "\r",
      "  0%|                                                                                           | 0/66 [00:00<?, ?it/s]"
     ]
    },
    {
     "name": "stdout",
     "output_type": "stream",
     "text": [
      "[INFO] Volume Size:  (630, 630, 66)\n",
      "[INFO] Loading  5.nii.gz\n",
      "[INFO] Volume Size:  (630, 630, 66)\n",
      "[INFO] Loading  5.nii.gz\n",
      "[INFO] Volume Size:  (630, 630, 66)\n",
      "[INFO] Valid Data: 5.nii.gz\n",
      "[INFO] Normalizing Mask...\n",
      "[INFO] Casting to int16 ...\n",
      "[INFO] Saving...\n"
     ]
    },
    {
     "name": "stderr",
     "output_type": "stream",
     "text": [
      "100%|██████████████████████████████████████████████████████████████████████████████████| 66/66 [00:01<00:00, 39.13it/s]\n"
     ]
    },
    {
     "name": "stdout",
     "output_type": "stream",
     "text": [
      "[INFO] Loading  6.nii.gz\n",
      "[INFO] Volume Size:  (630, 630, 42)\n",
      "[INFO] Loading  6.nii.gz\n",
      "[INFO] Volume Size:  (630, 630, 42)\n",
      "[INFO] Loading  6.nii.gz\n"
     ]
    },
    {
     "name": "stderr",
     "output_type": "stream",
     "text": [
      " 31%|█████████████████████████                                                        | 13/42 [00:00<00:00, 104.81it/s]"
     ]
    },
    {
     "name": "stdout",
     "output_type": "stream",
     "text": [
      "[INFO] Volume Size:  (630, 630, 42)\n",
      "[INFO] Valid Data: 6.nii.gz\n",
      "[INFO] Normalizing Mask...\n",
      "[INFO] Casting to int16 ...\n",
      "[INFO] Saving...\n"
     ]
    },
    {
     "name": "stderr",
     "output_type": "stream",
     "text": [
      "100%|██████████████████████████████████████████████████████████████████████████████████| 42/42 [00:00<00:00, 54.89it/s]\n"
     ]
    },
    {
     "name": "stdout",
     "output_type": "stream",
     "text": [
      "[INFO] Loading  7.nii.gz\n",
      "[INFO] Volume Size:  (630, 630, 42)\n",
      "[INFO] Loading  7.nii.gz\n",
      "[INFO] Volume Size:  (630, 630, 42)\n",
      "[INFO] Loading  7.nii.gz\n",
      "[INFO] Volume Size:  (630, 630, 42)\n"
     ]
    },
    {
     "name": "stderr",
     "output_type": "stream",
     "text": [
      " 14%|███████████▊                                                                       | 6/42 [00:00<00:00, 50.40it/s]"
     ]
    },
    {
     "name": "stdout",
     "output_type": "stream",
     "text": [
      "[INFO] Valid Data: 7.nii.gz\n",
      "[INFO] Normalizing Mask...\n",
      "[INFO] Casting to int16 ...\n",
      "[INFO] Saving...\n"
     ]
    },
    {
     "name": "stderr",
     "output_type": "stream",
     "text": [
      "100%|██████████████████████████████████████████████████████████████████████████████████| 42/42 [00:00<00:00, 43.54it/s]\n"
     ]
    },
    {
     "name": "stdout",
     "output_type": "stream",
     "text": [
      "[INFO] Loading  8.nii.gz\n",
      "[INFO] Volume Size:  (630, 630, 45)\n",
      "[INFO] Loading  8.nii.gz\n",
      "[INFO] Volume Size:  (630, 630, 45)\n",
      "[INFO] Loading  8.nii.gz\n",
      "[INFO] Volume Size:  (630, 630, 45)\n",
      "[INFO] Valid Data: 8.nii.gz\n",
      "[INFO] Normalizing Mask...\n"
     ]
    },
    {
     "name": "stderr",
     "output_type": "stream",
     "text": [
      "  9%|███████▍                                                                           | 4/45 [00:00<00:01, 33.15it/s]"
     ]
    },
    {
     "name": "stdout",
     "output_type": "stream",
     "text": [
      "[INFO] Casting to int16 ...\n",
      "[INFO] Saving...\n"
     ]
    },
    {
     "name": "stderr",
     "output_type": "stream",
     "text": [
      "100%|██████████████████████████████████████████████████████████████████████████████████| 45/45 [00:01<00:00, 34.64it/s]\n"
     ]
    },
    {
     "name": "stdout",
     "output_type": "stream",
     "text": [
      "[INFO] Loading  9.nii.gz\n",
      "[INFO] Volume Size:  (630, 630, 93)\n",
      "[INFO] Loading  9.nii.gz\n",
      "[INFO] Volume Size:  (630, 630, 93)\n",
      "[INFO] Loading  9.nii.gz\n",
      "[INFO] Volume Size:  (630, 630, 93)\n",
      "[INFO] Valid Data: 9.nii.gz\n",
      "[INFO] Normalizing Mask...\n",
      "[INFO] Casting to int16 ...\n"
     ]
    },
    {
     "name": "stderr",
     "output_type": "stream",
     "text": [
      " 12%|█████████▋                                                                        | 11/93 [00:00<00:00, 97.14it/s]"
     ]
    },
    {
     "name": "stdout",
     "output_type": "stream",
     "text": [
      "[INFO] Saving...\n"
     ]
    },
    {
     "name": "stderr",
     "output_type": "stream",
     "text": [
      "100%|██████████████████████████████████████████████████████████████████████████████████| 93/93 [00:02<00:00, 38.60it/s]\n",
      "  0%|                                                                                           | 0/38 [00:00<?, ?it/s]"
     ]
    },
    {
     "name": "stdout",
     "output_type": "stream",
     "text": [
      "[INFO] Loading  study_0255.nii.gz\n",
      "[INFO] Volume Size:  (512, 512, 38)\n",
      "[INFO] Loading  study_0255_lungmask_.nii.gz\n",
      "[INFO] Volume Size:  (512, 512, 38)\n",
      "[INFO] Loading  study_0255_mask.nii\n",
      "[INFO] Volume Size:  (512, 512, 38)\n",
      "[INFO] Valid Data: study_0255.nii.gz\n",
      "[INFO] Normalizing Mask...\n",
      "[INFO] Saving...\n"
     ]
    },
    {
     "name": "stderr",
     "output_type": "stream",
     "text": [
      "100%|██████████████████████████████████████████████████████████████████████████████████| 38/38 [00:00<00:00, 41.31it/s]\n",
      "  0%|                                                                                           | 0/39 [00:00<?, ?it/s]"
     ]
    },
    {
     "name": "stdout",
     "output_type": "stream",
     "text": [
      "[INFO] Loading  study_0256.nii.gz\n",
      "[INFO] Volume Size:  (512, 512, 39)\n",
      "[INFO] Loading  study_0256_lungmask_.nii.gz\n",
      "[INFO] Volume Size:  (512, 512, 39)\n",
      "[INFO] Loading  study_0256_mask.nii\n",
      "[INFO] Volume Size:  (512, 512, 39)\n",
      "[INFO] Valid Data: study_0256.nii.gz\n",
      "[INFO] Normalizing Mask...\n",
      "[INFO] Saving...\n"
     ]
    },
    {
     "name": "stderr",
     "output_type": "stream",
     "text": [
      "100%|██████████████████████████████████████████████████████████████████████████████████| 39/39 [00:00<00:00, 43.07it/s]\n",
      "  0%|                                                                                           | 0/38 [00:00<?, ?it/s]"
     ]
    },
    {
     "name": "stdout",
     "output_type": "stream",
     "text": [
      "[INFO] Loading  study_0257.nii.gz\n",
      "[INFO] Volume Size:  (512, 512, 38)\n",
      "[INFO] Loading  study_0257_lungmask_.nii.gz\n",
      "[INFO] Volume Size:  (512, 512, 38)\n",
      "[INFO] Loading  study_0257_mask.nii\n",
      "[INFO] Volume Size:  (512, 512, 38)\n",
      "[INFO] Valid Data: study_0257.nii.gz\n",
      "[INFO] Normalizing Mask...\n",
      "[INFO] Saving...\n"
     ]
    },
    {
     "name": "stderr",
     "output_type": "stream",
     "text": [
      "100%|██████████████████████████████████████████████████████████████████████████████████| 38/38 [00:00<00:00, 50.14it/s]\n"
     ]
    },
    {
     "name": "stdout",
     "output_type": "stream",
     "text": [
      "[INFO] Loading  study_0258.nii.gz\n",
      "[INFO] Volume Size:  (512, 512, 41)\n",
      "[INFO] Loading  study_0258_lungmask_.nii.gz\n",
      "[INFO] Volume Size:  (512, 512, 41)\n",
      "[INFO] Loading  study_0258_mask.nii\n",
      "[INFO] Volume Size:  (512, 512, 41)\n",
      "[INFO] Valid Data: study_0258.nii.gz\n",
      "[INFO] Normalizing Mask...\n",
      "[INFO] Saving...\n"
     ]
    },
    {
     "name": "stderr",
     "output_type": "stream",
     "text": [
      "100%|██████████████████████████████████████████████████████████████████████████████████| 41/41 [00:00<00:00, 47.67it/s]\n",
      "  0%|                                                                                           | 0/37 [00:00<?, ?it/s]"
     ]
    },
    {
     "name": "stdout",
     "output_type": "stream",
     "text": [
      "[INFO] Loading  study_0259.nii.gz\n",
      "[INFO] Volume Size:  (512, 512, 37)\n",
      "[INFO] Loading  study_0259_lungmask_.nii.gz\n",
      "[INFO] Volume Size:  (512, 512, 37)\n",
      "[INFO] Loading  study_0259_mask.nii\n",
      "[INFO] Volume Size:  (512, 512, 37)\n",
      "[INFO] Valid Data: study_0259.nii.gz\n",
      "[INFO] Normalizing Mask...\n",
      "[INFO] Saving...\n"
     ]
    },
    {
     "name": "stderr",
     "output_type": "stream",
     "text": [
      "100%|██████████████████████████████████████████████████████████████████████████████████| 37/37 [00:00<00:00, 49.42it/s]\n",
      "  0%|                                                                                           | 0/38 [00:00<?, ?it/s]"
     ]
    },
    {
     "name": "stdout",
     "output_type": "stream",
     "text": [
      "[INFO] Loading  study_0260.nii.gz\n",
      "[INFO] Volume Size:  (512, 512, 38)\n",
      "[INFO] Loading  study_0260_lungmask_.nii.gz\n",
      "[INFO] Volume Size:  (512, 512, 38)\n",
      "[INFO] Loading  study_0260_mask.nii\n",
      "[INFO] Volume Size:  (512, 512, 38)\n",
      "[INFO] Valid Data: study_0260.nii.gz\n",
      "[INFO] Normalizing Mask...\n",
      "[INFO] Saving...\n"
     ]
    },
    {
     "name": "stderr",
     "output_type": "stream",
     "text": [
      "100%|██████████████████████████████████████████████████████████████████████████████████| 38/38 [00:00<00:00, 50.96it/s]\n",
      "  0%|                                                                                           | 0/41 [00:00<?, ?it/s]"
     ]
    },
    {
     "name": "stdout",
     "output_type": "stream",
     "text": [
      "[INFO] Loading  study_0261.nii.gz\n",
      "[INFO] Volume Size:  (512, 512, 41)\n",
      "[INFO] Loading  study_0261_lungmask_.nii.gz\n",
      "[INFO] Volume Size:  (512, 512, 41)\n",
      "[INFO] Loading  study_0261_mask.nii\n",
      "[INFO] Volume Size:  (512, 512, 41)\n",
      "[INFO] Valid Data: study_0261.nii.gz\n",
      "[INFO] Normalizing Mask...\n",
      "[INFO] Saving...\n"
     ]
    },
    {
     "name": "stderr",
     "output_type": "stream",
     "text": [
      "100%|██████████████████████████████████████████████████████████████████████████████████| 41/41 [00:00<00:00, 47.76it/s]\n",
      "  0%|                                                                                           | 0/38 [00:00<?, ?it/s]"
     ]
    },
    {
     "name": "stdout",
     "output_type": "stream",
     "text": [
      "[INFO] Loading  study_0262.nii.gz\n",
      "[INFO] Volume Size:  (512, 512, 38)\n",
      "[INFO] Loading  study_0262_lungmask_.nii.gz\n",
      "[INFO] Volume Size:  (512, 512, 38)\n",
      "[INFO] Loading  study_0262_mask.nii\n",
      "[INFO] Volume Size:  (512, 512, 38)\n",
      "[INFO] Valid Data: study_0262.nii.gz\n",
      "[INFO] Normalizing Mask...\n",
      "[INFO] Saving...\n"
     ]
    },
    {
     "name": "stderr",
     "output_type": "stream",
     "text": [
      "100%|██████████████████████████████████████████████████████████████████████████████████| 38/38 [00:00<00:00, 51.30it/s]\n",
      "  0%|                                                                                           | 0/42 [00:00<?, ?it/s]"
     ]
    },
    {
     "name": "stdout",
     "output_type": "stream",
     "text": [
      "[INFO] Loading  study_0263.nii.gz\n",
      "[INFO] Volume Size:  (512, 512, 42)\n",
      "[INFO] Loading  study_0263_lungmask_.nii.gz\n",
      "[INFO] Volume Size:  (512, 512, 42)\n",
      "[INFO] Loading  study_0263_mask.nii\n",
      "[INFO] Volume Size:  (512, 512, 42)\n",
      "[INFO] Valid Data: study_0263.nii.gz\n",
      "[INFO] Normalizing Mask...\n",
      "[INFO] Saving...\n"
     ]
    },
    {
     "name": "stderr",
     "output_type": "stream",
     "text": [
      "100%|██████████████████████████████████████████████████████████████████████████████████| 42/42 [00:00<00:00, 47.55it/s]\n",
      "  0%|                                                                                           | 0/41 [00:00<?, ?it/s]"
     ]
    },
    {
     "name": "stdout",
     "output_type": "stream",
     "text": [
      "[INFO] Loading  study_0264.nii.gz\n",
      "[INFO] Volume Size:  (512, 512, 41)\n",
      "[INFO] Loading  study_0264_lungmask_.nii.gz\n",
      "[INFO] Volume Size:  (512, 512, 41)\n",
      "[INFO] Loading  study_0264_mask.nii\n",
      "[INFO] Volume Size:  (512, 512, 41)\n",
      "[INFO] Valid Data: study_0264.nii.gz\n",
      "[INFO] Normalizing Mask...\n",
      "[INFO] Saving...\n"
     ]
    },
    {
     "name": "stderr",
     "output_type": "stream",
     "text": [
      "100%|██████████████████████████████████████████████████████████████████████████████████| 41/41 [00:00<00:00, 42.69it/s]\n",
      "  0%|                                                                                           | 0/46 [00:00<?, ?it/s]"
     ]
    },
    {
     "name": "stdout",
     "output_type": "stream",
     "text": [
      "[INFO] Loading  study_0265.nii.gz\n",
      "[INFO] Volume Size:  (512, 512, 46)\n",
      "[INFO] Loading  study_0265_lungmask_.nii.gz\n",
      "[INFO] Volume Size:  (512, 512, 46)\n",
      "[INFO] Loading  study_0265_mask.nii\n",
      "[INFO] Volume Size:  (512, 512, 46)\n",
      "[INFO] Valid Data: study_0265.nii.gz\n",
      "[INFO] Normalizing Mask...\n",
      "[INFO] Saving...\n"
     ]
    },
    {
     "name": "stderr",
     "output_type": "stream",
     "text": [
      "100%|██████████████████████████████████████████████████████████████████████████████████| 46/46 [00:00<00:00, 49.68it/s]\n",
      "  0%|                                                                                           | 0/34 [00:00<?, ?it/s]"
     ]
    },
    {
     "name": "stdout",
     "output_type": "stream",
     "text": [
      "[INFO] Loading  study_0266.nii.gz\n",
      "[INFO] Volume Size:  (512, 512, 34)\n",
      "[INFO] Loading  study_0266_lungmask_.nii.gz\n",
      "[INFO] Volume Size:  (512, 512, 34)\n",
      "[INFO] Loading  study_0266_mask.nii\n",
      "[INFO] Volume Size:  (512, 512, 34)\n",
      "[INFO] Valid Data: study_0266.nii.gz\n",
      "[INFO] Normalizing Mask...\n",
      "[INFO] Saving...\n"
     ]
    },
    {
     "name": "stderr",
     "output_type": "stream",
     "text": [
      "100%|██████████████████████████████████████████████████████████████████████████████████| 34/34 [00:00<00:00, 44.32it/s]\n",
      "  0%|                                                                                           | 0/38 [00:00<?, ?it/s]"
     ]
    },
    {
     "name": "stdout",
     "output_type": "stream",
     "text": [
      "[INFO] Loading  study_0267.nii.gz\n",
      "[INFO] Volume Size:  (512, 512, 38)\n",
      "[INFO] Loading  study_0267_lungmask_.nii.gz\n",
      "[INFO] Volume Size:  (512, 512, 38)\n",
      "[INFO] Loading  study_0267_mask.nii\n",
      "[INFO] Volume Size:  (512, 512, 38)\n",
      "[INFO] Valid Data: study_0267.nii.gz\n",
      "[INFO] Normalizing Mask...\n",
      "[INFO] Saving...\n"
     ]
    },
    {
     "name": "stderr",
     "output_type": "stream",
     "text": [
      "100%|██████████████████████████████████████████████████████████████████████████████████| 38/38 [00:00<00:00, 45.99it/s]\n",
      "  0%|                                                                                           | 0/43 [00:00<?, ?it/s]"
     ]
    },
    {
     "name": "stdout",
     "output_type": "stream",
     "text": [
      "[INFO] Loading  study_0268.nii.gz\n",
      "[INFO] Volume Size:  (512, 512, 43)\n",
      "[INFO] Loading  study_0268_lungmask_.nii.gz\n",
      "[INFO] Volume Size:  (512, 512, 43)\n",
      "[INFO] Loading  study_0268_mask.nii\n",
      "[INFO] Volume Size:  (512, 512, 43)\n",
      "[INFO] Valid Data: study_0268.nii.gz\n",
      "[INFO] Normalizing Mask...\n",
      "[INFO] Saving...\n"
     ]
    },
    {
     "name": "stderr",
     "output_type": "stream",
     "text": [
      "100%|██████████████████████████████████████████████████████████████████████████████████| 43/43 [00:00<00:00, 45.28it/s]\n",
      "  0%|                                                                                           | 0/42 [00:00<?, ?it/s]"
     ]
    },
    {
     "name": "stdout",
     "output_type": "stream",
     "text": [
      "[INFO] Loading  study_0269.nii.gz\n",
      "[INFO] Volume Size:  (512, 512, 42)\n",
      "[INFO] Loading  study_0269_lungmask_.nii.gz\n",
      "[INFO] Volume Size:  (512, 512, 42)\n",
      "[INFO] Loading  study_0269_mask.nii\n",
      "[INFO] Volume Size:  (512, 512, 42)\n",
      "[INFO] Valid Data: study_0269.nii.gz\n",
      "[INFO] Normalizing Mask...\n",
      "[INFO] Saving...\n"
     ]
    },
    {
     "name": "stderr",
     "output_type": "stream",
     "text": [
      "100%|██████████████████████████████████████████████████████████████████████████████████| 42/42 [00:00<00:00, 48.19it/s]\n",
      "  0%|                                                                                           | 0/46 [00:00<?, ?it/s]"
     ]
    },
    {
     "name": "stdout",
     "output_type": "stream",
     "text": [
      "[INFO] Loading  study_0270.nii.gz\n",
      "[INFO] Volume Size:  (512, 512, 46)\n",
      "[INFO] Loading  study_0270_lungmask_.nii.gz\n",
      "[INFO] Volume Size:  (512, 512, 46)\n",
      "[INFO] Loading  study_0270_mask.nii\n",
      "[INFO] Volume Size:  (512, 512, 46)\n",
      "[INFO] Valid Data: study_0270.nii.gz\n",
      "[INFO] Normalizing Mask...\n",
      "[INFO] Saving...\n"
     ]
    },
    {
     "name": "stderr",
     "output_type": "stream",
     "text": [
      "100%|██████████████████████████████████████████████████████████████████████████████████| 46/46 [00:00<00:00, 46.29it/s]\n",
      "  0%|                                                                                           | 0/40 [00:00<?, ?it/s]"
     ]
    },
    {
     "name": "stdout",
     "output_type": "stream",
     "text": [
      "[INFO] Loading  study_0271.nii.gz\n",
      "[INFO] Volume Size:  (512, 512, 40)\n",
      "[INFO] Loading  study_0271_lungmask_.nii.gz\n",
      "[INFO] Volume Size:  (512, 512, 40)\n",
      "[INFO] Loading  study_0271_mask.nii\n",
      "[INFO] Volume Size:  (512, 512, 40)\n",
      "[INFO] Valid Data: study_0271.nii.gz\n",
      "[INFO] Normalizing Mask...\n",
      "[INFO] Saving...\n"
     ]
    },
    {
     "name": "stderr",
     "output_type": "stream",
     "text": [
      "100%|██████████████████████████████████████████████████████████████████████████████████| 40/40 [00:00<00:00, 47.81it/s]\n",
      "  0%|                                                                                           | 0/37 [00:00<?, ?it/s]"
     ]
    },
    {
     "name": "stdout",
     "output_type": "stream",
     "text": [
      "[INFO] Loading  study_0272.nii.gz\n",
      "[INFO] Volume Size:  (512, 512, 37)\n",
      "[INFO] Loading  study_0272_lungmask_.nii.gz\n",
      "[INFO] Volume Size:  (512, 512, 37)\n",
      "[INFO] Loading  study_0272_mask.nii\n",
      "[INFO] Volume Size:  (512, 512, 37)\n",
      "[INFO] Valid Data: study_0272.nii.gz\n",
      "[INFO] Normalizing Mask...\n",
      "[INFO] Saving...\n"
     ]
    },
    {
     "name": "stderr",
     "output_type": "stream",
     "text": [
      "100%|██████████████████████████████████████████████████████████████████████████████████| 37/37 [00:00<00:00, 48.33it/s]\n",
      "  0%|                                                                                           | 0/39 [00:00<?, ?it/s]"
     ]
    },
    {
     "name": "stdout",
     "output_type": "stream",
     "text": [
      "[INFO] Loading  study_0273.nii.gz\n",
      "[INFO] Volume Size:  (512, 512, 39)\n",
      "[INFO] Loading  study_0273_lungmask_.nii.gz\n",
      "[INFO] Volume Size:  (512, 512, 39)\n",
      "[INFO] Loading  study_0273_mask.nii\n",
      "[INFO] Volume Size:  (512, 512, 39)\n",
      "[INFO] Valid Data: study_0273.nii.gz\n",
      "[INFO] Normalizing Mask...\n",
      "[INFO] Saving...\n"
     ]
    },
    {
     "name": "stderr",
     "output_type": "stream",
     "text": [
      "100%|██████████████████████████████████████████████████████████████████████████████████| 39/39 [00:00<00:00, 46.65it/s]\n",
      "  0%|                                                                                           | 0/41 [00:00<?, ?it/s]"
     ]
    },
    {
     "name": "stdout",
     "output_type": "stream",
     "text": [
      "[INFO] Loading  study_0274.nii.gz\n",
      "[INFO] Volume Size:  (512, 512, 41)\n",
      "[INFO] Loading  study_0274_lungmask_.nii.gz\n",
      "[INFO] Volume Size:  (512, 512, 41)\n",
      "[INFO] Loading  study_0274_mask.nii\n",
      "[INFO] Volume Size:  (512, 512, 41)\n",
      "[INFO] Valid Data: study_0274.nii.gz\n",
      "[INFO] Normalizing Mask...\n",
      "[INFO] Saving...\n"
     ]
    },
    {
     "name": "stderr",
     "output_type": "stream",
     "text": [
      "100%|██████████████████████████████████████████████████████████████████████████████████| 41/41 [00:00<00:00, 44.05it/s]\n",
      "  0%|                                                                                           | 0/45 [00:00<?, ?it/s]"
     ]
    },
    {
     "name": "stdout",
     "output_type": "stream",
     "text": [
      "[INFO] Loading  study_0275.nii.gz\n",
      "[INFO] Volume Size:  (512, 512, 45)\n",
      "[INFO] Loading  study_0275_lungmask_.nii.gz\n",
      "[INFO] Volume Size:  (512, 512, 45)\n",
      "[INFO] Loading  study_0275_mask.nii\n",
      "[INFO] Volume Size:  (512, 512, 45)\n",
      "[INFO] Valid Data: study_0275.nii.gz\n",
      "[INFO] Normalizing Mask...\n",
      "[INFO] Saving...\n"
     ]
    },
    {
     "name": "stderr",
     "output_type": "stream",
     "text": [
      "100%|██████████████████████████████████████████████████████████████████████████████████| 45/45 [00:01<00:00, 41.61it/s]\n",
      "  0%|                                                                                           | 0/45 [00:00<?, ?it/s]"
     ]
    },
    {
     "name": "stdout",
     "output_type": "stream",
     "text": [
      "[INFO] Loading  study_0276.nii.gz\n",
      "[INFO] Volume Size:  (512, 512, 45)\n",
      "[INFO] Loading  study_0276_lungmask_.nii.gz\n",
      "[INFO] Volume Size:  (512, 512, 45)\n",
      "[INFO] Loading  study_0276_mask.nii\n",
      "[INFO] Volume Size:  (512, 512, 45)\n",
      "[INFO] Valid Data: study_0276.nii.gz\n",
      "[INFO] Normalizing Mask...\n",
      "[INFO] Saving...\n"
     ]
    },
    {
     "name": "stderr",
     "output_type": "stream",
     "text": [
      "100%|██████████████████████████████████████████████████████████████████████████████████| 45/45 [00:00<00:00, 48.43it/s]\n",
      "  0%|                                                                                           | 0/33 [00:00<?, ?it/s]"
     ]
    },
    {
     "name": "stdout",
     "output_type": "stream",
     "text": [
      "[INFO] Loading  study_0277.nii.gz\n",
      "[INFO] Volume Size:  (512, 512, 33)\n",
      "[INFO] Loading  study_0277_lungmask_.nii.gz\n",
      "[INFO] Volume Size:  (512, 512, 33)\n",
      "[INFO] Loading  study_0277_mask.nii\n",
      "[INFO] Volume Size:  (512, 512, 33)\n",
      "[INFO] Valid Data: study_0277.nii.gz\n",
      "[INFO] Normalizing Mask...\n",
      "[INFO] Saving...\n"
     ]
    },
    {
     "name": "stderr",
     "output_type": "stream",
     "text": [
      "100%|██████████████████████████████████████████████████████████████████████████████████| 33/33 [00:00<00:00, 44.23it/s]\n",
      "  0%|                                                                                           | 0/45 [00:00<?, ?it/s]"
     ]
    },
    {
     "name": "stdout",
     "output_type": "stream",
     "text": [
      "[INFO] Loading  study_0278.nii.gz\n",
      "[INFO] Volume Size:  (512, 512, 45)\n",
      "[INFO] Loading  study_0278_lungmask_.nii.gz\n",
      "[INFO] Volume Size:  (512, 512, 45)\n",
      "[INFO] Loading  study_0278_mask.nii\n",
      "[INFO] Volume Size:  (512, 512, 45)\n",
      "[INFO] Valid Data: study_0278.nii.gz\n",
      "[INFO] Normalizing Mask...\n",
      "[INFO] Saving...\n"
     ]
    },
    {
     "name": "stderr",
     "output_type": "stream",
     "text": [
      "100%|██████████████████████████████████████████████████████████████████████████████████| 45/45 [00:00<00:00, 51.72it/s]\n",
      "  0%|                                                                                           | 0/41 [00:00<?, ?it/s]"
     ]
    },
    {
     "name": "stdout",
     "output_type": "stream",
     "text": [
      "[INFO] Loading  study_0279.nii.gz\n",
      "[INFO] Volume Size:  (512, 512, 41)\n",
      "[INFO] Loading  study_0279_lungmask_.nii.gz\n",
      "[INFO] Volume Size:  (512, 512, 41)\n",
      "[INFO] Loading  study_0279_mask.nii\n",
      "[INFO] Volume Size:  (512, 512, 41)\n",
      "[INFO] Valid Data: study_0279.nii.gz\n",
      "[INFO] Normalizing Mask...\n",
      "[INFO] Saving...\n"
     ]
    },
    {
     "name": "stderr",
     "output_type": "stream",
     "text": [
      "100%|██████████████████████████████████████████████████████████████████████████████████| 41/41 [00:00<00:00, 43.59it/s]\n",
      "  0%|                                                                                           | 0/38 [00:00<?, ?it/s]"
     ]
    },
    {
     "name": "stdout",
     "output_type": "stream",
     "text": [
      "[INFO] Loading  study_0280.nii.gz\n",
      "[INFO] Volume Size:  (512, 512, 38)\n",
      "[INFO] Loading  study_0280_lungmask_.nii.gz\n",
      "[INFO] Volume Size:  (512, 512, 38)\n",
      "[INFO] Loading  study_0280_mask.nii\n",
      "[INFO] Volume Size:  (512, 512, 38)\n",
      "[INFO] Valid Data: study_0280.nii.gz\n",
      "[INFO] Normalizing Mask...\n",
      "[INFO] Saving...\n"
     ]
    },
    {
     "name": "stderr",
     "output_type": "stream",
     "text": [
      "100%|██████████████████████████████████████████████████████████████████████████████████| 38/38 [00:00<00:00, 45.88it/s]\n",
      "  0%|                                                                                           | 0/53 [00:00<?, ?it/s]"
     ]
    },
    {
     "name": "stdout",
     "output_type": "stream",
     "text": [
      "[INFO] Loading  study_0281.nii.gz\n",
      "[INFO] Volume Size:  (512, 512, 53)\n",
      "[INFO] Loading  study_0281_lungmask_.nii.gz\n",
      "[INFO] Volume Size:  (512, 512, 53)\n",
      "[INFO] Loading  study_0281_mask.nii\n",
      "[INFO] Volume Size:  (512, 512, 53)\n",
      "[INFO] Valid Data: study_0281.nii.gz\n",
      "[INFO] Normalizing Mask...\n",
      "[INFO] Saving...\n"
     ]
    },
    {
     "name": "stderr",
     "output_type": "stream",
     "text": [
      "100%|██████████████████████████████████████████████████████████████████████████████████| 53/53 [00:00<00:00, 66.24it/s]\n",
      "  0%|                                                                                           | 0/38 [00:00<?, ?it/s]"
     ]
    },
    {
     "name": "stdout",
     "output_type": "stream",
     "text": [
      "[INFO] Loading  study_0282.nii.gz\n",
      "[INFO] Volume Size:  (512, 512, 38)\n",
      "[INFO] Loading  study_0282_lungmask_.nii.gz\n",
      "[INFO] Volume Size:  (512, 512, 38)\n",
      "[INFO] Loading  study_0282_mask.nii\n",
      "[INFO] Volume Size:  (512, 512, 38)\n",
      "[INFO] Valid Data: study_0282.nii.gz\n",
      "[INFO] Normalizing Mask...\n",
      "[INFO] Saving...\n"
     ]
    },
    {
     "name": "stderr",
     "output_type": "stream",
     "text": [
      "100%|██████████████████████████████████████████████████████████████████████████████████| 38/38 [00:00<00:00, 46.66it/s]\n",
      "  0%|                                                                                           | 0/41 [00:00<?, ?it/s]"
     ]
    },
    {
     "name": "stdout",
     "output_type": "stream",
     "text": [
      "[INFO] Loading  study_0283.nii.gz\n",
      "[INFO] Volume Size:  (512, 512, 41)\n",
      "[INFO] Loading  study_0283_lungmask_.nii.gz\n",
      "[INFO] Volume Size:  (512, 512, 41)\n",
      "[INFO] Loading  study_0283_mask.nii\n",
      "[INFO] Volume Size:  (512, 512, 41)\n",
      "[INFO] Valid Data: study_0283.nii.gz\n",
      "[INFO] Normalizing Mask...\n",
      "[INFO] Saving...\n"
     ]
    },
    {
     "name": "stderr",
     "output_type": "stream",
     "text": [
      "100%|██████████████████████████████████████████████████████████████████████████████████| 41/41 [00:00<00:00, 52.58it/s]\n",
      "  0%|                                                                                           | 0/39 [00:00<?, ?it/s]"
     ]
    },
    {
     "name": "stdout",
     "output_type": "stream",
     "text": [
      "[INFO] Loading  study_0284.nii.gz\n",
      "[INFO] Volume Size:  (512, 512, 39)\n",
      "[INFO] Loading  study_0284_lungmask_.nii.gz\n",
      "[INFO] Volume Size:  (512, 512, 39)\n",
      "[INFO] Loading  study_0284_mask.nii\n",
      "[INFO] Volume Size:  (512, 512, 39)\n",
      "[INFO] Valid Data: study_0284.nii.gz\n",
      "[INFO] Normalizing Mask...\n",
      "[INFO] Saving...\n"
     ]
    },
    {
     "name": "stderr",
     "output_type": "stream",
     "text": [
      "100%|██████████████████████████████████████████████████████████████████████████████████| 39/39 [00:00<00:00, 44.89it/s]\n",
      "  0%|                                                                                           | 0/38 [00:00<?, ?it/s]"
     ]
    },
    {
     "name": "stdout",
     "output_type": "stream",
     "text": [
      "[INFO] Loading  study_0285.nii.gz\n",
      "[INFO] Volume Size:  (512, 512, 38)\n",
      "[INFO] Loading  study_0285_lungmask_.nii.gz\n",
      "[INFO] Volume Size:  (512, 512, 38)\n",
      "[INFO] Loading  study_0285_mask.nii\n",
      "[INFO] Volume Size:  (512, 512, 38)\n",
      "[INFO] Valid Data: study_0285.nii.gz\n",
      "[INFO] Normalizing Mask...\n",
      "[INFO] Saving...\n"
     ]
    },
    {
     "name": "stderr",
     "output_type": "stream",
     "text": [
      "100%|██████████████████████████████████████████████████████████████████████████████████| 38/38 [00:00<00:00, 45.98it/s]\n",
      "  0%|                                                                                           | 0/41 [00:00<?, ?it/s]"
     ]
    },
    {
     "name": "stdout",
     "output_type": "stream",
     "text": [
      "[INFO] Loading  study_0286.nii.gz\n",
      "[INFO] Volume Size:  (512, 512, 41)\n",
      "[INFO] Loading  study_0286_lungmask_.nii.gz\n",
      "[INFO] Volume Size:  (512, 512, 41)\n",
      "[INFO] Loading  study_0286_mask.nii\n",
      "[INFO] Volume Size:  (512, 512, 41)\n",
      "[INFO] Valid Data: study_0286.nii.gz\n",
      "[INFO] Normalizing Mask...\n",
      "[INFO] Saving...\n"
     ]
    },
    {
     "name": "stderr",
     "output_type": "stream",
     "text": [
      "100%|██████████████████████████████████████████████████████████████████████████████████| 41/41 [00:00<00:00, 42.49it/s]\n",
      "  0%|                                                                                           | 0/43 [00:00<?, ?it/s]"
     ]
    },
    {
     "name": "stdout",
     "output_type": "stream",
     "text": [
      "[INFO] Loading  study_0287.nii.gz\n",
      "[INFO] Volume Size:  (512, 512, 43)\n",
      "[INFO] Loading  study_0287_lungmask_.nii.gz\n",
      "[INFO] Volume Size:  (512, 512, 43)\n",
      "[INFO] Loading  study_0287_mask.nii\n",
      "[INFO] Volume Size:  (512, 512, 43)\n",
      "[INFO] Valid Data: study_0287.nii.gz\n",
      "[INFO] Normalizing Mask...\n",
      "[INFO] Saving...\n"
     ]
    },
    {
     "name": "stderr",
     "output_type": "stream",
     "text": [
      "100%|██████████████████████████████████████████████████████████████████████████████████| 43/43 [00:00<00:00, 50.97it/s]\n",
      "  0%|                                                                                           | 0/47 [00:00<?, ?it/s]"
     ]
    },
    {
     "name": "stdout",
     "output_type": "stream",
     "text": [
      "[INFO] Loading  study_0288.nii.gz\n",
      "[INFO] Volume Size:  (512, 512, 47)\n",
      "[INFO] Loading  study_0288_lungmask_.nii.gz\n",
      "[INFO] Volume Size:  (512, 512, 47)\n",
      "[INFO] Loading  study_0288_mask.nii\n",
      "[INFO] Volume Size:  (512, 512, 47)\n",
      "[INFO] Valid Data: study_0288.nii.gz\n",
      "[INFO] Normalizing Mask...\n",
      "[INFO] Saving...\n"
     ]
    },
    {
     "name": "stderr",
     "output_type": "stream",
     "text": [
      "100%|██████████████████████████████████████████████████████████████████████████████████| 47/47 [00:00<00:00, 47.26it/s]\n",
      "  0%|                                                                                           | 0/42 [00:00<?, ?it/s]"
     ]
    },
    {
     "name": "stdout",
     "output_type": "stream",
     "text": [
      "[INFO] Loading  study_0289.nii.gz\n",
      "[INFO] Volume Size:  (512, 512, 42)\n",
      "[INFO] Loading  study_0289_lungmask_.nii.gz\n",
      "[INFO] Volume Size:  (512, 512, 42)\n",
      "[INFO] Loading  study_0289_mask.nii\n",
      "[INFO] Volume Size:  (512, 512, 42)\n",
      "[INFO] Valid Data: study_0289.nii.gz\n",
      "[INFO] Normalizing Mask...\n",
      "[INFO] Saving...\n"
     ]
    },
    {
     "name": "stderr",
     "output_type": "stream",
     "text": [
      "100%|██████████████████████████████████████████████████████████████████████████████████| 42/42 [00:00<00:00, 43.21it/s]\n",
      "  0%|                                                                                           | 0/43 [00:00<?, ?it/s]"
     ]
    },
    {
     "name": "stdout",
     "output_type": "stream",
     "text": [
      "[INFO] Loading  study_0290.nii.gz\n",
      "[INFO] Volume Size:  (512, 512, 43)\n",
      "[INFO] Loading  study_0290_lungmask_.nii.gz\n",
      "[INFO] Volume Size:  (512, 512, 43)\n",
      "[INFO] Loading  study_0290_mask.nii\n",
      "[INFO] Volume Size:  (512, 512, 43)\n",
      "[INFO] Valid Data: study_0290.nii.gz\n",
      "[INFO] Normalizing Mask...\n",
      "[INFO] Saving...\n"
     ]
    },
    {
     "name": "stderr",
     "output_type": "stream",
     "text": [
      "100%|██████████████████████████████████████████████████████████████████████████████████| 43/43 [00:00<00:00, 48.28it/s]\n",
      "  0%|                                                                                           | 0/41 [00:00<?, ?it/s]"
     ]
    },
    {
     "name": "stdout",
     "output_type": "stream",
     "text": [
      "[INFO] Loading  study_0291.nii.gz\n",
      "[INFO] Volume Size:  (512, 512, 41)\n",
      "[INFO] Loading  study_0291_lungmask_.nii.gz\n",
      "[INFO] Volume Size:  (512, 512, 41)\n",
      "[INFO] Loading  study_0291_mask.nii\n",
      "[INFO] Volume Size:  (512, 512, 41)\n",
      "[INFO] Valid Data: study_0291.nii.gz\n",
      "[INFO] Normalizing Mask...\n",
      "[INFO] Saving...\n"
     ]
    },
    {
     "name": "stderr",
     "output_type": "stream",
     "text": [
      "100%|██████████████████████████████████████████████████████████████████████████████████| 41/41 [00:00<00:00, 44.49it/s]\n",
      "  0%|                                                                                           | 0/41 [00:00<?, ?it/s]"
     ]
    },
    {
     "name": "stdout",
     "output_type": "stream",
     "text": [
      "[INFO] Loading  study_0292.nii.gz\n",
      "[INFO] Volume Size:  (512, 512, 41)\n",
      "[INFO] Loading  study_0292_lungmask_.nii.gz\n",
      "[INFO] Volume Size:  (512, 512, 41)\n",
      "[INFO] Loading  study_0292_mask.nii\n",
      "[INFO] Volume Size:  (512, 512, 41)\n",
      "[INFO] Valid Data: study_0292.nii.gz\n",
      "[INFO] Normalizing Mask...\n",
      "[INFO] Saving...\n"
     ]
    },
    {
     "name": "stderr",
     "output_type": "stream",
     "text": [
      "100%|██████████████████████████████████████████████████████████████████████████████████| 41/41 [00:00<00:00, 46.23it/s]\n",
      "  0%|                                                                                           | 0/39 [00:00<?, ?it/s]"
     ]
    },
    {
     "name": "stdout",
     "output_type": "stream",
     "text": [
      "[INFO] Loading  study_0293.nii.gz\n",
      "[INFO] Volume Size:  (512, 512, 39)\n",
      "[INFO] Loading  study_0293_lungmask_.nii.gz\n",
      "[INFO] Volume Size:  (512, 512, 39)\n",
      "[INFO] Loading  study_0293_mask.nii\n",
      "[INFO] Volume Size:  (512, 512, 39)\n",
      "[INFO] Valid Data: study_0293.nii.gz\n",
      "[INFO] Normalizing Mask...\n",
      "[INFO] Saving...\n"
     ]
    },
    {
     "name": "stderr",
     "output_type": "stream",
     "text": [
      "100%|██████████████████████████████████████████████████████████████████████████████████| 39/39 [00:00<00:00, 47.25it/s]\n",
      "  0%|                                                                                           | 0/48 [00:00<?, ?it/s]"
     ]
    },
    {
     "name": "stdout",
     "output_type": "stream",
     "text": [
      "[INFO] Loading  study_0294.nii.gz\n",
      "[INFO] Volume Size:  (512, 512, 48)\n",
      "[INFO] Loading  study_0294_lungmask_.nii.gz\n",
      "[INFO] Volume Size:  (512, 512, 48)\n",
      "[INFO] Loading  study_0294_mask.nii\n",
      "[INFO] Volume Size:  (512, 512, 48)\n",
      "[INFO] Valid Data: study_0294.nii.gz\n",
      "[INFO] Normalizing Mask...\n",
      "[INFO] Saving...\n"
     ]
    },
    {
     "name": "stderr",
     "output_type": "stream",
     "text": [
      "100%|██████████████████████████████████████████████████████████████████████████████████| 48/48 [00:00<00:00, 56.37it/s]\n",
      "  0%|                                                                                           | 0/41 [00:00<?, ?it/s]"
     ]
    },
    {
     "name": "stdout",
     "output_type": "stream",
     "text": [
      "[INFO] Loading  study_0295.nii.gz\n",
      "[INFO] Volume Size:  (512, 512, 41)\n",
      "[INFO] Loading  study_0295_lungmask_.nii.gz\n",
      "[INFO] Volume Size:  (512, 512, 41)\n",
      "[INFO] Loading  study_0295_mask.nii\n",
      "[INFO] Volume Size:  (512, 512, 41)\n",
      "[INFO] Valid Data: study_0295.nii.gz\n",
      "[INFO] Normalizing Mask...\n",
      "[INFO] Saving...\n"
     ]
    },
    {
     "name": "stderr",
     "output_type": "stream",
     "text": [
      "100%|██████████████████████████████████████████████████████████████████████████████████| 41/41 [00:00<00:00, 41.37it/s]\n",
      "  0%|                                                                                           | 0/33 [00:00<?, ?it/s]"
     ]
    },
    {
     "name": "stdout",
     "output_type": "stream",
     "text": [
      "[INFO] Loading  study_0296.nii.gz\n",
      "[INFO] Volume Size:  (512, 512, 33)\n",
      "[INFO] Loading  study_0296_lungmask_.nii.gz\n",
      "[INFO] Volume Size:  (512, 512, 33)\n",
      "[INFO] Loading  study_0296_mask.nii\n",
      "[INFO] Volume Size:  (512, 512, 33)\n",
      "[INFO] Valid Data: study_0296.nii.gz\n",
      "[INFO] Normalizing Mask...\n",
      "[INFO] Saving...\n"
     ]
    },
    {
     "name": "stderr",
     "output_type": "stream",
     "text": [
      "100%|██████████████████████████████████████████████████████████████████████████████████| 33/33 [00:00<00:00, 41.54it/s]\n",
      "  0%|                                                                                           | 0/45 [00:00<?, ?it/s]"
     ]
    },
    {
     "name": "stdout",
     "output_type": "stream",
     "text": [
      "[INFO] Loading  study_0297.nii.gz\n",
      "[INFO] Volume Size:  (512, 512, 45)\n",
      "[INFO] Loading  study_0297_lungmask_.nii.gz\n",
      "[INFO] Volume Size:  (512, 512, 45)\n",
      "[INFO] Loading  study_0297_mask.nii\n",
      "[INFO] Volume Size:  (512, 512, 45)\n",
      "[INFO] Valid Data: study_0297.nii.gz\n",
      "[INFO] Normalizing Mask...\n",
      "[INFO] Saving...\n"
     ]
    },
    {
     "name": "stderr",
     "output_type": "stream",
     "text": [
      "100%|██████████████████████████████████████████████████████████████████████████████████| 45/45 [00:01<00:00, 42.53it/s]\n",
      "  0%|                                                                                           | 0/43 [00:00<?, ?it/s]"
     ]
    },
    {
     "name": "stdout",
     "output_type": "stream",
     "text": [
      "[INFO] Loading  study_0298.nii.gz\n",
      "[INFO] Volume Size:  (512, 512, 43)\n",
      "[INFO] Loading  study_0298_lungmask_.nii.gz\n",
      "[INFO] Volume Size:  (512, 512, 43)\n",
      "[INFO] Loading  study_0298_mask.nii\n",
      "[INFO] Volume Size:  (512, 512, 43)\n",
      "[INFO] Valid Data: study_0298.nii.gz\n",
      "[INFO] Normalizing Mask...\n",
      "[INFO] Saving...\n"
     ]
    },
    {
     "name": "stderr",
     "output_type": "stream",
     "text": [
      "100%|██████████████████████████████████████████████████████████████████████████████████| 43/43 [00:00<00:00, 47.92it/s]\n",
      "  0%|                                                                                           | 0/40 [00:00<?, ?it/s]"
     ]
    },
    {
     "name": "stdout",
     "output_type": "stream",
     "text": [
      "[INFO] Loading  study_0299.nii.gz\n",
      "[INFO] Volume Size:  (512, 512, 40)\n",
      "[INFO] Loading  study_0299_lungmask_.nii.gz\n",
      "[INFO] Volume Size:  (512, 512, 40)\n",
      "[INFO] Loading  study_0299_mask.nii\n",
      "[INFO] Volume Size:  (512, 512, 40)\n",
      "[INFO] Valid Data: study_0299.nii.gz\n",
      "[INFO] Normalizing Mask...\n",
      "[INFO] Saving...\n"
     ]
    },
    {
     "name": "stderr",
     "output_type": "stream",
     "text": [
      "100%|██████████████████████████████████████████████████████████████████████████████████| 40/40 [00:00<00:00, 48.52it/s]\n",
      "  0%|                                                                                           | 0/41 [00:00<?, ?it/s]"
     ]
    },
    {
     "name": "stdout",
     "output_type": "stream",
     "text": [
      "[INFO] Loading  study_0300.nii.gz\n",
      "[INFO] Volume Size:  (512, 512, 41)\n",
      "[INFO] Loading  study_0300_lungmask_.nii.gz\n",
      "[INFO] Volume Size:  (512, 512, 41)\n",
      "[INFO] Loading  study_0300_mask.nii\n",
      "[INFO] Volume Size:  (512, 512, 41)\n",
      "[INFO] Valid Data: study_0300.nii.gz\n",
      "[INFO] Normalizing Mask...\n",
      "[INFO] Saving...\n"
     ]
    },
    {
     "name": "stderr",
     "output_type": "stream",
     "text": [
      "100%|██████████████████████████████████████████████████████████████████████████████████| 41/41 [00:00<00:00, 53.32it/s]\n",
      "  0%|                                                                                           | 0/41 [00:00<?, ?it/s]"
     ]
    },
    {
     "name": "stdout",
     "output_type": "stream",
     "text": [
      "[INFO] Loading  study_0301.nii.gz\n",
      "[INFO] Volume Size:  (512, 512, 41)\n",
      "[INFO] Loading  study_0301_lungmask_.nii.gz\n",
      "[INFO] Volume Size:  (512, 512, 41)\n",
      "[INFO] Loading  study_0301_mask.nii\n",
      "[INFO] Volume Size:  (512, 512, 41)\n",
      "[INFO] Valid Data: study_0301.nii.gz\n",
      "[INFO] Normalizing Mask...\n",
      "[INFO] Saving...\n"
     ]
    },
    {
     "name": "stderr",
     "output_type": "stream",
     "text": [
      "100%|██████████████████████████████████████████████████████████████████████████████████| 41/41 [00:00<00:00, 55.65it/s]\n",
      "  0%|                                                                                           | 0/41 [00:00<?, ?it/s]"
     ]
    },
    {
     "name": "stdout",
     "output_type": "stream",
     "text": [
      "[INFO] Loading  study_0302.nii.gz\n",
      "[INFO] Volume Size:  (512, 512, 41)\n",
      "[INFO] Loading  study_0302_lungmask_.nii.gz\n",
      "[INFO] Volume Size:  (512, 512, 41)\n",
      "[INFO] Loading  study_0302_mask.nii\n",
      "[INFO] Volume Size:  (512, 512, 41)\n",
      "[INFO] Valid Data: study_0302.nii.gz\n",
      "[INFO] Normalizing Mask...\n",
      "[INFO] Saving...\n"
     ]
    },
    {
     "name": "stderr",
     "output_type": "stream",
     "text": [
      "100%|██████████████████████████████████████████████████████████████████████████████████| 41/41 [00:00<00:00, 44.52it/s]\n",
      "  0%|                                                                                           | 0/43 [00:00<?, ?it/s]"
     ]
    },
    {
     "name": "stdout",
     "output_type": "stream",
     "text": [
      "[INFO] Loading  study_0303.nii.gz\n",
      "[INFO] Volume Size:  (512, 512, 43)\n",
      "[INFO] Loading  study_0303_lungmask_.nii.gz\n",
      "[INFO] Volume Size:  (512, 512, 43)\n",
      "[INFO] Loading  study_0303_mask.nii\n",
      "[INFO] Volume Size:  (512, 512, 43)\n",
      "[INFO] Valid Data: study_0303.nii.gz\n",
      "[INFO] Normalizing Mask...\n",
      "[INFO] Saving...\n"
     ]
    },
    {
     "name": "stderr",
     "output_type": "stream",
     "text": [
      "100%|██████████████████████████████████████████████████████████████████████████████████| 43/43 [00:00<00:00, 45.42it/s]\n",
      "  0%|                                                                                           | 0/41 [00:00<?, ?it/s]"
     ]
    },
    {
     "name": "stdout",
     "output_type": "stream",
     "text": [
      "[INFO] Loading  study_0304.nii.gz\n",
      "[INFO] Volume Size:  (512, 512, 41)\n",
      "[INFO] Loading  study_0304_lungmask_.nii.gz\n",
      "[INFO] Volume Size:  (512, 512, 41)\n",
      "[INFO] Loading  study_0304_mask.nii\n",
      "[INFO] Volume Size:  (512, 512, 41)\n",
      "[INFO] Valid Data: study_0304.nii.gz\n",
      "[INFO] Normalizing Mask...\n",
      "[INFO] Saving...\n"
     ]
    },
    {
     "name": "stderr",
     "output_type": "stream",
     "text": [
      "100%|██████████████████████████████████████████████████████████████████████████████████| 41/41 [00:00<00:00, 45.90it/s]\n"
     ]
    },
    {
     "name": "stdout",
     "output_type": "stream",
     "text": [
      "[INFO] Loading  normal001.nii.gz\n"
     ]
    },
    {
     "name": "stderr",
     "output_type": "stream",
     "text": [
      "  8%|██████▏                                                                          | 11/144 [00:00<00:01, 98.21it/s]"
     ]
    },
    {
     "name": "stdout",
     "output_type": "stream",
     "text": [
      "[INFO] Volume Size:  (512, 512, 144)\n",
      "[INFO] Loading  normal001_lungmask_.nii\n",
      "[INFO] Volume Size:  (512, 512, 144)\n",
      "[INFO] Valid Data: normal001.nii.gz\n",
      "[INFO] Normalizing Mask...\n",
      "[INFO] Saving...\n"
     ]
    },
    {
     "name": "stderr",
     "output_type": "stream",
     "text": [
      "100%|████████████████████████████████████████████████████████████████████████████████| 144/144 [00:02<00:00, 65.54it/s]\n"
     ]
    },
    {
     "name": "stdout",
     "output_type": "stream",
     "text": [
      "[INFO] Loading  normal002.nii.gz\n"
     ]
    },
    {
     "name": "stderr",
     "output_type": "stream",
     "text": [
      " 10%|████████▏                                                                       | 17/167 [00:00<00:00, 161.64it/s]"
     ]
    },
    {
     "name": "stdout",
     "output_type": "stream",
     "text": [
      "[INFO] Volume Size:  (512, 512, 167)\n",
      "[INFO] Loading  normal002_lungmask_.nii\n",
      "[INFO] Volume Size:  (512, 512, 167)\n",
      "[INFO] Valid Data: normal002.nii.gz\n",
      "[INFO] Normalizing Mask...\n",
      "[INFO] Saving...\n"
     ]
    },
    {
     "name": "stderr",
     "output_type": "stream",
     "text": [
      "100%|████████████████████████████████████████████████████████████████████████████████| 167/167 [00:02<00:00, 69.66it/s]\n"
     ]
    },
    {
     "name": "stdout",
     "output_type": "stream",
     "text": [
      "[INFO] Loading  normal003.nii.gz\n"
     ]
    },
    {
     "name": "stderr",
     "output_type": "stream",
     "text": [
      "  9%|███████▌                                                                        | 16/169 [00:00<00:01, 135.04it/s]"
     ]
    },
    {
     "name": "stdout",
     "output_type": "stream",
     "text": [
      "[INFO] Volume Size:  (512, 512, 169)\n",
      "[INFO] Loading  normal003_lungmask_.nii\n",
      "[INFO] Volume Size:  (512, 512, 169)\n",
      "[INFO] Valid Data: normal003.nii.gz\n",
      "[INFO] Normalizing Mask...\n",
      "[INFO] Saving...\n"
     ]
    },
    {
     "name": "stderr",
     "output_type": "stream",
     "text": [
      "100%|████████████████████████████████████████████████████████████████████████████████| 169/169 [00:02<00:00, 65.37it/s]\n"
     ]
    },
    {
     "name": "stdout",
     "output_type": "stream",
     "text": [
      "[INFO] Loading  normal004.nii.gz\n"
     ]
    },
    {
     "name": "stderr",
     "output_type": "stream",
     "text": [
      "  5%|███▊                                                                              | 6/128 [00:00<00:02, 59.98it/s]"
     ]
    },
    {
     "name": "stdout",
     "output_type": "stream",
     "text": [
      "[INFO] Volume Size:  (512, 512, 128)\n",
      "[INFO] Loading  normal004_lungmask_.nii\n",
      "[INFO] Volume Size:  (512, 512, 128)\n",
      "[INFO] Valid Data: normal004.nii.gz\n",
      "[INFO] Normalizing Mask...\n",
      "[INFO] Saving...\n"
     ]
    },
    {
     "name": "stderr",
     "output_type": "stream",
     "text": [
      "100%|████████████████████████████████████████████████████████████████████████████████| 128/128 [00:01<00:00, 64.68it/s]\n"
     ]
    },
    {
     "name": "stdout",
     "output_type": "stream",
     "text": [
      "[INFO] Loading  normal005.nii.gz\n"
     ]
    },
    {
     "name": "stderr",
     "output_type": "stream",
     "text": [
      " 10%|███████▊                                                                        | 14/143 [00:00<00:00, 139.98it/s]"
     ]
    },
    {
     "name": "stdout",
     "output_type": "stream",
     "text": [
      "[INFO] Volume Size:  (512, 512, 143)\n",
      "[INFO] Loading  normal005_lungmask_.nii\n",
      "[INFO] Volume Size:  (512, 512, 143)\n",
      "[INFO] Valid Data: normal005.nii.gz\n",
      "[INFO] Normalizing Mask...\n",
      "[INFO] Saving...\n"
     ]
    },
    {
     "name": "stderr",
     "output_type": "stream",
     "text": [
      "100%|████████████████████████████████████████████████████████████████████████████████| 143/143 [00:02<00:00, 67.67it/s]\n"
     ]
    },
    {
     "name": "stdout",
     "output_type": "stream",
     "text": [
      "[INFO] Loading  normal006.nii.gz\n"
     ]
    },
    {
     "name": "stderr",
     "output_type": "stream",
     "text": [
      "  5%|███▉                                                                              | 7/144 [00:00<00:02, 60.52it/s]"
     ]
    },
    {
     "name": "stdout",
     "output_type": "stream",
     "text": [
      "[INFO] Volume Size:  (512, 512, 144)\n",
      "[INFO] Loading  normal006_lungmask_.nii\n",
      "[INFO] Volume Size:  (512, 512, 144)\n",
      "[INFO] Valid Data: normal006.nii.gz\n",
      "[INFO] Normalizing Mask...\n",
      "[INFO] Saving...\n"
     ]
    },
    {
     "name": "stderr",
     "output_type": "stream",
     "text": [
      "100%|████████████████████████████████████████████████████████████████████████████████| 144/144 [00:02<00:00, 61.23it/s]\n"
     ]
    },
    {
     "name": "stdout",
     "output_type": "stream",
     "text": [
      "[INFO] Loading  normal007.nii.gz\n"
     ]
    },
    {
     "name": "stderr",
     "output_type": "stream",
     "text": [
      "  5%|████                                                                              | 7/142 [00:00<00:02, 60.75it/s]"
     ]
    },
    {
     "name": "stdout",
     "output_type": "stream",
     "text": [
      "[INFO] Volume Size:  (512, 512, 142)\n",
      "[INFO] Loading  normal007_lungmask_.nii\n",
      "[INFO] Volume Size:  (512, 512, 142)\n",
      "[INFO] Valid Data: normal007.nii.gz\n",
      "[INFO] Normalizing Mask...\n",
      "[INFO] Saving...\n"
     ]
    },
    {
     "name": "stderr",
     "output_type": "stream",
     "text": [
      "100%|████████████████████████████████████████████████████████████████████████████████| 142/142 [00:02<00:00, 65.37it/s]\n"
     ]
    },
    {
     "name": "stdout",
     "output_type": "stream",
     "text": [
      "[INFO] Loading  normal008.nii.gz\n"
     ]
    },
    {
     "name": "stderr",
     "output_type": "stream",
     "text": [
      "  8%|██████▍                                                                          | 11/139 [00:00<00:01, 99.19it/s]"
     ]
    },
    {
     "name": "stdout",
     "output_type": "stream",
     "text": [
      "[INFO] Volume Size:  (512, 512, 139)\n",
      "[INFO] Loading  normal008_lungmask_.nii\n",
      "[INFO] Volume Size:  (512, 512, 139)\n",
      "[INFO] Valid Data: normal008.nii.gz\n",
      "[INFO] Normalizing Mask...\n",
      "[INFO] Saving...\n"
     ]
    },
    {
     "name": "stderr",
     "output_type": "stream",
     "text": [
      "100%|████████████████████████████████████████████████████████████████████████████████| 139/139 [00:02<00:00, 64.37it/s]\n"
     ]
    },
    {
     "name": "stdout",
     "output_type": "stream",
     "text": [
      "[INFO] Loading  normal009.nii.gz\n"
     ]
    },
    {
     "name": "stderr",
     "output_type": "stream",
     "text": [
      "  8%|██████                                                                          | 11/145 [00:00<00:01, 109.41it/s]"
     ]
    },
    {
     "name": "stdout",
     "output_type": "stream",
     "text": [
      "[INFO] Volume Size:  (512, 512, 145)\n",
      "[INFO] Loading  normal009_lungmask_.nii\n",
      "[INFO] Volume Size:  (512, 512, 145)\n",
      "[INFO] Valid Data: normal009.nii.gz\n",
      "[INFO] Normalizing Mask...\n",
      "[INFO] Saving...\n"
     ]
    },
    {
     "name": "stderr",
     "output_type": "stream",
     "text": [
      "100%|████████████████████████████████████████████████████████████████████████████████| 145/145 [00:02<00:00, 65.85it/s]\n"
     ]
    },
    {
     "name": "stdout",
     "output_type": "stream",
     "text": [
      "[INFO] Loading  normal010.nii.gz\n"
     ]
    },
    {
     "name": "stderr",
     "output_type": "stream",
     "text": [
      "  5%|████▎                                                                             | 8/152 [00:00<00:01, 73.20it/s]"
     ]
    },
    {
     "name": "stdout",
     "output_type": "stream",
     "text": [
      "[INFO] Volume Size:  (512, 512, 152)\n",
      "[INFO] Loading  normal010_lungmask_.nii\n",
      "[INFO] Volume Size:  (512, 512, 152)\n",
      "[INFO] Valid Data: normal010.nii.gz\n",
      "[INFO] Normalizing Mask...\n",
      "[INFO] Saving...\n"
     ]
    },
    {
     "name": "stderr",
     "output_type": "stream",
     "text": [
      "100%|████████████████████████████████████████████████████████████████████████████████| 152/152 [00:02<00:00, 63.08it/s]\n"
     ]
    },
    {
     "name": "stdout",
     "output_type": "stream",
     "text": [
      "[INFO] Loading  normal011.nii.gz\n"
     ]
    },
    {
     "name": "stderr",
     "output_type": "stream",
     "text": [
      "  5%|████▏                                                                             | 7/138 [00:00<00:02, 60.56it/s]"
     ]
    },
    {
     "name": "stdout",
     "output_type": "stream",
     "text": [
      "[INFO] Volume Size:  (512, 512, 138)\n",
      "[INFO] Loading  normal011_lungmask_.nii\n",
      "[INFO] Volume Size:  (512, 512, 138)\n",
      "[INFO] Valid Data: normal011.nii.gz\n",
      "[INFO] Normalizing Mask...\n",
      "[INFO] Saving...\n"
     ]
    },
    {
     "name": "stderr",
     "output_type": "stream",
     "text": [
      "100%|████████████████████████████████████████████████████████████████████████████████| 138/138 [00:02<00:00, 61.39it/s]\n"
     ]
    },
    {
     "name": "stdout",
     "output_type": "stream",
     "text": [
      "[INFO] Loading  normal012.nii.gz\n"
     ]
    },
    {
     "name": "stderr",
     "output_type": "stream",
     "text": [
      " 13%|██████████▌                                                                     | 21/160 [00:00<00:00, 203.88it/s]"
     ]
    },
    {
     "name": "stdout",
     "output_type": "stream",
     "text": [
      "[INFO] Volume Size:  (512, 512, 160)\n",
      "[INFO] Loading  normal012_lungmask_.nii\n",
      "[INFO] Volume Size:  (512, 512, 160)\n",
      "[INFO] Valid Data: normal012.nii.gz\n",
      "[INFO] Normalizing Mask...\n",
      "[INFO] Saving...\n"
     ]
    },
    {
     "name": "stderr",
     "output_type": "stream",
     "text": [
      "100%|████████████████████████████████████████████████████████████████████████████████| 160/160 [00:02<00:00, 70.41it/s]\n"
     ]
    },
    {
     "name": "stdout",
     "output_type": "stream",
     "text": [
      "[INFO] Loading  normal013.nii.gz\n"
     ]
    },
    {
     "name": "stderr",
     "output_type": "stream",
     "text": [
      " 11%|████████▌                                                                       | 20/186 [00:00<00:00, 194.16it/s]"
     ]
    },
    {
     "name": "stdout",
     "output_type": "stream",
     "text": [
      "[INFO] Volume Size:  (512, 512, 186)\n",
      "[INFO] Loading  normal013_lungmask_.nii\n",
      "[INFO] Volume Size:  (512, 512, 186)\n",
      "[INFO] Valid Data: normal013.nii.gz\n",
      "[INFO] Normalizing Mask...\n",
      "[INFO] Saving...\n"
     ]
    },
    {
     "name": "stderr",
     "output_type": "stream",
     "text": [
      "100%|████████████████████████████████████████████████████████████████████████████████| 186/186 [00:02<00:00, 79.72it/s]\n"
     ]
    },
    {
     "name": "stdout",
     "output_type": "stream",
     "text": [
      "[INFO] Loading  normal014.nii.gz\n"
     ]
    },
    {
     "name": "stderr",
     "output_type": "stream",
     "text": [
      "  5%|████                                                                              | 7/140 [00:00<00:02, 64.31it/s]"
     ]
    },
    {
     "name": "stdout",
     "output_type": "stream",
     "text": [
      "[INFO] Volume Size:  (512, 512, 140)\n",
      "[INFO] Loading  normal014_lungmask_.nii\n",
      "[INFO] Volume Size:  (512, 512, 140)\n",
      "[INFO] Valid Data: normal014.nii.gz\n",
      "[INFO] Normalizing Mask...\n",
      "[INFO] Saving...\n"
     ]
    },
    {
     "name": "stderr",
     "output_type": "stream",
     "text": [
      "100%|████████████████████████████████████████████████████████████████████████████████| 140/140 [00:02<00:00, 61.85it/s]\n"
     ]
    },
    {
     "name": "stdout",
     "output_type": "stream",
     "text": [
      "[INFO] Loading  normal015.nii.gz\n"
     ]
    },
    {
     "name": "stderr",
     "output_type": "stream",
     "text": [
      "  4%|███▍                                                                              | 6/145 [00:00<00:02, 59.66it/s]"
     ]
    },
    {
     "name": "stdout",
     "output_type": "stream",
     "text": [
      "[INFO] Volume Size:  (512, 512, 145)\n",
      "[INFO] Loading  normal015_lungmask_.nii\n",
      "[INFO] Volume Size:  (512, 512, 145)\n",
      "[INFO] Valid Data: normal015.nii.gz\n",
      "[INFO] Normalizing Mask...\n",
      "[INFO] Saving...\n"
     ]
    },
    {
     "name": "stderr",
     "output_type": "stream",
     "text": [
      "100%|████████████████████████████████████████████████████████████████████████████████| 145/145 [00:02<00:00, 63.39it/s]\n"
     ]
    },
    {
     "name": "stdout",
     "output_type": "stream",
     "text": [
      "[INFO] Loading  normal016.nii.gz\n"
     ]
    },
    {
     "name": "stderr",
     "output_type": "stream",
     "text": [
      "  6%|████▋                                                                             | 7/124 [00:00<00:01, 62.19it/s]"
     ]
    },
    {
     "name": "stdout",
     "output_type": "stream",
     "text": [
      "[INFO] Volume Size:  (512, 512, 124)\n",
      "[INFO] Loading  normal016_lungmask_.nii\n",
      "[INFO] Volume Size:  (512, 512, 124)\n",
      "[INFO] Valid Data: normal016.nii.gz\n",
      "[INFO] Normalizing Mask...\n",
      "[INFO] Saving...\n"
     ]
    },
    {
     "name": "stderr",
     "output_type": "stream",
     "text": [
      "100%|████████████████████████████████████████████████████████████████████████████████| 124/124 [00:01<00:00, 65.20it/s]\n"
     ]
    },
    {
     "name": "stdout",
     "output_type": "stream",
     "text": [
      "[INFO] Loading  normal017.nii.gz\n"
     ]
    },
    {
     "name": "stderr",
     "output_type": "stream",
     "text": [
      " 12%|█████████▍                                                                      | 21/177 [00:00<00:00, 205.84it/s]"
     ]
    },
    {
     "name": "stdout",
     "output_type": "stream",
     "text": [
      "[INFO] Volume Size:  (512, 512, 177)\n",
      "[INFO] Loading  normal017_lungmask_.nii\n",
      "[INFO] Volume Size:  (512, 512, 177)\n",
      "[INFO] Valid Data: normal017.nii.gz\n",
      "[INFO] Normalizing Mask...\n",
      "[INFO] Saving...\n"
     ]
    },
    {
     "name": "stderr",
     "output_type": "stream",
     "text": [
      "100%|████████████████████████████████████████████████████████████████████████████████| 177/177 [00:02<00:00, 73.66it/s]\n"
     ]
    },
    {
     "name": "stdout",
     "output_type": "stream",
     "text": [
      "[INFO] Loading  normal018.nii.gz\n"
     ]
    },
    {
     "name": "stderr",
     "output_type": "stream",
     "text": [
      "  5%|████▏                                                                             | 7/136 [00:00<00:02, 61.07it/s]"
     ]
    },
    {
     "name": "stdout",
     "output_type": "stream",
     "text": [
      "[INFO] Volume Size:  (512, 512, 136)\n",
      "[INFO] Loading  normal018_lungmask_.nii\n",
      "[INFO] Volume Size:  (512, 512, 136)\n",
      "[INFO] Valid Data: normal018.nii.gz\n",
      "[INFO] Normalizing Mask...\n",
      "[INFO] Saving...\n"
     ]
    },
    {
     "name": "stderr",
     "output_type": "stream",
     "text": [
      "100%|████████████████████████████████████████████████████████████████████████████████| 136/136 [00:02<00:00, 60.75it/s]\n"
     ]
    },
    {
     "name": "stdout",
     "output_type": "stream",
     "text": [
      "[INFO] Loading  normal019.nii.gz\n"
     ]
    },
    {
     "name": "stderr",
     "output_type": "stream",
     "text": [
      "  5%|████▎                                                                             | 7/133 [00:00<00:01, 64.94it/s]"
     ]
    },
    {
     "name": "stdout",
     "output_type": "stream",
     "text": [
      "[INFO] Volume Size:  (512, 512, 133)\n",
      "[INFO] Loading  normal019_lungmask_.nii\n",
      "[INFO] Volume Size:  (512, 512, 133)\n",
      "[INFO] Valid Data: normal019.nii.gz\n",
      "[INFO] Normalizing Mask...\n",
      "[INFO] Saving...\n"
     ]
    },
    {
     "name": "stderr",
     "output_type": "stream",
     "text": [
      "100%|████████████████████████████████████████████████████████████████████████████████| 133/133 [00:02<00:00, 61.70it/s]\n"
     ]
    },
    {
     "name": "stdout",
     "output_type": "stream",
     "text": [
      "[INFO] Loading  normal020.nii.gz\n"
     ]
    },
    {
     "name": "stderr",
     "output_type": "stream",
     "text": [
      "  7%|█████▍                                                                            | 9/137 [00:00<00:01, 80.10it/s]"
     ]
    },
    {
     "name": "stdout",
     "output_type": "stream",
     "text": [
      "[INFO] Volume Size:  (512, 512, 137)\n",
      "[INFO] Loading  normal020_lungmask_.nii\n",
      "[INFO] Volume Size:  (512, 512, 137)\n",
      "[INFO] Valid Data: normal020.nii.gz\n",
      "[INFO] Normalizing Mask...\n",
      "[INFO] Saving...\n"
     ]
    },
    {
     "name": "stderr",
     "output_type": "stream",
     "text": [
      "100%|████████████████████████████████████████████████████████████████████████████████| 137/137 [00:02<00:00, 59.83it/s]\n"
     ]
    },
    {
     "name": "stdout",
     "output_type": "stream",
     "text": [
      "[INFO] Loading  normal021.nii.gz\n"
     ]
    },
    {
     "name": "stderr",
     "output_type": "stream",
     "text": [
      " 13%|██████████▎                                                                     | 20/155 [00:00<00:00, 173.87it/s]"
     ]
    },
    {
     "name": "stdout",
     "output_type": "stream",
     "text": [
      "[INFO] Volume Size:  (512, 512, 155)\n",
      "[INFO] Loading  normal021_lungmask_.nii\n",
      "[INFO] Volume Size:  (512, 512, 155)\n",
      "[INFO] Valid Data: normal021.nii.gz\n",
      "[INFO] Normalizing Mask...\n",
      "[INFO] Saving...\n"
     ]
    },
    {
     "name": "stderr",
     "output_type": "stream",
     "text": [
      "100%|████████████████████████████████████████████████████████████████████████████████| 155/155 [00:02<00:00, 67.78it/s]\n"
     ]
    },
    {
     "name": "stdout",
     "output_type": "stream",
     "text": [
      "[INFO] Loading  normal022.nii.gz\n"
     ]
    },
    {
     "name": "stderr",
     "output_type": "stream",
     "text": [
      "  4%|███▎                                                                              | 6/149 [00:00<00:02, 58.90it/s]"
     ]
    },
    {
     "name": "stdout",
     "output_type": "stream",
     "text": [
      "[INFO] Volume Size:  (512, 512, 149)\n",
      "[INFO] Loading  normal022_lungmask_.nii\n",
      "[INFO] Volume Size:  (512, 512, 149)\n",
      "[INFO] Valid Data: normal022.nii.gz\n",
      "[INFO] Normalizing Mask...\n",
      "[INFO] Saving...\n"
     ]
    },
    {
     "name": "stderr",
     "output_type": "stream",
     "text": [
      "100%|████████████████████████████████████████████████████████████████████████████████| 149/149 [00:02<00:00, 65.47it/s]\n"
     ]
    },
    {
     "name": "stdout",
     "output_type": "stream",
     "text": [
      "[INFO] Loading  normal023.nii.gz\n"
     ]
    },
    {
     "name": "stderr",
     "output_type": "stream",
     "text": [
      " 10%|████████▍                                                                       | 17/162 [00:00<00:00, 157.52it/s]"
     ]
    },
    {
     "name": "stdout",
     "output_type": "stream",
     "text": [
      "[INFO] Volume Size:  (512, 512, 162)\n",
      "[INFO] Loading  normal023_lungmask_.nii\n",
      "[INFO] Volume Size:  (512, 512, 162)\n",
      "[INFO] Valid Data: normal023.nii.gz\n",
      "[INFO] Normalizing Mask...\n",
      "[INFO] Saving...\n"
     ]
    },
    {
     "name": "stderr",
     "output_type": "stream",
     "text": [
      "100%|████████████████████████████████████████████████████████████████████████████████| 162/162 [00:02<00:00, 65.73it/s]\n"
     ]
    },
    {
     "name": "stdout",
     "output_type": "stream",
     "text": [
      "[INFO] Loading  normal024.nii.gz\n"
     ]
    },
    {
     "name": "stderr",
     "output_type": "stream",
     "text": [
      " 11%|████████▌                                                                       | 18/167 [00:00<00:00, 180.00it/s]"
     ]
    },
    {
     "name": "stdout",
     "output_type": "stream",
     "text": [
      "[INFO] Volume Size:  (512, 512, 167)\n",
      "[INFO] Loading  normal024_lungmask_.nii\n",
      "[INFO] Volume Size:  (512, 512, 167)\n",
      "[INFO] Valid Data: normal024.nii.gz\n",
      "[INFO] Normalizing Mask...\n",
      "[INFO] Saving...\n"
     ]
    },
    {
     "name": "stderr",
     "output_type": "stream",
     "text": [
      "100%|████████████████████████████████████████████████████████████████████████████████| 167/167 [00:02<00:00, 66.56it/s]\n"
     ]
    },
    {
     "name": "stdout",
     "output_type": "stream",
     "text": [
      "[INFO] Loading  normal025.nii.gz\n"
     ]
    },
    {
     "name": "stderr",
     "output_type": "stream",
     "text": [
      " 12%|█████████▏                                                                      | 18/156 [00:00<00:00, 175.85it/s]"
     ]
    },
    {
     "name": "stdout",
     "output_type": "stream",
     "text": [
      "[INFO] Volume Size:  (512, 512, 156)\n",
      "[INFO] Loading  normal025_lungmask_.nii\n",
      "[INFO] Volume Size:  (512, 512, 156)\n",
      "[INFO] Valid Data: normal025.nii.gz\n",
      "[INFO] Normalizing Mask...\n",
      "[INFO] Saving...\n"
     ]
    },
    {
     "name": "stderr",
     "output_type": "stream",
     "text": [
      "100%|████████████████████████████████████████████████████████████████████████████████| 156/156 [00:02<00:00, 65.56it/s]\n"
     ]
    },
    {
     "name": "stdout",
     "output_type": "stream",
     "text": [
      "[INFO] Loading  normal026.nii.gz\n"
     ]
    },
    {
     "name": "stderr",
     "output_type": "stream",
     "text": [
      "  4%|███▎                                                                              | 6/147 [00:00<00:02, 57.14it/s]"
     ]
    },
    {
     "name": "stdout",
     "output_type": "stream",
     "text": [
      "[INFO] Volume Size:  (512, 512, 147)\n",
      "[INFO] Loading  normal026_lungmask_.nii\n",
      "[INFO] Volume Size:  (512, 512, 147)\n",
      "[INFO] Valid Data: normal026.nii.gz\n",
      "[INFO] Normalizing Mask...\n",
      "[INFO] Saving...\n"
     ]
    },
    {
     "name": "stderr",
     "output_type": "stream",
     "text": [
      "100%|████████████████████████████████████████████████████████████████████████████████| 147/147 [00:02<00:00, 59.52it/s]\n"
     ]
    },
    {
     "name": "stdout",
     "output_type": "stream",
     "text": [
      "[INFO] Loading  normal027.nii.gz\n"
     ]
    },
    {
     "name": "stderr",
     "output_type": "stream",
     "text": [
      " 11%|█████████                                                                       | 19/168 [00:00<00:00, 188.08it/s]"
     ]
    },
    {
     "name": "stdout",
     "output_type": "stream",
     "text": [
      "[INFO] Volume Size:  (512, 512, 168)\n",
      "[INFO] Loading  normal027_lungmask_.nii\n",
      "[INFO] Volume Size:  (512, 512, 168)\n",
      "[INFO] Valid Data: normal027.nii.gz\n",
      "[INFO] Normalizing Mask...\n",
      "[INFO] Saving...\n"
     ]
    },
    {
     "name": "stderr",
     "output_type": "stream",
     "text": [
      "100%|████████████████████████████████████████████████████████████████████████████████| 168/168 [00:02<00:00, 68.37it/s]\n"
     ]
    },
    {
     "name": "stdout",
     "output_type": "stream",
     "text": [
      "[INFO] Loading  normal028.nii.gz\n"
     ]
    },
    {
     "name": "stderr",
     "output_type": "stream",
     "text": [
      "  8%|██████▏                                                                          | 11/144 [00:00<00:01, 97.32it/s]"
     ]
    },
    {
     "name": "stdout",
     "output_type": "stream",
     "text": [
      "[INFO] Volume Size:  (512, 512, 144)\n",
      "[INFO] Loading  normal028_lungmask_.nii\n",
      "[INFO] Volume Size:  (512, 512, 144)\n",
      "[INFO] Valid Data: normal028.nii.gz\n",
      "[INFO] Normalizing Mask...\n",
      "[INFO] Saving...\n"
     ]
    },
    {
     "name": "stderr",
     "output_type": "stream",
     "text": [
      "100%|████████████████████████████████████████████████████████████████████████████████| 144/144 [00:02<00:00, 64.27it/s]\n"
     ]
    },
    {
     "name": "stdout",
     "output_type": "stream",
     "text": [
      "[INFO] Loading  normal029.nii.gz\n"
     ]
    },
    {
     "name": "stderr",
     "output_type": "stream",
     "text": [
      "  5%|████▏                                                                             | 7/137 [00:00<00:02, 64.21it/s]"
     ]
    },
    {
     "name": "stdout",
     "output_type": "stream",
     "text": [
      "[INFO] Volume Size:  (512, 512, 137)\n",
      "[INFO] Loading  normal029_lungmask_.nii\n",
      "[INFO] Volume Size:  (512, 512, 137)\n",
      "[INFO] Valid Data: normal029.nii.gz\n",
      "[INFO] Normalizing Mask...\n",
      "[INFO] Saving...\n"
     ]
    },
    {
     "name": "stderr",
     "output_type": "stream",
     "text": [
      "100%|████████████████████████████████████████████████████████████████████████████████| 137/137 [00:02<00:00, 59.78it/s]\n"
     ]
    },
    {
     "name": "stdout",
     "output_type": "stream",
     "text": [
      "[INFO] Loading  normal030.nii.gz\n"
     ]
    },
    {
     "name": "stderr",
     "output_type": "stream",
     "text": [
      "  5%|███▊                                                                              | 6/130 [00:00<00:02, 58.24it/s]"
     ]
    },
    {
     "name": "stdout",
     "output_type": "stream",
     "text": [
      "[INFO] Volume Size:  (512, 512, 130)\n",
      "[INFO] Loading  normal030_lungmask_.nii\n",
      "[INFO] Volume Size:  (512, 512, 130)\n",
      "[INFO] Valid Data: normal030.nii.gz\n",
      "[INFO] Normalizing Mask...\n",
      "[INFO] Saving...\n"
     ]
    },
    {
     "name": "stderr",
     "output_type": "stream",
     "text": [
      "100%|████████████████████████████████████████████████████████████████████████████████| 130/130 [00:02<00:00, 60.42it/s]\n"
     ]
    },
    {
     "name": "stdout",
     "output_type": "stream",
     "text": [
      "[INFO] Loading  normal031.nii.gz\n"
     ]
    },
    {
     "name": "stderr",
     "output_type": "stream",
     "text": [
      "  8%|██████▎                                                                         | 13/166 [00:00<00:01, 114.01it/s]"
     ]
    },
    {
     "name": "stdout",
     "output_type": "stream",
     "text": [
      "[INFO] Volume Size:  (512, 512, 166)\n",
      "[INFO] Loading  normal031_lungmask_.nii\n",
      "[INFO] Volume Size:  (512, 512, 166)\n",
      "[INFO] Valid Data: normal031.nii.gz\n",
      "[INFO] Normalizing Mask...\n",
      "[INFO] Saving...\n"
     ]
    },
    {
     "name": "stderr",
     "output_type": "stream",
     "text": [
      "100%|████████████████████████████████████████████████████████████████████████████████| 166/166 [00:02<00:00, 61.00it/s]\n"
     ]
    },
    {
     "name": "stdout",
     "output_type": "stream",
     "text": [
      "[INFO] Loading  normal032.nii.gz\n"
     ]
    },
    {
     "name": "stderr",
     "output_type": "stream",
     "text": [
      " 12%|█████████▊                                                                      | 18/146 [00:00<00:00, 173.04it/s]"
     ]
    },
    {
     "name": "stdout",
     "output_type": "stream",
     "text": [
      "[INFO] Volume Size:  (512, 512, 146)\n",
      "[INFO] Loading  normal032_lungmask_.nii\n",
      "[INFO] Volume Size:  (512, 512, 146)\n",
      "[INFO] Valid Data: normal032.nii.gz\n",
      "[INFO] Normalizing Mask...\n",
      "[INFO] Saving...\n"
     ]
    },
    {
     "name": "stderr",
     "output_type": "stream",
     "text": [
      "100%|████████████████████████████████████████████████████████████████████████████████| 146/146 [00:02<00:00, 71.85it/s]\n"
     ]
    },
    {
     "name": "stdout",
     "output_type": "stream",
     "text": [
      "[INFO] Loading  normal033.nii.gz\n"
     ]
    },
    {
     "name": "stderr",
     "output_type": "stream",
     "text": [
      "  4%|███▌                                                                              | 6/140 [00:00<00:02, 59.99it/s]"
     ]
    },
    {
     "name": "stdout",
     "output_type": "stream",
     "text": [
      "[INFO] Volume Size:  (512, 512, 140)\n",
      "[INFO] Loading  normal033_lungmask_.nii\n",
      "[INFO] Volume Size:  (512, 512, 140)\n",
      "[INFO] Valid Data: normal033.nii.gz\n",
      "[INFO] Normalizing Mask...\n",
      "[INFO] Saving...\n"
     ]
    },
    {
     "name": "stderr",
     "output_type": "stream",
     "text": [
      "100%|████████████████████████████████████████████████████████████████████████████████| 140/140 [00:02<00:00, 62.74it/s]\n"
     ]
    },
    {
     "name": "stdout",
     "output_type": "stream",
     "text": [
      "[INFO] Loading  normal034.nii.gz\n"
     ]
    },
    {
     "name": "stderr",
     "output_type": "stream",
     "text": [
      "  4%|███▋                                                                              | 6/134 [00:00<00:02, 59.47it/s]"
     ]
    },
    {
     "name": "stdout",
     "output_type": "stream",
     "text": [
      "[INFO] Volume Size:  (512, 512, 134)\n",
      "[INFO] Loading  normal034_lungmask_.nii\n",
      "[INFO] Volume Size:  (512, 512, 134)\n",
      "[INFO] Valid Data: normal034.nii.gz\n",
      "[INFO] Normalizing Mask...\n",
      "[INFO] Saving...\n"
     ]
    },
    {
     "name": "stderr",
     "output_type": "stream",
     "text": [
      "100%|████████████████████████████████████████████████████████████████████████████████| 134/134 [00:02<00:00, 62.75it/s]\n"
     ]
    },
    {
     "name": "stdout",
     "output_type": "stream",
     "text": [
      "[INFO] Loading  normal035.nii.gz\n"
     ]
    },
    {
     "name": "stderr",
     "output_type": "stream",
     "text": [
      "  5%|███▉                                                                              | 6/126 [00:00<00:02, 57.98it/s]"
     ]
    },
    {
     "name": "stdout",
     "output_type": "stream",
     "text": [
      "[INFO] Volume Size:  (512, 512, 126)\n",
      "[INFO] Loading  normal035_lungmask_.nii\n",
      "[INFO] Volume Size:  (512, 512, 126)\n",
      "[INFO] Valid Data: normal035.nii.gz\n",
      "[INFO] Normalizing Mask...\n",
      "[INFO] Saving...\n"
     ]
    },
    {
     "name": "stderr",
     "output_type": "stream",
     "text": [
      "100%|████████████████████████████████████████████████████████████████████████████████| 126/126 [00:02<00:00, 59.82it/s]\n"
     ]
    },
    {
     "name": "stdout",
     "output_type": "stream",
     "text": [
      "[INFO] Loading  normal036.nii.gz\n"
     ]
    },
    {
     "name": "stderr",
     "output_type": "stream",
     "text": [
      "  7%|█████▌                                                                          | 11/159 [00:00<00:01, 101.24it/s]"
     ]
    },
    {
     "name": "stdout",
     "output_type": "stream",
     "text": [
      "[INFO] Volume Size:  (512, 512, 159)\n",
      "[INFO] Loading  normal036_lungmask_.nii\n",
      "[INFO] Volume Size:  (512, 512, 159)\n",
      "[INFO] Valid Data: normal036.nii.gz\n",
      "[INFO] Normalizing Mask...\n",
      "[INFO] Saving...\n"
     ]
    },
    {
     "name": "stderr",
     "output_type": "stream",
     "text": [
      "100%|████████████████████████████████████████████████████████████████████████████████| 159/159 [00:02<00:00, 63.23it/s]\n"
     ]
    },
    {
     "name": "stdout",
     "output_type": "stream",
     "text": [
      "[INFO] Loading  normal037.nii.gz\n"
     ]
    },
    {
     "name": "stderr",
     "output_type": "stream",
     "text": [
      "  9%|███████                                                                         | 13/148 [00:00<00:01, 121.47it/s]"
     ]
    },
    {
     "name": "stdout",
     "output_type": "stream",
     "text": [
      "[INFO] Volume Size:  (512, 512, 148)\n",
      "[INFO] Loading  normal037_lungmask_.nii\n",
      "[INFO] Volume Size:  (512, 512, 148)\n",
      "[INFO] Valid Data: normal037.nii.gz\n",
      "[INFO] Normalizing Mask...\n",
      "[INFO] Saving...\n"
     ]
    },
    {
     "name": "stderr",
     "output_type": "stream",
     "text": [
      "100%|████████████████████████████████████████████████████████████████████████████████| 148/148 [00:02<00:00, 64.88it/s]\n"
     ]
    },
    {
     "name": "stdout",
     "output_type": "stream",
     "text": [
      "[INFO] Loading  normal038.nii.gz\n"
     ]
    },
    {
     "name": "stderr",
     "output_type": "stream",
     "text": [
      " 10%|███████▊                                                                        | 18/185 [00:00<00:01, 160.52it/s]"
     ]
    },
    {
     "name": "stdout",
     "output_type": "stream",
     "text": [
      "[INFO] Volume Size:  (512, 512, 185)\n",
      "[INFO] Loading  normal038_lungmask_.nii\n",
      "[INFO] Volume Size:  (512, 512, 185)\n",
      "[INFO] Valid Data: normal038.nii.gz\n",
      "[INFO] Normalizing Mask...\n",
      "[INFO] Saving...\n"
     ]
    },
    {
     "name": "stderr",
     "output_type": "stream",
     "text": [
      "100%|████████████████████████████████████████████████████████████████████████████████| 185/185 [00:02<00:00, 66.37it/s]\n"
     ]
    },
    {
     "name": "stdout",
     "output_type": "stream",
     "text": [
      "[INFO] Loading  normal039.nii.gz\n"
     ]
    },
    {
     "name": "stderr",
     "output_type": "stream",
     "text": [
      " 10%|███████▊                                                                        | 15/154 [00:00<00:01, 130.40it/s]"
     ]
    },
    {
     "name": "stdout",
     "output_type": "stream",
     "text": [
      "[INFO] Volume Size:  (512, 512, 154)\n",
      "[INFO] Loading  normal039_lungmask_.nii\n",
      "[INFO] Volume Size:  (512, 512, 154)\n",
      "[INFO] Valid Data: normal039.nii.gz\n",
      "[INFO] Normalizing Mask...\n",
      "[INFO] Saving...\n"
     ]
    },
    {
     "name": "stderr",
     "output_type": "stream",
     "text": [
      "100%|████████████████████████████████████████████████████████████████████████████████| 154/154 [00:02<00:00, 61.54it/s]\n"
     ]
    },
    {
     "name": "stdout",
     "output_type": "stream",
     "text": [
      "[INFO] Loading  normal040.nii.gz\n"
     ]
    },
    {
     "name": "stderr",
     "output_type": "stream",
     "text": [
      " 12%|█████████▌                                                                      | 18/151 [00:00<00:00, 159.28it/s]"
     ]
    },
    {
     "name": "stdout",
     "output_type": "stream",
     "text": [
      "[INFO] Volume Size:  (512, 512, 151)\n",
      "[INFO] Loading  normal040_lungmask_.nii\n",
      "[INFO] Volume Size:  (512, 512, 151)\n",
      "[INFO] Valid Data: normal040.nii.gz\n",
      "[INFO] Normalizing Mask...\n",
      "[INFO] Saving...\n"
     ]
    },
    {
     "name": "stderr",
     "output_type": "stream",
     "text": [
      "100%|████████████████████████████████████████████████████████████████████████████████| 151/151 [00:02<00:00, 65.15it/s]\n"
     ]
    },
    {
     "name": "stdout",
     "output_type": "stream",
     "text": [
      "[INFO] Loading  normal041.nii.gz\n"
     ]
    },
    {
     "name": "stderr",
     "output_type": "stream",
     "text": [
      "  5%|████▎                                                                             | 8/151 [00:00<00:01, 79.19it/s]"
     ]
    },
    {
     "name": "stdout",
     "output_type": "stream",
     "text": [
      "[INFO] Volume Size:  (512, 512, 151)\n",
      "[INFO] Loading  normal041_lungmask_.nii\n",
      "[INFO] Volume Size:  (512, 512, 151)\n",
      "[INFO] Valid Data: normal041.nii.gz\n",
      "[INFO] Normalizing Mask...\n",
      "[INFO] Saving...\n"
     ]
    },
    {
     "name": "stderr",
     "output_type": "stream",
     "text": [
      "100%|████████████████████████████████████████████████████████████████████████████████| 151/151 [00:02<00:00, 56.92it/s]\n"
     ]
    },
    {
     "name": "stdout",
     "output_type": "stream",
     "text": [
      "[INFO] Loading  normal042.nii.gz\n"
     ]
    },
    {
     "name": "stderr",
     "output_type": "stream",
     "text": [
      "  5%|███▊                                                                              | 6/129 [00:00<00:02, 56.44it/s]"
     ]
    },
    {
     "name": "stdout",
     "output_type": "stream",
     "text": [
      "[INFO] Volume Size:  (512, 512, 129)\n",
      "[INFO] Loading  normal042_lungmask_.nii\n",
      "[INFO] Volume Size:  (512, 512, 129)\n",
      "[INFO] Valid Data: normal042.nii.gz\n",
      "[INFO] Normalizing Mask...\n",
      "[INFO] Saving...\n"
     ]
    },
    {
     "name": "stderr",
     "output_type": "stream",
     "text": [
      "100%|████████████████████████████████████████████████████████████████████████████████| 129/129 [00:02<00:00, 59.78it/s]\n"
     ]
    },
    {
     "name": "stdout",
     "output_type": "stream",
     "text": [
      "[INFO] Loading  normal043.nii.gz\n"
     ]
    },
    {
     "name": "stderr",
     "output_type": "stream",
     "text": [
      " 10%|███████▊                                                                        | 14/143 [00:00<00:00, 134.56it/s]"
     ]
    },
    {
     "name": "stdout",
     "output_type": "stream",
     "text": [
      "[INFO] Volume Size:  (512, 512, 143)\n",
      "[INFO] Loading  normal043_lungmask_.nii\n",
      "[INFO] Volume Size:  (512, 512, 143)\n",
      "[INFO] Valid Data: normal043.nii.gz\n",
      "[INFO] Normalizing Mask...\n",
      "[INFO] Saving...\n"
     ]
    },
    {
     "name": "stderr",
     "output_type": "stream",
     "text": [
      "100%|████████████████████████████████████████████████████████████████████████████████| 143/143 [00:02<00:00, 58.81it/s]\n"
     ]
    },
    {
     "name": "stdout",
     "output_type": "stream",
     "text": [
      "[INFO] Loading  normal044.nii.gz\n"
     ]
    },
    {
     "name": "stderr",
     "output_type": "stream",
     "text": [
      " 13%|██████████▏                                                                     | 19/150 [00:00<00:00, 189.95it/s]"
     ]
    },
    {
     "name": "stdout",
     "output_type": "stream",
     "text": [
      "[INFO] Volume Size:  (512, 512, 150)\n",
      "[INFO] Loading  normal044_lungmask_.nii\n",
      "[INFO] Volume Size:  (512, 512, 150)\n",
      "[INFO] Valid Data: normal044.nii.gz\n",
      "[INFO] Normalizing Mask...\n",
      "[INFO] Saving...\n"
     ]
    },
    {
     "name": "stderr",
     "output_type": "stream",
     "text": [
      "100%|████████████████████████████████████████████████████████████████████████████████| 150/150 [00:02<00:00, 66.08it/s]\n"
     ]
    },
    {
     "name": "stdout",
     "output_type": "stream",
     "text": [
      "[INFO] Loading  normal045.nii.gz\n"
     ]
    },
    {
     "name": "stderr",
     "output_type": "stream",
     "text": [
      "  6%|████▊                                                                             | 9/154 [00:00<00:01, 82.46it/s]"
     ]
    },
    {
     "name": "stdout",
     "output_type": "stream",
     "text": [
      "[INFO] Volume Size:  (512, 512, 154)\n",
      "[INFO] Loading  normal045_lungmask_.nii\n",
      "[INFO] Volume Size:  (512, 512, 154)\n",
      "[INFO] Valid Data: normal045.nii.gz\n",
      "[INFO] Normalizing Mask...\n",
      "[INFO] Saving...\n"
     ]
    },
    {
     "name": "stderr",
     "output_type": "stream",
     "text": [
      "100%|████████████████████████████████████████████████████████████████████████████████| 154/154 [00:02<00:00, 59.41it/s]\n"
     ]
    },
    {
     "name": "stdout",
     "output_type": "stream",
     "text": [
      "[INFO] Loading  normal046.nii.gz\n"
     ]
    },
    {
     "name": "stderr",
     "output_type": "stream",
     "text": [
      "  4%|███▍                                                                              | 6/142 [00:00<00:02, 57.68it/s]"
     ]
    },
    {
     "name": "stdout",
     "output_type": "stream",
     "text": [
      "[INFO] Volume Size:  (512, 512, 142)\n",
      "[INFO] Loading  normal046_lungmask_.nii\n",
      "[INFO] Volume Size:  (512, 512, 142)\n",
      "[INFO] Valid Data: normal046.nii.gz\n",
      "[INFO] Normalizing Mask...\n",
      "[INFO] Saving...\n"
     ]
    },
    {
     "name": "stderr",
     "output_type": "stream",
     "text": [
      "100%|████████████████████████████████████████████████████████████████████████████████| 142/142 [00:02<00:00, 62.00it/s]\n"
     ]
    },
    {
     "name": "stdout",
     "output_type": "stream",
     "text": [
      "[INFO] Loading  normal047.nii.gz\n"
     ]
    },
    {
     "name": "stderr",
     "output_type": "stream",
     "text": [
      "  6%|████▊                                                                             | 7/118 [00:00<00:01, 62.52it/s]"
     ]
    },
    {
     "name": "stdout",
     "output_type": "stream",
     "text": [
      "[INFO] Volume Size:  (512, 512, 118)\n",
      "[INFO] Loading  normal047_lungmask_.nii\n",
      "[INFO] Volume Size:  (512, 512, 118)\n",
      "[INFO] Valid Data: normal047.nii.gz\n",
      "[INFO] Normalizing Mask...\n",
      "[INFO] Saving...\n"
     ]
    },
    {
     "name": "stderr",
     "output_type": "stream",
     "text": [
      "100%|████████████████████████████████████████████████████████████████████████████████| 118/118 [00:01<00:00, 60.22it/s]\n"
     ]
    },
    {
     "name": "stdout",
     "output_type": "stream",
     "text": [
      "[INFO] Loading  normal048.nii.gz\n"
     ]
    },
    {
     "name": "stderr",
     "output_type": "stream",
     "text": [
      " 12%|█████████▌                                                                      | 20/168 [00:00<00:00, 196.03it/s]"
     ]
    },
    {
     "name": "stdout",
     "output_type": "stream",
     "text": [
      "[INFO] Volume Size:  (512, 512, 168)\n",
      "[INFO] Loading  normal048_lungmask_.nii\n",
      "[INFO] Volume Size:  (512, 512, 168)\n",
      "[INFO] Valid Data: normal048.nii.gz\n",
      "[INFO] Normalizing Mask...\n",
      "[INFO] Saving...\n"
     ]
    },
    {
     "name": "stderr",
     "output_type": "stream",
     "text": [
      "100%|████████████████████████████████████████████████████████████████████████████████| 168/168 [00:02<00:00, 67.27it/s]\n"
     ]
    },
    {
     "name": "stdout",
     "output_type": "stream",
     "text": [
      "[INFO] Loading  normal049.nii.gz\n"
     ]
    },
    {
     "name": "stderr",
     "output_type": "stream",
     "text": [
      "  8%|██████▍                                                                         | 13/162 [00:00<00:01, 128.68it/s]"
     ]
    },
    {
     "name": "stdout",
     "output_type": "stream",
     "text": [
      "[INFO] Volume Size:  (512, 512, 162)\n",
      "[INFO] Loading  normal049_lungmask_.nii\n",
      "[INFO] Volume Size:  (512, 512, 162)\n",
      "[INFO] Valid Data: normal049.nii.gz\n",
      "[INFO] Normalizing Mask...\n",
      "[INFO] Saving...\n"
     ]
    },
    {
     "name": "stderr",
     "output_type": "stream",
     "text": [
      "100%|████████████████████████████████████████████████████████████████████████████████| 162/162 [00:02<00:00, 65.94it/s]\n"
     ]
    },
    {
     "name": "stdout",
     "output_type": "stream",
     "text": [
      "[INFO] Loading  normal050.nii.gz\n"
     ]
    },
    {
     "name": "stderr",
     "output_type": "stream",
     "text": [
      "  5%|███▊                                                                              | 8/172 [00:00<00:02, 70.67it/s]"
     ]
    },
    {
     "name": "stdout",
     "output_type": "stream",
     "text": [
      "[INFO] Volume Size:  (512, 512, 172)\n",
      "[INFO] Loading  normal050_lungmask_.nii\n",
      "[INFO] Volume Size:  (512, 512, 172)\n",
      "[INFO] Valid Data: normal050.nii.gz\n",
      "[INFO] Normalizing Mask...\n",
      "[INFO] Saving...\n"
     ]
    },
    {
     "name": "stderr",
     "output_type": "stream",
     "text": [
      "100%|████████████████████████████████████████████████████████████████████████████████| 172/172 [00:02<00:00, 60.80it/s]\n"
     ]
    },
    {
     "name": "stdout",
     "output_type": "stream",
     "text": [
      "[INFO] Loading  normal051.nii.gz\n"
     ]
    },
    {
     "name": "stderr",
     "output_type": "stream",
     "text": [
      "  9%|███████                                                                         | 14/160 [00:00<00:01, 120.66it/s]"
     ]
    },
    {
     "name": "stdout",
     "output_type": "stream",
     "text": [
      "[INFO] Volume Size:  (512, 512, 160)\n",
      "[INFO] Loading  normal051_lungmask_.nii\n",
      "[INFO] Volume Size:  (512, 512, 160)\n",
      "[INFO] Valid Data: normal051.nii.gz\n",
      "[INFO] Normalizing Mask...\n",
      "[INFO] Saving...\n"
     ]
    },
    {
     "name": "stderr",
     "output_type": "stream",
     "text": [
      "100%|████████████████████████████████████████████████████████████████████████████████| 160/160 [00:02<00:00, 64.68it/s]\n"
     ]
    },
    {
     "name": "stdout",
     "output_type": "stream",
     "text": [
      "[INFO] Loading  normal052.nii.gz\n"
     ]
    },
    {
     "name": "stderr",
     "output_type": "stream",
     "text": [
      "  6%|████▌                                                                             | 8/142 [00:00<00:01, 76.90it/s]"
     ]
    },
    {
     "name": "stdout",
     "output_type": "stream",
     "text": [
      "[INFO] Volume Size:  (512, 512, 142)\n",
      "[INFO] Loading  normal052_lungmask_.nii\n",
      "[INFO] Volume Size:  (512, 512, 142)\n",
      "[INFO] Valid Data: normal052.nii.gz\n",
      "[INFO] Normalizing Mask...\n",
      "[INFO] Saving...\n"
     ]
    },
    {
     "name": "stderr",
     "output_type": "stream",
     "text": [
      "100%|████████████████████████████████████████████████████████████████████████████████| 142/142 [00:02<00:00, 62.54it/s]\n"
     ]
    },
    {
     "name": "stdout",
     "output_type": "stream",
     "text": [
      "[INFO] Loading  normal053.nii.gz\n"
     ]
    },
    {
     "name": "stderr",
     "output_type": "stream",
     "text": [
      "  4%|███▏                                                                              | 6/152 [00:00<00:02, 59.40it/s]"
     ]
    },
    {
     "name": "stdout",
     "output_type": "stream",
     "text": [
      "[INFO] Volume Size:  (512, 512, 152)\n",
      "[INFO] Loading  normal053_lungmask_.nii\n",
      "[INFO] Volume Size:  (512, 512, 152)\n",
      "[INFO] Valid Data: normal053.nii.gz\n",
      "[INFO] Normalizing Mask...\n",
      "[INFO] Saving...\n"
     ]
    },
    {
     "name": "stderr",
     "output_type": "stream",
     "text": [
      "100%|████████████████████████████████████████████████████████████████████████████████| 152/152 [00:02<00:00, 60.85it/s]\n"
     ]
    },
    {
     "name": "stdout",
     "output_type": "stream",
     "text": [
      "[INFO] Loading  normal054.nii.gz\n"
     ]
    },
    {
     "name": "stderr",
     "output_type": "stream",
     "text": [
      " 11%|████████▊                                                                       | 18/164 [00:00<00:00, 155.69it/s]"
     ]
    },
    {
     "name": "stdout",
     "output_type": "stream",
     "text": [
      "[INFO] Volume Size:  (512, 512, 164)\n",
      "[INFO] Loading  normal054_lungmask_.nii\n",
      "[INFO] Volume Size:  (512, 512, 164)\n",
      "[INFO] Valid Data: normal054.nii.gz\n",
      "[INFO] Normalizing Mask...\n",
      "[INFO] Saving...\n"
     ]
    },
    {
     "name": "stderr",
     "output_type": "stream",
     "text": [
      "100%|████████████████████████████████████████████████████████████████████████████████| 164/164 [00:02<00:00, 68.49it/s]\n"
     ]
    },
    {
     "name": "stdout",
     "output_type": "stream",
     "text": [
      "[INFO] Loading  normal055.nii.gz\n"
     ]
    },
    {
     "name": "stderr",
     "output_type": "stream",
     "text": [
      "  8%|██████▋                                                                         | 12/144 [00:00<00:01, 113.18it/s]"
     ]
    },
    {
     "name": "stdout",
     "output_type": "stream",
     "text": [
      "[INFO] Volume Size:  (512, 512, 144)\n",
      "[INFO] Loading  normal055_lungmask_.nii\n",
      "[INFO] Volume Size:  (512, 512, 144)\n",
      "[INFO] Valid Data: normal055.nii.gz\n",
      "[INFO] Normalizing Mask...\n",
      "[INFO] Saving...\n"
     ]
    },
    {
     "name": "stderr",
     "output_type": "stream",
     "text": [
      "100%|████████████████████████████████████████████████████████████████████████████████| 144/144 [00:02<00:00, 61.75it/s]\n"
     ]
    },
    {
     "name": "stdout",
     "output_type": "stream",
     "text": [
      "[INFO] Loading  normal056.nii.gz\n"
     ]
    },
    {
     "name": "stderr",
     "output_type": "stream",
     "text": [
      " 10%|████████                                                                        | 15/148 [00:00<00:00, 145.60it/s]"
     ]
    },
    {
     "name": "stdout",
     "output_type": "stream",
     "text": [
      "[INFO] Volume Size:  (512, 512, 148)\n",
      "[INFO] Loading  normal056_lungmask_.nii\n",
      "[INFO] Volume Size:  (512, 512, 148)\n",
      "[INFO] Valid Data: normal056.nii.gz\n",
      "[INFO] Normalizing Mask...\n",
      "[INFO] Saving...\n"
     ]
    },
    {
     "name": "stderr",
     "output_type": "stream",
     "text": [
      "100%|████████████████████████████████████████████████████████████████████████████████| 148/148 [00:02<00:00, 64.54it/s]\n"
     ]
    },
    {
     "name": "stdout",
     "output_type": "stream",
     "text": [
      "[INFO] Loading  normal057.nii.gz\n"
     ]
    },
    {
     "name": "stderr",
     "output_type": "stream",
     "text": [
      "  8%|██████▋                                                                         | 13/155 [00:00<00:01, 128.81it/s]"
     ]
    },
    {
     "name": "stdout",
     "output_type": "stream",
     "text": [
      "[INFO] Volume Size:  (512, 512, 155)\n",
      "[INFO] Loading  normal057_lungmask_.nii\n",
      "[INFO] Volume Size:  (512, 512, 155)\n",
      "[INFO] Valid Data: normal057.nii.gz\n",
      "[INFO] Normalizing Mask...\n",
      "[INFO] Saving...\n"
     ]
    },
    {
     "name": "stderr",
     "output_type": "stream",
     "text": [
      "100%|████████████████████████████████████████████████████████████████████████████████| 155/155 [00:02<00:00, 62.52it/s]\n"
     ]
    },
    {
     "name": "stdout",
     "output_type": "stream",
     "text": [
      "[INFO] Loading  normal058.nii.gz\n"
     ]
    },
    {
     "name": "stderr",
     "output_type": "stream",
     "text": [
      " 12%|█████████▍                                                                      | 17/145 [00:00<00:00, 147.79it/s]"
     ]
    },
    {
     "name": "stdout",
     "output_type": "stream",
     "text": [
      "[INFO] Volume Size:  (512, 512, 145)\n",
      "[INFO] Loading  normal058_lungmask_.nii\n",
      "[INFO] Volume Size:  (512, 512, 145)\n",
      "[INFO] Valid Data: normal058.nii.gz\n",
      "[INFO] Normalizing Mask...\n",
      "[INFO] Saving...\n"
     ]
    },
    {
     "name": "stderr",
     "output_type": "stream",
     "text": [
      "100%|████████████████████████████████████████████████████████████████████████████████| 145/145 [00:02<00:00, 65.62it/s]\n"
     ]
    },
    {
     "name": "stdout",
     "output_type": "stream",
     "text": [
      "[INFO] Loading  normal059.nii.gz\n"
     ]
    },
    {
     "name": "stderr",
     "output_type": "stream",
     "text": [
      "  7%|█████▌                                                                          | 12/174 [00:00<00:01, 107.12it/s]"
     ]
    },
    {
     "name": "stdout",
     "output_type": "stream",
     "text": [
      "[INFO] Volume Size:  (512, 512, 174)\n",
      "[INFO] Loading  normal059_lungmask_.nii\n",
      "[INFO] Volume Size:  (512, 512, 174)\n",
      "[INFO] Valid Data: normal059.nii.gz\n",
      "[INFO] Normalizing Mask...\n",
      "[INFO] Saving...\n"
     ]
    },
    {
     "name": "stderr",
     "output_type": "stream",
     "text": [
      "100%|████████████████████████████████████████████████████████████████████████████████| 174/174 [00:02<00:00, 62.98it/s]\n"
     ]
    },
    {
     "name": "stdout",
     "output_type": "stream",
     "text": [
      "[INFO] Loading  normal060.nii.gz\n"
     ]
    },
    {
     "name": "stderr",
     "output_type": "stream",
     "text": [
      "  9%|███████                                                                         | 15/170 [00:00<00:01, 138.98it/s]"
     ]
    },
    {
     "name": "stdout",
     "output_type": "stream",
     "text": [
      "[INFO] Volume Size:  (512, 512, 170)\n",
      "[INFO] Loading  normal060_lungmask_.nii\n",
      "[INFO] Volume Size:  (512, 512, 170)\n",
      "[INFO] Valid Data: normal060.nii.gz\n",
      "[INFO] Normalizing Mask...\n",
      "[INFO] Saving...\n"
     ]
    },
    {
     "name": "stderr",
     "output_type": "stream",
     "text": [
      "100%|████████████████████████████████████████████████████████████████████████████████| 170/170 [00:02<00:00, 65.46it/s]\n"
     ]
    },
    {
     "name": "stdout",
     "output_type": "stream",
     "text": [
      "[INFO] Loading  normal061.nii.gz\n"
     ]
    },
    {
     "name": "stderr",
     "output_type": "stream",
     "text": [
      "  6%|█████▏                                                                            | 7/112 [00:00<00:01, 61.38it/s]"
     ]
    },
    {
     "name": "stdout",
     "output_type": "stream",
     "text": [
      "[INFO] Volume Size:  (512, 512, 112)\n",
      "[INFO] Loading  normal061_lungmask_.nii\n",
      "[INFO] Volume Size:  (512, 512, 112)\n",
      "[INFO] Valid Data: normal061.nii.gz\n",
      "[INFO] Normalizing Mask...\n",
      "[INFO] Saving...\n"
     ]
    },
    {
     "name": "stderr",
     "output_type": "stream",
     "text": [
      "100%|████████████████████████████████████████████████████████████████████████████████| 112/112 [00:01<00:00, 61.53it/s]\n"
     ]
    },
    {
     "name": "stdout",
     "output_type": "stream",
     "text": [
      "[INFO] Loading  normal062.nii.gz\n"
     ]
    },
    {
     "name": "stderr",
     "output_type": "stream",
     "text": [
      " 13%|██████████▋                                                                     | 19/142 [00:00<00:00, 177.53it/s]"
     ]
    },
    {
     "name": "stdout",
     "output_type": "stream",
     "text": [
      "[INFO] Volume Size:  (512, 512, 142)\n",
      "[INFO] Loading  normal062_lungmask_.nii\n",
      "[INFO] Volume Size:  (512, 512, 142)\n",
      "[INFO] Valid Data: normal062.nii.gz\n",
      "[INFO] Normalizing Mask...\n",
      "[INFO] Saving...\n"
     ]
    },
    {
     "name": "stderr",
     "output_type": "stream",
     "text": [
      "100%|████████████████████████████████████████████████████████████████████████████████| 142/142 [00:02<00:00, 69.46it/s]\n"
     ]
    },
    {
     "name": "stdout",
     "output_type": "stream",
     "text": [
      "[INFO] Loading  normal063.nii.gz\n"
     ]
    },
    {
     "name": "stderr",
     "output_type": "stream",
     "text": [
      "  8%|██████▌                                                                          | 10/123 [00:00<00:01, 93.58it/s]"
     ]
    },
    {
     "name": "stdout",
     "output_type": "stream",
     "text": [
      "[INFO] Volume Size:  (512, 512, 123)\n",
      "[INFO] Loading  normal063_lungmask_.nii\n",
      "[INFO] Volume Size:  (512, 512, 123)\n",
      "[INFO] Valid Data: normal063.nii.gz\n",
      "[INFO] Normalizing Mask...\n",
      "[INFO] Saving...\n"
     ]
    },
    {
     "name": "stderr",
     "output_type": "stream",
     "text": [
      "100%|████████████████████████████████████████████████████████████████████████████████| 123/123 [00:01<00:00, 65.55it/s]\n"
     ]
    },
    {
     "name": "stdout",
     "output_type": "stream",
     "text": [
      "[INFO] Loading  normal064.nii.gz\n"
     ]
    },
    {
     "name": "stderr",
     "output_type": "stream",
     "text": [
      "  8%|██████▌                                                                         | 13/160 [00:00<00:01, 124.98it/s]"
     ]
    },
    {
     "name": "stdout",
     "output_type": "stream",
     "text": [
      "[INFO] Volume Size:  (512, 512, 160)\n",
      "[INFO] Loading  normal064_lungmask_.nii\n",
      "[INFO] Volume Size:  (512, 512, 160)\n",
      "[INFO] Valid Data: normal064.nii.gz\n",
      "[INFO] Normalizing Mask...\n",
      "[INFO] Saving...\n"
     ]
    },
    {
     "name": "stderr",
     "output_type": "stream",
     "text": [
      "100%|████████████████████████████████████████████████████████████████████████████████| 160/160 [00:02<00:00, 67.68it/s]\n"
     ]
    },
    {
     "name": "stdout",
     "output_type": "stream",
     "text": [
      "[INFO] Loading  normal065.nii.gz\n"
     ]
    },
    {
     "name": "stderr",
     "output_type": "stream",
     "text": [
      "  7%|█████▉                                                                          | 12/163 [00:00<00:01, 104.11it/s]"
     ]
    },
    {
     "name": "stdout",
     "output_type": "stream",
     "text": [
      "[INFO] Volume Size:  (512, 512, 163)\n",
      "[INFO] Loading  normal065_lungmask_.nii\n",
      "[INFO] Volume Size:  (512, 512, 163)\n",
      "[INFO] Valid Data: normal065.nii.gz\n",
      "[INFO] Normalizing Mask...\n",
      "[INFO] Saving...\n"
     ]
    },
    {
     "name": "stderr",
     "output_type": "stream",
     "text": [
      "100%|████████████████████████████████████████████████████████████████████████████████| 163/163 [00:02<00:00, 57.85it/s]\n"
     ]
    },
    {
     "name": "stdout",
     "output_type": "stream",
     "text": [
      "[INFO] Loading  normal066.nii.gz\n"
     ]
    },
    {
     "name": "stderr",
     "output_type": "stream",
     "text": [
      "  4%|███▏                                                                              | 6/156 [00:00<00:02, 59.40it/s]"
     ]
    },
    {
     "name": "stdout",
     "output_type": "stream",
     "text": [
      "[INFO] Volume Size:  (512, 512, 156)\n",
      "[INFO] Loading  normal066_lungmask_.nii\n",
      "[INFO] Volume Size:  (512, 512, 156)\n",
      "[INFO] Valid Data: normal066.nii.gz\n",
      "[INFO] Normalizing Mask...\n",
      "[INFO] Saving...\n"
     ]
    },
    {
     "name": "stderr",
     "output_type": "stream",
     "text": [
      "100%|████████████████████████████████████████████████████████████████████████████████| 156/156 [00:02<00:00, 64.17it/s]\n"
     ]
    },
    {
     "name": "stdout",
     "output_type": "stream",
     "text": [
      "[INFO] Loading  normal067.nii.gz\n"
     ]
    },
    {
     "name": "stderr",
     "output_type": "stream",
     "text": [
      "  7%|█████▋                                                                          | 11/155 [00:00<00:01, 101.84it/s]"
     ]
    },
    {
     "name": "stdout",
     "output_type": "stream",
     "text": [
      "[INFO] Volume Size:  (512, 512, 155)\n",
      "[INFO] Loading  normal067_lungmask_.nii\n",
      "[INFO] Volume Size:  (512, 512, 155)\n",
      "[INFO] Valid Data: normal067.nii.gz\n",
      "[INFO] Normalizing Mask...\n",
      "[INFO] Saving...\n"
     ]
    },
    {
     "name": "stderr",
     "output_type": "stream",
     "text": [
      "100%|████████████████████████████████████████████████████████████████████████████████| 155/155 [00:02<00:00, 64.34it/s]\n"
     ]
    },
    {
     "name": "stdout",
     "output_type": "stream",
     "text": [
      "[INFO] Loading  normal068.nii.gz\n"
     ]
    },
    {
     "name": "stderr",
     "output_type": "stream",
     "text": [
      "  5%|████▎                                                                             | 7/132 [00:00<00:02, 61.38it/s]"
     ]
    },
    {
     "name": "stdout",
     "output_type": "stream",
     "text": [
      "[INFO] Volume Size:  (512, 512, 132)\n",
      "[INFO] Loading  normal068_lungmask_.nii\n",
      "[INFO] Volume Size:  (512, 512, 132)\n",
      "[INFO] Valid Data: normal068.nii.gz\n",
      "[INFO] Normalizing Mask...\n",
      "[INFO] Saving...\n"
     ]
    },
    {
     "name": "stderr",
     "output_type": "stream",
     "text": [
      "100%|████████████████████████████████████████████████████████████████████████████████| 132/132 [00:02<00:00, 60.83it/s]\n"
     ]
    },
    {
     "name": "stdout",
     "output_type": "stream",
     "text": [
      "[INFO] Loading  normal069.nii.gz\n"
     ]
    },
    {
     "name": "stderr",
     "output_type": "stream",
     "text": [
      "  9%|███████▍                                                                        | 16/173 [00:00<00:01, 152.13it/s]"
     ]
    },
    {
     "name": "stdout",
     "output_type": "stream",
     "text": [
      "[INFO] Volume Size:  (512, 512, 173)\n",
      "[INFO] Loading  normal069_lungmask_.nii\n",
      "[INFO] Volume Size:  (512, 512, 173)\n",
      "[INFO] Valid Data: normal069.nii.gz\n",
      "[INFO] Normalizing Mask...\n",
      "[INFO] Saving...\n"
     ]
    },
    {
     "name": "stderr",
     "output_type": "stream",
     "text": [
      "100%|████████████████████████████████████████████████████████████████████████████████| 173/173 [00:02<00:00, 64.68it/s]\n"
     ]
    },
    {
     "name": "stdout",
     "output_type": "stream",
     "text": [
      "[INFO] Loading  normal070.nii.gz\n"
     ]
    },
    {
     "name": "stderr",
     "output_type": "stream",
     "text": [
      "  8%|██████▎                                                                         | 14/176 [00:00<00:01, 136.20it/s]"
     ]
    },
    {
     "name": "stdout",
     "output_type": "stream",
     "text": [
      "[INFO] Volume Size:  (512, 512, 176)\n",
      "[INFO] Loading  normal070_lungmask_.nii\n",
      "[INFO] Volume Size:  (512, 512, 176)\n",
      "[INFO] Valid Data: normal070.nii.gz\n",
      "[INFO] Normalizing Mask...\n",
      "[INFO] Saving...\n"
     ]
    },
    {
     "name": "stderr",
     "output_type": "stream",
     "text": [
      "100%|████████████████████████████████████████████████████████████████████████████████| 176/176 [00:02<00:00, 65.41it/s]\n"
     ]
    },
    {
     "name": "stdout",
     "output_type": "stream",
     "text": [
      "[INFO] Loading  normal071.nii.gz\n"
     ]
    },
    {
     "name": "stderr",
     "output_type": "stream",
     "text": [
      "  6%|█████                                                                             | 9/145 [00:00<00:01, 89.98it/s]"
     ]
    },
    {
     "name": "stdout",
     "output_type": "stream",
     "text": [
      "[INFO] Volume Size:  (512, 512, 145)\n",
      "[INFO] Loading  normal071_lungmask_.nii\n",
      "[INFO] Volume Size:  (512, 512, 145)\n",
      "[INFO] Valid Data: normal071.nii.gz\n",
      "[INFO] Normalizing Mask...\n",
      "[INFO] Saving...\n"
     ]
    },
    {
     "name": "stderr",
     "output_type": "stream",
     "text": [
      "100%|████████████████████████████████████████████████████████████████████████████████| 145/145 [00:02<00:00, 63.37it/s]\n"
     ]
    },
    {
     "name": "stdout",
     "output_type": "stream",
     "text": [
      "[INFO] Loading  normal072.nii.gz\n"
     ]
    },
    {
     "name": "stderr",
     "output_type": "stream",
     "text": [
      "  7%|█████▎                                                                           | 10/152 [00:00<00:01, 94.33it/s]"
     ]
    },
    {
     "name": "stdout",
     "output_type": "stream",
     "text": [
      "[INFO] Volume Size:  (512, 512, 152)\n",
      "[INFO] Loading  normal072_lungmask_.nii\n",
      "[INFO] Volume Size:  (512, 512, 152)\n",
      "[INFO] Valid Data: normal072.nii.gz\n",
      "[INFO] Normalizing Mask...\n",
      "[INFO] Saving...\n"
     ]
    },
    {
     "name": "stderr",
     "output_type": "stream",
     "text": [
      "100%|████████████████████████████████████████████████████████████████████████████████| 152/152 [00:02<00:00, 64.47it/s]\n"
     ]
    },
    {
     "name": "stdout",
     "output_type": "stream",
     "text": [
      "[INFO] Loading  normal073.nii.gz\n"
     ]
    },
    {
     "name": "stderr",
     "output_type": "stream",
     "text": [
      "  7%|█████▍                                                                            | 9/136 [00:00<00:01, 87.73it/s]"
     ]
    },
    {
     "name": "stdout",
     "output_type": "stream",
     "text": [
      "[INFO] Volume Size:  (512, 512, 136)\n",
      "[INFO] Loading  normal073_lungmask_.nii\n",
      "[INFO] Volume Size:  (512, 512, 136)\n",
      "[INFO] Valid Data: normal073.nii.gz\n",
      "[INFO] Normalizing Mask...\n",
      "[INFO] Saving...\n"
     ]
    },
    {
     "name": "stderr",
     "output_type": "stream",
     "text": [
      "100%|████████████████████████████████████████████████████████████████████████████████| 136/136 [00:02<00:00, 63.17it/s]\n"
     ]
    },
    {
     "name": "stdout",
     "output_type": "stream",
     "text": [
      "[INFO] Loading  normal074.nii.gz\n"
     ]
    },
    {
     "name": "stderr",
     "output_type": "stream",
     "text": [
      "  5%|████▎                                                                             | 7/134 [00:00<00:02, 60.86it/s]"
     ]
    },
    {
     "name": "stdout",
     "output_type": "stream",
     "text": [
      "[INFO] Volume Size:  (512, 512, 134)\n",
      "[INFO] Loading  normal074_lungmask_.nii\n",
      "[INFO] Volume Size:  (512, 512, 134)\n",
      "[INFO] Valid Data: normal074.nii.gz\n",
      "[INFO] Normalizing Mask...\n",
      "[INFO] Saving...\n"
     ]
    },
    {
     "name": "stderr",
     "output_type": "stream",
     "text": [
      "100%|████████████████████████████████████████████████████████████████████████████████| 134/134 [00:02<00:00, 63.71it/s]\n"
     ]
    },
    {
     "name": "stdout",
     "output_type": "stream",
     "text": [
      "[INFO] Loading  normal075.nii.gz\n"
     ]
    },
    {
     "name": "stderr",
     "output_type": "stream",
     "text": [
      "  9%|███████▌                                                                        | 15/159 [00:00<00:01, 136.30it/s]"
     ]
    },
    {
     "name": "stdout",
     "output_type": "stream",
     "text": [
      "[INFO] Volume Size:  (512, 512, 159)\n",
      "[INFO] Loading  normal075_lungmask_.nii\n",
      "[INFO] Volume Size:  (512, 512, 159)\n",
      "[INFO] Valid Data: normal075.nii.gz\n",
      "[INFO] Normalizing Mask...\n",
      "[INFO] Saving...\n"
     ]
    },
    {
     "name": "stderr",
     "output_type": "stream",
     "text": [
      "100%|████████████████████████████████████████████████████████████████████████████████| 159/159 [00:02<00:00, 64.62it/s]\n"
     ]
    },
    {
     "name": "stdout",
     "output_type": "stream",
     "text": [
      "[INFO] Loading  normal076.nii.gz\n"
     ]
    },
    {
     "name": "stderr",
     "output_type": "stream",
     "text": [
      "  6%|█████▏                                                                          | 11/171 [00:00<00:01, 102.79it/s]"
     ]
    },
    {
     "name": "stdout",
     "output_type": "stream",
     "text": [
      "[INFO] Volume Size:  (512, 512, 171)\n",
      "[INFO] Loading  normal076_lungmask_.nii\n",
      "[INFO] Volume Size:  (512, 512, 171)\n",
      "[INFO] Valid Data: normal076.nii.gz\n",
      "[INFO] Normalizing Mask...\n",
      "[INFO] Saving...\n"
     ]
    },
    {
     "name": "stderr",
     "output_type": "stream",
     "text": [
      "100%|████████████████████████████████████████████████████████████████████████████████| 171/171 [00:02<00:00, 63.44it/s]\n"
     ]
    },
    {
     "name": "stdout",
     "output_type": "stream",
     "text": [
      "[INFO] Loading  cap001.nii.gz\n"
     ]
    },
    {
     "name": "stderr",
     "output_type": "stream",
     "text": [
      "  8%|██████▋                                                                         | 14/168 [00:00<00:01, 123.87it/s]"
     ]
    },
    {
     "name": "stdout",
     "output_type": "stream",
     "text": [
      "[INFO] Volume Size:  (512, 512, 168)\n",
      "[INFO] Loading  cap001_lungmask_.nii\n",
      "[INFO] Volume Size:  (512, 512, 168)\n",
      "[INFO] Valid Data: cap001.nii.gz\n",
      "[INFO] Normalizing Mask...\n",
      "[INFO] Saving...\n"
     ]
    },
    {
     "name": "stderr",
     "output_type": "stream",
     "text": [
      "100%|████████████████████████████████████████████████████████████████████████████████| 168/168 [00:02<00:00, 63.59it/s]\n"
     ]
    },
    {
     "name": "stdout",
     "output_type": "stream",
     "text": [
      "[INFO] Loading  cap002.nii.gz\n"
     ]
    },
    {
     "name": "stderr",
     "output_type": "stream",
     "text": [
      "  5%|███▊                                                                              | 6/131 [00:00<00:02, 59.40it/s]"
     ]
    },
    {
     "name": "stdout",
     "output_type": "stream",
     "text": [
      "[INFO] Volume Size:  (512, 512, 131)\n",
      "[INFO] Loading  cap002_lungmask_.nii\n",
      "[INFO] Volume Size:  (512, 512, 131)\n",
      "[INFO] Valid Data: cap002.nii.gz\n",
      "[INFO] Normalizing Mask...\n",
      "[INFO] Saving...\n"
     ]
    },
    {
     "name": "stderr",
     "output_type": "stream",
     "text": [
      "100%|████████████████████████████████████████████████████████████████████████████████| 131/131 [00:02<00:00, 60.50it/s]\n"
     ]
    },
    {
     "name": "stdout",
     "output_type": "stream",
     "text": [
      "[INFO] Loading  cap003.nii.gz\n"
     ]
    },
    {
     "name": "stderr",
     "output_type": "stream",
     "text": [
      "  4%|███▋                                                                              | 6/134 [00:00<00:02, 59.99it/s]"
     ]
    },
    {
     "name": "stdout",
     "output_type": "stream",
     "text": [
      "[INFO] Volume Size:  (512, 512, 134)\n",
      "[INFO] Loading  cap003_lungmask_.nii\n",
      "[INFO] Volume Size:  (512, 512, 134)\n",
      "[INFO] Valid Data: cap003.nii.gz\n",
      "[INFO] Normalizing Mask...\n",
      "[INFO] Saving...\n"
     ]
    },
    {
     "name": "stderr",
     "output_type": "stream",
     "text": [
      "100%|████████████████████████████████████████████████████████████████████████████████| 134/134 [00:02<00:00, 60.41it/s]\n"
     ]
    },
    {
     "name": "stdout",
     "output_type": "stream",
     "text": [
      "[INFO] Loading  cap004.nii.gz\n"
     ]
    },
    {
     "name": "stderr",
     "output_type": "stream",
     "text": [
      "  9%|███████▌                                                                        | 17/181 [00:00<00:01, 153.14it/s]"
     ]
    },
    {
     "name": "stdout",
     "output_type": "stream",
     "text": [
      "[INFO] Volume Size:  (512, 512, 181)\n",
      "[INFO] Loading  cap004_lungmask_.nii\n",
      "[INFO] Volume Size:  (512, 512, 181)\n",
      "[INFO] Valid Data: cap004.nii.gz\n",
      "[INFO] Normalizing Mask...\n",
      "[INFO] Saving...\n"
     ]
    },
    {
     "name": "stderr",
     "output_type": "stream",
     "text": [
      "100%|████████████████████████████████████████████████████████████████████████████████| 181/181 [00:02<00:00, 63.52it/s]\n"
     ]
    },
    {
     "name": "stdout",
     "output_type": "stream",
     "text": [
      "[INFO] Loading  cap005.nii.gz\n"
     ]
    },
    {
     "name": "stderr",
     "output_type": "stream",
     "text": [
      "  7%|█████▉                                                                           | 10/137 [00:00<00:01, 91.72it/s]"
     ]
    },
    {
     "name": "stdout",
     "output_type": "stream",
     "text": [
      "[INFO] Volume Size:  (512, 512, 137)\n",
      "[INFO] Loading  cap005_lungmask_.nii\n",
      "[INFO] Volume Size:  (512, 512, 137)\n",
      "[INFO] Valid Data: cap005.nii.gz\n",
      "[INFO] Normalizing Mask...\n",
      "[INFO] Saving...\n"
     ]
    },
    {
     "name": "stderr",
     "output_type": "stream",
     "text": [
      "100%|████████████████████████████████████████████████████████████████████████████████| 137/137 [00:02<00:00, 64.57it/s]\n"
     ]
    },
    {
     "name": "stdout",
     "output_type": "stream",
     "text": [
      "[INFO] Loading  cap006.nii.gz\n"
     ]
    },
    {
     "name": "stderr",
     "output_type": "stream",
     "text": [
      "  4%|███▋                                                                              | 7/157 [00:00<00:02, 61.54it/s]"
     ]
    },
    {
     "name": "stdout",
     "output_type": "stream",
     "text": [
      "[INFO] Volume Size:  (512, 512, 157)\n",
      "[INFO] Loading  cap006_lungmask_.nii\n",
      "[INFO] Volume Size:  (512, 512, 157)\n",
      "[INFO] Valid Data: cap006.nii.gz\n",
      "[INFO] Normalizing Mask...\n",
      "[INFO] Saving...\n"
     ]
    },
    {
     "name": "stderr",
     "output_type": "stream",
     "text": [
      "100%|████████████████████████████████████████████████████████████████████████████████| 157/157 [00:02<00:00, 62.95it/s]\n"
     ]
    },
    {
     "name": "stdout",
     "output_type": "stream",
     "text": [
      "[INFO] Loading  cap007.nii.gz\n"
     ]
    },
    {
     "name": "stderr",
     "output_type": "stream",
     "text": [
      " 13%|██████████▌                                                                     | 21/159 [00:00<00:00, 203.88it/s]"
     ]
    },
    {
     "name": "stdout",
     "output_type": "stream",
     "text": [
      "[INFO] Volume Size:  (512, 512, 159)\n",
      "[INFO] Loading  cap007_lungmask_.nii\n",
      "[INFO] Volume Size:  (512, 512, 159)\n",
      "[INFO] Valid Data: cap007.nii.gz\n",
      "[INFO] Normalizing Mask...\n",
      "[INFO] Saving...\n"
     ]
    },
    {
     "name": "stderr",
     "output_type": "stream",
     "text": [
      "100%|████████████████████████████████████████████████████████████████████████████████| 159/159 [00:02<00:00, 74.01it/s]\n"
     ]
    },
    {
     "name": "stdout",
     "output_type": "stream",
     "text": [
      "[INFO] Loading  cap008.nii.gz\n"
     ]
    },
    {
     "name": "stderr",
     "output_type": "stream",
     "text": [
      " 10%|███████▉                                                                        | 17/171 [00:00<00:00, 154.51it/s]"
     ]
    },
    {
     "name": "stdout",
     "output_type": "stream",
     "text": [
      "[INFO] Volume Size:  (512, 512, 171)\n",
      "[INFO] Loading  cap008_lungmask_.nii\n",
      "[INFO] Volume Size:  (512, 512, 171)\n",
      "[INFO] Valid Data: cap008.nii.gz\n",
      "[INFO] Normalizing Mask...\n",
      "[INFO] Saving...\n"
     ]
    },
    {
     "name": "stderr",
     "output_type": "stream",
     "text": [
      "100%|████████████████████████████████████████████████████████████████████████████████| 171/171 [00:02<00:00, 65.01it/s]\n"
     ]
    },
    {
     "name": "stdout",
     "output_type": "stream",
     "text": [
      "[INFO] Loading  cap009.nii.gz\n"
     ]
    },
    {
     "name": "stderr",
     "output_type": "stream",
     "text": [
      " 11%|████████▍                                                                       | 20/190 [00:00<00:00, 192.29it/s]"
     ]
    },
    {
     "name": "stdout",
     "output_type": "stream",
     "text": [
      "[INFO] Volume Size:  (512, 512, 190)\n",
      "[INFO] Loading  cap009_lungmask_.nii\n",
      "[INFO] Volume Size:  (512, 512, 190)\n",
      "[INFO] Valid Data: cap009.nii.gz\n",
      "[INFO] Normalizing Mask...\n",
      "[INFO] Saving...\n"
     ]
    },
    {
     "name": "stderr",
     "output_type": "stream",
     "text": [
      "100%|████████████████████████████████████████████████████████████████████████████████| 190/190 [00:02<00:00, 66.74it/s]\n"
     ]
    },
    {
     "name": "stdout",
     "output_type": "stream",
     "text": [
      "[INFO] Loading  cap010.nii.gz\n"
     ]
    },
    {
     "name": "stderr",
     "output_type": "stream",
     "text": [
      " 10%|████████                                                                        | 16/159 [00:00<00:00, 155.33it/s]"
     ]
    },
    {
     "name": "stdout",
     "output_type": "stream",
     "text": [
      "[INFO] Volume Size:  (512, 512, 159)\n",
      "[INFO] Loading  cap010_lungmask_.nii\n",
      "[INFO] Volume Size:  (512, 512, 159)\n",
      "[INFO] Valid Data: cap010.nii.gz\n",
      "[INFO] Normalizing Mask...\n",
      "[INFO] Saving...\n"
     ]
    },
    {
     "name": "stderr",
     "output_type": "stream",
     "text": [
      "100%|████████████████████████████████████████████████████████████████████████████████| 159/159 [00:02<00:00, 69.80it/s]\n"
     ]
    },
    {
     "name": "stdout",
     "output_type": "stream",
     "text": [
      "[INFO] Loading  cap011.nii.gz\n"
     ]
    },
    {
     "name": "stderr",
     "output_type": "stream",
     "text": [
      "  8%|██████                                                                          | 12/159 [00:00<00:01, 112.21it/s]"
     ]
    },
    {
     "name": "stdout",
     "output_type": "stream",
     "text": [
      "[INFO] Volume Size:  (512, 512, 159)\n",
      "[INFO] Loading  cap011_lungmask_.nii\n",
      "[INFO] Volume Size:  (512, 512, 159)\n",
      "[INFO] Valid Data: cap011.nii.gz\n",
      "[INFO] Normalizing Mask...\n",
      "[INFO] Saving...\n"
     ]
    },
    {
     "name": "stderr",
     "output_type": "stream",
     "text": [
      "100%|████████████████████████████████████████████████████████████████████████████████| 159/159 [00:02<00:00, 62.24it/s]\n"
     ]
    },
    {
     "name": "stdout",
     "output_type": "stream",
     "text": [
      "[INFO] Loading  cap012.nii.gz\n"
     ]
    },
    {
     "name": "stderr",
     "output_type": "stream",
     "text": [
      " 11%|████████▌                                                                       | 20/187 [00:00<00:00, 192.26it/s]"
     ]
    },
    {
     "name": "stdout",
     "output_type": "stream",
     "text": [
      "[INFO] Volume Size:  (512, 512, 187)\n",
      "[INFO] Loading  cap012_lungmask_.nii\n",
      "[INFO] Volume Size:  (512, 512, 187)\n",
      "[INFO] Valid Data: cap012.nii.gz\n",
      "[INFO] Normalizing Mask...\n",
      "[INFO] Saving...\n"
     ]
    },
    {
     "name": "stderr",
     "output_type": "stream",
     "text": [
      "100%|████████████████████████████████████████████████████████████████████████████████| 187/187 [00:02<00:00, 71.82it/s]\n"
     ]
    },
    {
     "name": "stdout",
     "output_type": "stream",
     "text": [
      "[INFO] Loading  cap013.nii.gz\n"
     ]
    },
    {
     "name": "stderr",
     "output_type": "stream",
     "text": [
      "  6%|█████▏                                                                            | 9/141 [00:00<00:01, 79.64it/s]"
     ]
    },
    {
     "name": "stdout",
     "output_type": "stream",
     "text": [
      "[INFO] Volume Size:  (512, 512, 141)\n",
      "[INFO] Loading  cap013_lungmask_.nii\n",
      "[INFO] Volume Size:  (512, 512, 141)\n",
      "[INFO] Valid Data: cap013.nii.gz\n",
      "[INFO] Normalizing Mask...\n",
      "[INFO] Saving...\n"
     ]
    },
    {
     "name": "stderr",
     "output_type": "stream",
     "text": [
      "100%|████████████████████████████████████████████████████████████████████████████████| 141/141 [00:02<00:00, 60.48it/s]\n"
     ]
    },
    {
     "name": "stdout",
     "output_type": "stream",
     "text": [
      "[INFO] Loading  cap014.nii.gz\n"
     ]
    },
    {
     "name": "stderr",
     "output_type": "stream",
     "text": [
      " 12%|█████████▉                                                                      | 20/162 [00:00<00:00, 199.97it/s]"
     ]
    },
    {
     "name": "stdout",
     "output_type": "stream",
     "text": [
      "[INFO] Volume Size:  (512, 512, 162)\n",
      "[INFO] Loading  cap014_lungmask_.nii\n",
      "[INFO] Volume Size:  (512, 512, 162)\n",
      "[INFO] Valid Data: cap014.nii.gz\n",
      "[INFO] Normalizing Mask...\n",
      "[INFO] Saving...\n"
     ]
    },
    {
     "name": "stderr",
     "output_type": "stream",
     "text": [
      "100%|████████████████████████████████████████████████████████████████████████████████| 162/162 [00:02<00:00, 74.70it/s]\n"
     ]
    },
    {
     "name": "stdout",
     "output_type": "stream",
     "text": [
      "[INFO] Loading  cap015.nii.gz\n"
     ]
    },
    {
     "name": "stderr",
     "output_type": "stream",
     "text": [
      " 14%|███████████▏                                                                    | 21/151 [00:00<00:00, 201.88it/s]"
     ]
    },
    {
     "name": "stdout",
     "output_type": "stream",
     "text": [
      "[INFO] Volume Size:  (512, 512, 151)\n",
      "[INFO] Loading  cap015_lungmask_.nii\n",
      "[INFO] Volume Size:  (512, 512, 151)\n",
      "[INFO] Valid Data: cap015.nii.gz\n",
      "[INFO] Normalizing Mask...\n",
      "[INFO] Saving...\n"
     ]
    },
    {
     "name": "stderr",
     "output_type": "stream",
     "text": [
      "100%|████████████████████████████████████████████████████████████████████████████████| 151/151 [00:01<00:00, 77.83it/s]\n"
     ]
    },
    {
     "name": "stdout",
     "output_type": "stream",
     "text": [
      "[INFO] Loading  cap016.nii.gz\n"
     ]
    },
    {
     "name": "stderr",
     "output_type": "stream",
     "text": [
      "  8%|██████▊                                                                         | 11/130 [00:00<00:01, 108.38it/s]"
     ]
    },
    {
     "name": "stdout",
     "output_type": "stream",
     "text": [
      "[INFO] Volume Size:  (512, 512, 130)\n",
      "[INFO] Loading  cap016_lungmask_.nii\n",
      "[INFO] Volume Size:  (512, 512, 130)\n",
      "[INFO] Valid Data: cap016.nii.gz\n",
      "[INFO] Normalizing Mask...\n",
      "[INFO] Saving...\n"
     ]
    },
    {
     "name": "stderr",
     "output_type": "stream",
     "text": [
      "100%|████████████████████████████████████████████████████████████████████████████████| 130/130 [00:02<00:00, 64.65it/s]\n"
     ]
    },
    {
     "name": "stdout",
     "output_type": "stream",
     "text": [
      "[INFO] Loading  cap017.nii.gz\n"
     ]
    },
    {
     "name": "stderr",
     "output_type": "stream",
     "text": [
      " 15%|████████████▎                                                                   | 21/137 [00:00<00:00, 201.91it/s]"
     ]
    },
    {
     "name": "stdout",
     "output_type": "stream",
     "text": [
      "[INFO] Volume Size:  (512, 512, 137)\n",
      "[INFO] Loading  cap017_lungmask_.nii\n",
      "[INFO] Volume Size:  (512, 512, 137)\n",
      "[INFO] Valid Data: cap017.nii.gz\n",
      "[INFO] Normalizing Mask...\n",
      "[INFO] Saving...\n"
     ]
    },
    {
     "name": "stderr",
     "output_type": "stream",
     "text": [
      "100%|████████████████████████████████████████████████████████████████████████████████| 137/137 [00:01<00:00, 77.18it/s]\n"
     ]
    },
    {
     "name": "stdout",
     "output_type": "stream",
     "text": [
      "[INFO] Loading  cap018.nii.gz\n"
     ]
    },
    {
     "name": "stderr",
     "output_type": "stream",
     "text": [
      " 13%|██████████▊                                                                     | 19/141 [00:00<00:00, 181.22it/s]"
     ]
    },
    {
     "name": "stdout",
     "output_type": "stream",
     "text": [
      "[INFO] Volume Size:  (512, 512, 141)\n",
      "[INFO] Loading  cap018_lungmask_.nii\n",
      "[INFO] Volume Size:  (512, 512, 141)\n",
      "[INFO] Valid Data: cap018.nii.gz\n",
      "[INFO] Normalizing Mask...\n",
      "[INFO] Saving...\n"
     ]
    },
    {
     "name": "stderr",
     "output_type": "stream",
     "text": [
      "100%|████████████████████████████████████████████████████████████████████████████████| 141/141 [00:02<00:00, 66.82it/s]\n"
     ]
    },
    {
     "name": "stdout",
     "output_type": "stream",
     "text": [
      "[INFO] Loading  cap019.nii.gz\n"
     ]
    },
    {
     "name": "stderr",
     "output_type": "stream",
     "text": [
      "  4%|███▌                                                                              | 6/136 [00:00<00:02, 59.86it/s]"
     ]
    },
    {
     "name": "stdout",
     "output_type": "stream",
     "text": [
      "[INFO] Volume Size:  (512, 512, 136)\n",
      "[INFO] Loading  cap019_lungmask_.nii\n",
      "[INFO] Volume Size:  (512, 512, 136)\n",
      "[INFO] Valid Data: cap019.nii.gz\n",
      "[INFO] Normalizing Mask...\n",
      "[INFO] Saving...\n"
     ]
    },
    {
     "name": "stderr",
     "output_type": "stream",
     "text": [
      "100%|████████████████████████████████████████████████████████████████████████████████| 136/136 [00:02<00:00, 60.04it/s]\n"
     ]
    },
    {
     "name": "stdout",
     "output_type": "stream",
     "text": [
      "[INFO] Loading  cap020.nii.gz\n"
     ]
    },
    {
     "name": "stderr",
     "output_type": "stream",
     "text": [
      " 15%|████████████                                                                    | 20/133 [00:00<00:00, 182.32it/s]"
     ]
    },
    {
     "name": "stdout",
     "output_type": "stream",
     "text": [
      "[INFO] Volume Size:  (512, 512, 133)\n",
      "[INFO] Loading  cap020_lungmask_.nii\n",
      "[INFO] Volume Size:  (512, 512, 133)\n",
      "[INFO] Valid Data: cap020.nii.gz\n",
      "[INFO] Normalizing Mask...\n",
      "[INFO] Saving...\n"
     ]
    },
    {
     "name": "stderr",
     "output_type": "stream",
     "text": [
      "100%|████████████████████████████████████████████████████████████████████████████████| 133/133 [00:01<00:00, 67.71it/s]\n"
     ]
    },
    {
     "name": "stdout",
     "output_type": "stream",
     "text": [
      "[INFO] Loading  cap021.nii.gz\n"
     ]
    },
    {
     "name": "stderr",
     "output_type": "stream",
     "text": [
      "  9%|███████▏                                                                        | 14/155 [00:00<00:01, 129.60it/s]"
     ]
    },
    {
     "name": "stdout",
     "output_type": "stream",
     "text": [
      "[INFO] Volume Size:  (512, 512, 155)\n",
      "[INFO] Loading  cap021_lungmask_.nii\n",
      "[INFO] Volume Size:  (512, 512, 155)\n",
      "[INFO] Valid Data: cap021.nii.gz\n",
      "[INFO] Normalizing Mask...\n",
      "[INFO] Saving...\n"
     ]
    },
    {
     "name": "stderr",
     "output_type": "stream",
     "text": [
      "100%|████████████████████████████████████████████████████████████████████████████████| 155/155 [00:02<00:00, 61.69it/s]\n"
     ]
    },
    {
     "name": "stdout",
     "output_type": "stream",
     "text": [
      "[INFO] Loading  cap022.nii.gz\n"
     ]
    },
    {
     "name": "stderr",
     "output_type": "stream",
     "text": [
      "  5%|████▌                                                                             | 9/164 [00:00<00:01, 81.06it/s]"
     ]
    },
    {
     "name": "stdout",
     "output_type": "stream",
     "text": [
      "[INFO] Volume Size:  (512, 512, 164)\n",
      "[INFO] Loading  cap022_lungmask_.nii\n",
      "[INFO] Volume Size:  (512, 512, 164)\n",
      "[INFO] Valid Data: cap022.nii.gz\n",
      "[INFO] Normalizing Mask...\n",
      "[INFO] Saving...\n"
     ]
    },
    {
     "name": "stderr",
     "output_type": "stream",
     "text": [
      "100%|████████████████████████████████████████████████████████████████████████████████| 164/164 [00:02<00:00, 62.97it/s]\n"
     ]
    },
    {
     "name": "stdout",
     "output_type": "stream",
     "text": [
      "[INFO] Loading  cap023.nii.gz\n"
     ]
    },
    {
     "name": "stderr",
     "output_type": "stream",
     "text": [
      "  9%|██████▉                                                                         | 16/186 [00:00<00:01, 148.11it/s]"
     ]
    },
    {
     "name": "stdout",
     "output_type": "stream",
     "text": [
      "[INFO] Volume Size:  (512, 512, 186)\n",
      "[INFO] Loading  cap023_lungmask_.nii\n",
      "[INFO] Volume Size:  (512, 512, 186)\n",
      "[INFO] Valid Data: cap023.nii.gz\n",
      "[INFO] Normalizing Mask...\n",
      "[INFO] Saving...\n"
     ]
    },
    {
     "name": "stderr",
     "output_type": "stream",
     "text": [
      "100%|████████████████████████████████████████████████████████████████████████████████| 186/186 [00:02<00:00, 64.57it/s]\n"
     ]
    },
    {
     "name": "stdout",
     "output_type": "stream",
     "text": [
      "[INFO] Loading  cap024.nii.gz\n"
     ]
    },
    {
     "name": "stderr",
     "output_type": "stream",
     "text": [
      "  5%|███▊                                                                              | 7/151 [00:00<00:02, 68.04it/s]"
     ]
    },
    {
     "name": "stdout",
     "output_type": "stream",
     "text": [
      "[INFO] Volume Size:  (512, 512, 151)\n",
      "[INFO] Loading  cap024_lungmask_.nii\n",
      "[INFO] Volume Size:  (512, 512, 151)\n",
      "[INFO] Valid Data: cap024.nii.gz\n",
      "[INFO] Normalizing Mask...\n",
      "[INFO] Saving...\n"
     ]
    },
    {
     "name": "stderr",
     "output_type": "stream",
     "text": [
      "100%|████████████████████████████████████████████████████████████████████████████████| 151/151 [00:02<00:00, 60.72it/s]\n"
     ]
    },
    {
     "name": "stdout",
     "output_type": "stream",
     "text": [
      "[INFO] Loading  cap025.nii.gz\n"
     ]
    },
    {
     "name": "stderr",
     "output_type": "stream",
     "text": [
      " 12%|█████████▌                                                                      | 21/176 [00:00<00:00, 203.88it/s]"
     ]
    },
    {
     "name": "stdout",
     "output_type": "stream",
     "text": [
      "[INFO] Volume Size:  (512, 512, 176)\n",
      "[INFO] Loading  cap025_lungmask_.nii\n",
      "[INFO] Volume Size:  (512, 512, 176)\n",
      "[INFO] Valid Data: cap025.nii.gz\n",
      "[INFO] Normalizing Mask...\n",
      "[INFO] Saving...\n"
     ]
    },
    {
     "name": "stderr",
     "output_type": "stream",
     "text": [
      "100%|████████████████████████████████████████████████████████████████████████████████| 176/176 [00:02<00:00, 68.82it/s]\n"
     ]
    },
    {
     "name": "stdout",
     "output_type": "stream",
     "text": [
      "[INFO] Loading  cap026.nii.gz\n"
     ]
    },
    {
     "name": "stderr",
     "output_type": "stream",
     "text": [
      " 13%|██████████▋                                                                     | 19/143 [00:00<00:00, 172.69it/s]"
     ]
    },
    {
     "name": "stdout",
     "output_type": "stream",
     "text": [
      "[INFO] Volume Size:  (512, 512, 143)\n",
      "[INFO] Loading  cap026_lungmask_.nii\n",
      "[INFO] Volume Size:  (512, 512, 143)\n",
      "[INFO] Valid Data: cap026.nii.gz\n",
      "[INFO] Normalizing Mask...\n",
      "[INFO] Saving...\n"
     ]
    },
    {
     "name": "stderr",
     "output_type": "stream",
     "text": [
      "100%|████████████████████████████████████████████████████████████████████████████████| 143/143 [00:02<00:00, 69.44it/s]\n"
     ]
    },
    {
     "name": "stdout",
     "output_type": "stream",
     "text": [
      "[INFO] Loading  cap027.nii.gz\n"
     ]
    },
    {
     "name": "stderr",
     "output_type": "stream",
     "text": [
      " 10%|████████▏                                                                       | 19/185 [00:00<00:00, 186.22it/s]"
     ]
    },
    {
     "name": "stdout",
     "output_type": "stream",
     "text": [
      "[INFO] Volume Size:  (512, 512, 185)\n",
      "[INFO] Loading  cap027_lungmask_.nii\n",
      "[INFO] Volume Size:  (512, 512, 185)\n",
      "[INFO] Valid Data: cap027.nii.gz\n",
      "[INFO] Normalizing Mask...\n",
      "[INFO] Saving...\n"
     ]
    },
    {
     "name": "stderr",
     "output_type": "stream",
     "text": [
      "100%|████████████████████████████████████████████████████████████████████████████████| 185/185 [00:02<00:00, 69.11it/s]\n"
     ]
    },
    {
     "name": "stdout",
     "output_type": "stream",
     "text": [
      "[INFO] Loading  cap028.nii.gz\n"
     ]
    },
    {
     "name": "stderr",
     "output_type": "stream",
     "text": [
      "  7%|█████▌                                                                          | 11/158 [00:00<00:01, 107.03it/s]"
     ]
    },
    {
     "name": "stdout",
     "output_type": "stream",
     "text": [
      "[INFO] Volume Size:  (512, 512, 158)\n",
      "[INFO] Loading  cap028_lungmask_.nii\n",
      "[INFO] Volume Size:  (512, 512, 158)\n",
      "[INFO] Valid Data: cap028.nii.gz\n",
      "[INFO] Normalizing Mask...\n",
      "[INFO] Saving...\n"
     ]
    },
    {
     "name": "stderr",
     "output_type": "stream",
     "text": [
      "100%|████████████████████████████████████████████████████████████████████████████████| 158/158 [00:02<00:00, 66.28it/s]\n"
     ]
    },
    {
     "name": "stdout",
     "output_type": "stream",
     "text": [
      "[INFO] Loading  cap029.nii.gz\n"
     ]
    },
    {
     "name": "stderr",
     "output_type": "stream",
     "text": [
      " 10%|███████▊                                                                        | 12/122 [00:00<00:00, 114.59it/s]"
     ]
    },
    {
     "name": "stdout",
     "output_type": "stream",
     "text": [
      "[INFO] Volume Size:  (512, 512, 122)\n",
      "[INFO] Loading  cap029_lungmask_.nii\n",
      "[INFO] Volume Size:  (512, 512, 122)\n",
      "[INFO] Valid Data: cap029.nii.gz\n",
      "[INFO] Normalizing Mask...\n",
      "[INFO] Saving...\n"
     ]
    },
    {
     "name": "stderr",
     "output_type": "stream",
     "text": [
      "100%|████████████████████████████████████████████████████████████████████████████████| 122/122 [00:01<00:00, 65.32it/s]\n"
     ]
    },
    {
     "name": "stdout",
     "output_type": "stream",
     "text": [
      "[INFO] Loading  cap030.nii.gz\n"
     ]
    },
    {
     "name": "stderr",
     "output_type": "stream",
     "text": [
      "  9%|███████▏                                                                        | 13/145 [00:00<00:01, 129.97it/s]"
     ]
    },
    {
     "name": "stdout",
     "output_type": "stream",
     "text": [
      "[INFO] Volume Size:  (512, 512, 145)\n",
      "[INFO] Loading  cap030_lungmask_.nii\n",
      "[INFO] Volume Size:  (512, 512, 145)\n",
      "[INFO] Valid Data: cap030.nii.gz\n",
      "[INFO] Normalizing Mask...\n",
      "[INFO] Saving...\n"
     ]
    },
    {
     "name": "stderr",
     "output_type": "stream",
     "text": [
      "100%|████████████████████████████████████████████████████████████████████████████████| 145/145 [00:02<00:00, 66.00it/s]\n"
     ]
    },
    {
     "name": "stdout",
     "output_type": "stream",
     "text": [
      "[INFO] Loading  cap031.nii.gz\n"
     ]
    },
    {
     "name": "stderr",
     "output_type": "stream",
     "text": [
      " 12%|█████████▎                                                                      | 20/172 [00:00<00:00, 196.06it/s]"
     ]
    },
    {
     "name": "stdout",
     "output_type": "stream",
     "text": [
      "[INFO] Volume Size:  (512, 512, 172)\n",
      "[INFO] Loading  cap031_lungmask_.nii\n",
      "[INFO] Volume Size:  (512, 512, 172)\n",
      "[INFO] Valid Data: cap031.nii.gz\n",
      "[INFO] Normalizing Mask...\n",
      "[INFO] Saving...\n"
     ]
    },
    {
     "name": "stderr",
     "output_type": "stream",
     "text": [
      "100%|████████████████████████████████████████████████████████████████████████████████| 172/172 [00:02<00:00, 73.44it/s]\n"
     ]
    },
    {
     "name": "stdout",
     "output_type": "stream",
     "text": [
      "[INFO] Loading  cap032.nii.gz\n"
     ]
    },
    {
     "name": "stderr",
     "output_type": "stream",
     "text": [
      " 14%|███████████▌                                                                    | 20/139 [00:00<00:00, 197.94it/s]"
     ]
    },
    {
     "name": "stdout",
     "output_type": "stream",
     "text": [
      "[INFO] Volume Size:  (512, 512, 139)\n",
      "[INFO] Loading  cap032_lungmask_.nii\n",
      "[INFO] Volume Size:  (512, 512, 139)\n",
      "[INFO] Valid Data: cap032.nii.gz\n",
      "[INFO] Normalizing Mask...\n",
      "[INFO] Saving...\n"
     ]
    },
    {
     "name": "stderr",
     "output_type": "stream",
     "text": [
      "100%|████████████████████████████████████████████████████████████████████████████████| 139/139 [00:01<00:00, 69.76it/s]\n"
     ]
    },
    {
     "name": "stdout",
     "output_type": "stream",
     "text": [
      "[INFO] Loading  cap033.nii.gz\n"
     ]
    },
    {
     "name": "stderr",
     "output_type": "stream",
     "text": [
      "  6%|████▌                                                                             | 7/126 [00:00<00:01, 61.88it/s]"
     ]
    },
    {
     "name": "stdout",
     "output_type": "stream",
     "text": [
      "[INFO] Volume Size:  (512, 512, 126)\n",
      "[INFO] Loading  cap033_lungmask_.nii\n",
      "[INFO] Volume Size:  (512, 512, 126)\n",
      "[INFO] Valid Data: cap033.nii.gz\n",
      "[INFO] Normalizing Mask...\n",
      "[INFO] Saving...\n"
     ]
    },
    {
     "name": "stderr",
     "output_type": "stream",
     "text": [
      "100%|████████████████████████████████████████████████████████████████████████████████| 126/126 [00:02<00:00, 61.45it/s]\n"
     ]
    },
    {
     "name": "stdout",
     "output_type": "stream",
     "text": [
      "[INFO] Loading  cap034.nii.gz\n"
     ]
    },
    {
     "name": "stderr",
     "output_type": "stream",
     "text": [
      " 13%|██████████▌                                                                     | 19/144 [00:00<00:00, 174.30it/s]"
     ]
    },
    {
     "name": "stdout",
     "output_type": "stream",
     "text": [
      "[INFO] Volume Size:  (512, 512, 144)\n",
      "[INFO] Loading  cap034_lungmask_.nii\n",
      "[INFO] Volume Size:  (512, 512, 144)\n",
      "[INFO] Valid Data: cap034.nii.gz\n",
      "[INFO] Normalizing Mask...\n",
      "[INFO] Saving...\n"
     ]
    },
    {
     "name": "stderr",
     "output_type": "stream",
     "text": [
      "100%|████████████████████████████████████████████████████████████████████████████████| 144/144 [00:02<00:00, 69.55it/s]\n"
     ]
    },
    {
     "name": "stdout",
     "output_type": "stream",
     "text": [
      "[INFO] Loading  cap035.nii.gz\n"
     ]
    },
    {
     "name": "stderr",
     "output_type": "stream",
     "text": [
      "  7%|█████▋                                                                          | 12/170 [00:00<00:01, 112.12it/s]"
     ]
    },
    {
     "name": "stdout",
     "output_type": "stream",
     "text": [
      "[INFO] Volume Size:  (512, 512, 170)\n",
      "[INFO] Loading  cap035_lungmask_.nii\n",
      "[INFO] Volume Size:  (512, 512, 170)\n",
      "[INFO] Valid Data: cap035.nii.gz\n",
      "[INFO] Normalizing Mask...\n",
      "[INFO] Saving...\n"
     ]
    },
    {
     "name": "stderr",
     "output_type": "stream",
     "text": [
      "100%|████████████████████████████████████████████████████████████████████████████████| 170/170 [00:02<00:00, 71.40it/s]\n"
     ]
    },
    {
     "name": "stdout",
     "output_type": "stream",
     "text": [
      "[INFO] Loading  cap036.nii.gz\n"
     ]
    },
    {
     "name": "stderr",
     "output_type": "stream",
     "text": [
      " 10%|████████▏                                                                       | 14/136 [00:00<00:00, 136.98it/s]"
     ]
    },
    {
     "name": "stdout",
     "output_type": "stream",
     "text": [
      "[INFO] Volume Size:  (512, 512, 136)\n",
      "[INFO] Loading  cap036_lungmask_.nii\n",
      "[INFO] Volume Size:  (512, 512, 136)\n",
      "[INFO] Valid Data: cap036.nii.gz\n",
      "[INFO] Normalizing Mask...\n",
      "[INFO] Saving...\n"
     ]
    },
    {
     "name": "stderr",
     "output_type": "stream",
     "text": [
      "100%|████████████████████████████████████████████████████████████████████████████████| 136/136 [00:01<00:00, 70.59it/s]\n"
     ]
    },
    {
     "name": "stdout",
     "output_type": "stream",
     "text": [
      "[INFO] Loading  cap037.nii.gz\n"
     ]
    },
    {
     "name": "stderr",
     "output_type": "stream",
     "text": [
      " 13%|██████████▋                                                                     | 21/157 [00:00<00:00, 203.83it/s]"
     ]
    },
    {
     "name": "stdout",
     "output_type": "stream",
     "text": [
      "[INFO] Volume Size:  (512, 512, 157)\n",
      "[INFO] Loading  cap037_lungmask_.nii\n",
      "[INFO] Volume Size:  (512, 512, 157)\n",
      "[INFO] Valid Data: cap037.nii.gz\n",
      "[INFO] Normalizing Mask...\n",
      "[INFO] Saving...\n"
     ]
    },
    {
     "name": "stderr",
     "output_type": "stream",
     "text": [
      "100%|████████████████████████████████████████████████████████████████████████████████| 157/157 [00:02<00:00, 67.97it/s]\n"
     ]
    },
    {
     "name": "stdout",
     "output_type": "stream",
     "text": [
      "[INFO] Loading  cap038.nii.gz\n"
     ]
    },
    {
     "name": "stderr",
     "output_type": "stream",
     "text": [
      " 11%|████████▋                                                                       | 16/148 [00:00<00:00, 156.48it/s]"
     ]
    },
    {
     "name": "stdout",
     "output_type": "stream",
     "text": [
      "[INFO] Volume Size:  (512, 512, 148)\n",
      "[INFO] Loading  cap038_lungmask_.nii\n",
      "[INFO] Volume Size:  (512, 512, 148)\n",
      "[INFO] Valid Data: cap038.nii.gz\n",
      "[INFO] Normalizing Mask...\n",
      "[INFO] Saving...\n"
     ]
    },
    {
     "name": "stderr",
     "output_type": "stream",
     "text": [
      "100%|████████████████████████████████████████████████████████████████████████████████| 148/148 [00:02<00:00, 71.10it/s]\n"
     ]
    },
    {
     "name": "stdout",
     "output_type": "stream",
     "text": [
      "[INFO] Loading  cap039.nii.gz\n"
     ]
    },
    {
     "name": "stderr",
     "output_type": "stream",
     "text": [
      " 11%|████████▌                                                                       | 21/195 [00:00<00:00, 201.84it/s]"
     ]
    },
    {
     "name": "stdout",
     "output_type": "stream",
     "text": [
      "[INFO] Volume Size:  (512, 512, 195)\n",
      "[INFO] Loading  cap039_lungmask_.nii\n",
      "[INFO] Volume Size:  (512, 512, 195)\n",
      "[INFO] Valid Data: cap039.nii.gz\n",
      "[INFO] Normalizing Mask...\n",
      "[INFO] Saving...\n"
     ]
    },
    {
     "name": "stderr",
     "output_type": "stream",
     "text": [
      "100%|████████████████████████████████████████████████████████████████████████████████| 195/195 [00:02<00:00, 71.42it/s]\n"
     ]
    },
    {
     "name": "stdout",
     "output_type": "stream",
     "text": [
      "[INFO] Loading  cap040.nii.gz\n"
     ]
    },
    {
     "name": "stderr",
     "output_type": "stream",
     "text": [
      "  8%|██████▏                                                                          | 11/144 [00:00<00:01, 98.41it/s]"
     ]
    },
    {
     "name": "stdout",
     "output_type": "stream",
     "text": [
      "[INFO] Volume Size:  (512, 512, 144)\n",
      "[INFO] Loading  cap040_lungmask_.nii\n",
      "[INFO] Volume Size:  (512, 512, 144)\n",
      "[INFO] Valid Data: cap040.nii.gz\n",
      "[INFO] Normalizing Mask...\n",
      "[INFO] Saving...\n"
     ]
    },
    {
     "name": "stderr",
     "output_type": "stream",
     "text": [
      "100%|████████████████████████████████████████████████████████████████████████████████| 144/144 [00:02<00:00, 65.37it/s]\n"
     ]
    },
    {
     "name": "stdout",
     "output_type": "stream",
     "text": [
      "[INFO] Loading  cap041.nii.gz\n"
     ]
    },
    {
     "name": "stderr",
     "output_type": "stream",
     "text": [
      "  8%|██████▍                                                                         | 12/148 [00:00<00:01, 116.49it/s]"
     ]
    },
    {
     "name": "stdout",
     "output_type": "stream",
     "text": [
      "[INFO] Volume Size:  (512, 512, 148)\n",
      "[INFO] Loading  cap041_lungmask_.nii\n",
      "[INFO] Volume Size:  (512, 512, 148)\n",
      "[INFO] Valid Data: cap041.nii.gz\n",
      "[INFO] Normalizing Mask...\n",
      "[INFO] Saving...\n"
     ]
    },
    {
     "name": "stderr",
     "output_type": "stream",
     "text": [
      "100%|████████████████████████████████████████████████████████████████████████████████| 148/148 [00:02<00:00, 67.24it/s]\n"
     ]
    },
    {
     "name": "stdout",
     "output_type": "stream",
     "text": [
      "[INFO] Loading  cap042.nii.gz\n"
     ]
    },
    {
     "name": "stderr",
     "output_type": "stream",
     "text": [
      " 14%|███████████▎                                                                    | 20/142 [00:00<00:00, 197.94it/s]"
     ]
    },
    {
     "name": "stdout",
     "output_type": "stream",
     "text": [
      "[INFO] Volume Size:  (512, 512, 142)\n",
      "[INFO] Loading  cap042_lungmask_.nii\n",
      "[INFO] Volume Size:  (512, 512, 142)\n",
      "[INFO] Valid Data: cap042.nii.gz\n",
      "[INFO] Normalizing Mask...\n",
      "[INFO] Saving...\n"
     ]
    },
    {
     "name": "stderr",
     "output_type": "stream",
     "text": [
      "100%|████████████████████████████████████████████████████████████████████████████████| 142/142 [00:01<00:00, 73.76it/s]\n"
     ]
    },
    {
     "name": "stdout",
     "output_type": "stream",
     "text": [
      "[INFO] Loading  cap043.nii.gz\n"
     ]
    },
    {
     "name": "stderr",
     "output_type": "stream",
     "text": [
      "  8%|██████▋                                                                         | 13/155 [00:00<00:01, 117.07it/s]"
     ]
    },
    {
     "name": "stdout",
     "output_type": "stream",
     "text": [
      "[INFO] Volume Size:  (512, 512, 155)\n",
      "[INFO] Loading  cap043_lungmask_.nii\n",
      "[INFO] Volume Size:  (512, 512, 155)\n",
      "[INFO] Valid Data: cap043.nii.gz\n",
      "[INFO] Normalizing Mask...\n",
      "[INFO] Saving...\n"
     ]
    },
    {
     "name": "stderr",
     "output_type": "stream",
     "text": [
      "100%|████████████████████████████████████████████████████████████████████████████████| 155/155 [00:02<00:00, 66.88it/s]\n"
     ]
    },
    {
     "name": "stdout",
     "output_type": "stream",
     "text": [
      "[INFO] Loading  cap044.nii.gz\n"
     ]
    },
    {
     "name": "stderr",
     "output_type": "stream",
     "text": [
      "  5%|████                                                                              | 6/120 [00:00<00:01, 58.50it/s]"
     ]
    },
    {
     "name": "stdout",
     "output_type": "stream",
     "text": [
      "[INFO] Volume Size:  (512, 512, 120)\n",
      "[INFO] Loading  cap044_lungmask_.nii\n",
      "[INFO] Volume Size:  (512, 512, 120)\n",
      "[INFO] Valid Data: cap044.nii.gz\n",
      "[INFO] Normalizing Mask...\n",
      "[INFO] Saving...\n"
     ]
    },
    {
     "name": "stderr",
     "output_type": "stream",
     "text": [
      "100%|████████████████████████████████████████████████████████████████████████████████| 120/120 [00:01<00:00, 66.01it/s]\n"
     ]
    },
    {
     "name": "stdout",
     "output_type": "stream",
     "text": [
      "[INFO] Loading  cap045.nii.gz\n"
     ]
    },
    {
     "name": "stderr",
     "output_type": "stream",
     "text": [
      " 12%|█████████▎                                                                      | 18/154 [00:00<00:00, 176.43it/s]"
     ]
    },
    {
     "name": "stdout",
     "output_type": "stream",
     "text": [
      "[INFO] Volume Size:  (512, 512, 154)\n",
      "[INFO] Loading  cap045_lungmask_.nii\n",
      "[INFO] Volume Size:  (512, 512, 154)\n",
      "[INFO] Valid Data: cap045.nii.gz\n",
      "[INFO] Normalizing Mask...\n",
      "[INFO] Saving...\n"
     ]
    },
    {
     "name": "stderr",
     "output_type": "stream",
     "text": [
      "100%|████████████████████████████████████████████████████████████████████████████████| 154/154 [00:02<00:00, 69.58it/s]\n"
     ]
    },
    {
     "name": "stdout",
     "output_type": "stream",
     "text": [
      "[INFO] Loading  cap046.nii.gz\n",
      "[INFO] Volume Size:  (512, 512, 108)\n"
     ]
    },
    {
     "name": "stderr",
     "output_type": "stream",
     "text": [
      "  6%|████▌                                                                             | 6/108 [00:00<00:01, 58.24it/s]"
     ]
    },
    {
     "name": "stdout",
     "output_type": "stream",
     "text": [
      "[INFO] Loading  cap046_lungmask_.nii\n",
      "[INFO] Volume Size:  (512, 512, 108)\n",
      "[INFO] Valid Data: cap046.nii.gz\n",
      "[INFO] Normalizing Mask...\n",
      "[INFO] Saving...\n"
     ]
    },
    {
     "name": "stderr",
     "output_type": "stream",
     "text": [
      "100%|████████████████████████████████████████████████████████████████████████████████| 108/108 [00:01<00:00, 66.48it/s]\n"
     ]
    },
    {
     "name": "stdout",
     "output_type": "stream",
     "text": [
      "[INFO] Loading  cap047.nii.gz\n"
     ]
    },
    {
     "name": "stderr",
     "output_type": "stream",
     "text": [
      "  4%|███▍                                                                              | 7/165 [00:00<00:02, 69.30it/s]"
     ]
    },
    {
     "name": "stdout",
     "output_type": "stream",
     "text": [
      "[INFO] Volume Size:  (512, 512, 165)\n",
      "[INFO] Loading  cap047_lungmask_.nii\n",
      "[INFO] Volume Size:  (512, 512, 165)\n",
      "[INFO] Valid Data: cap047.nii.gz\n",
      "[INFO] Normalizing Mask...\n",
      "[INFO] Saving...\n"
     ]
    },
    {
     "name": "stderr",
     "output_type": "stream",
     "text": [
      "100%|████████████████████████████████████████████████████████████████████████████████| 165/165 [00:02<00:00, 63.94it/s]\n"
     ]
    },
    {
     "name": "stdout",
     "output_type": "stream",
     "text": [
      "[INFO] Loading  cap048.nii.gz\n"
     ]
    },
    {
     "name": "stderr",
     "output_type": "stream",
     "text": [
      "  8%|██████▋                                                                         | 12/144 [00:00<00:01, 110.41it/s]"
     ]
    },
    {
     "name": "stdout",
     "output_type": "stream",
     "text": [
      "[INFO] Volume Size:  (512, 512, 144)\n",
      "[INFO] Loading  cap048_lungmask_.nii\n",
      "[INFO] Volume Size:  (512, 512, 144)\n",
      "[INFO] Valid Data: cap048.nii.gz\n",
      "[INFO] Normalizing Mask...\n",
      "[INFO] Saving...\n"
     ]
    },
    {
     "name": "stderr",
     "output_type": "stream",
     "text": [
      "100%|████████████████████████████████████████████████████████████████████████████████| 144/144 [00:02<00:00, 68.08it/s]\n"
     ]
    },
    {
     "name": "stdout",
     "output_type": "stream",
     "text": [
      "[INFO] Loading  cap049.nii.gz\n"
     ]
    },
    {
     "name": "stderr",
     "output_type": "stream",
     "text": [
      "  6%|████▋                                                                             | 8/140 [00:00<00:01, 79.98it/s]"
     ]
    },
    {
     "name": "stdout",
     "output_type": "stream",
     "text": [
      "[INFO] Volume Size:  (512, 512, 140)\n",
      "[INFO] Loading  cap049_lungmask_.nii\n",
      "[INFO] Volume Size:  (512, 512, 140)\n",
      "[INFO] Valid Data: cap049.nii.gz\n",
      "[INFO] Normalizing Mask...\n",
      "[INFO] Saving...\n"
     ]
    },
    {
     "name": "stderr",
     "output_type": "stream",
     "text": [
      "100%|████████████████████████████████████████████████████████████████████████████████| 140/140 [00:02<00:00, 67.06it/s]\n"
     ]
    },
    {
     "name": "stdout",
     "output_type": "stream",
     "text": [
      "[INFO] Loading  cap050.nii.gz\n"
     ]
    },
    {
     "name": "stderr",
     "output_type": "stream",
     "text": [
      "  8%|██████▍                                                                         | 13/163 [00:00<00:01, 129.99it/s]"
     ]
    },
    {
     "name": "stdout",
     "output_type": "stream",
     "text": [
      "[INFO] Volume Size:  (512, 512, 163)\n",
      "[INFO] Loading  cap050_lungmask_.nii\n",
      "[INFO] Volume Size:  (512, 512, 163)\n",
      "[INFO] Valid Data: cap050.nii.gz\n",
      "[INFO] Normalizing Mask...\n",
      "[INFO] Saving...\n"
     ]
    },
    {
     "name": "stderr",
     "output_type": "stream",
     "text": [
      "100%|████████████████████████████████████████████████████████████████████████████████| 163/163 [00:02<00:00, 67.27it/s]\n"
     ]
    },
    {
     "name": "stdout",
     "output_type": "stream",
     "text": [
      "[INFO] Loading  cap051.nii.gz\n"
     ]
    },
    {
     "name": "stderr",
     "output_type": "stream",
     "text": [
      " 11%|█████████                                                                       | 20/177 [00:00<00:00, 198.58it/s]"
     ]
    },
    {
     "name": "stdout",
     "output_type": "stream",
     "text": [
      "[INFO] Volume Size:  (512, 512, 177)\n",
      "[INFO] Loading  cap051_lungmask_.nii\n",
      "[INFO] Volume Size:  (512, 512, 177)\n",
      "[INFO] Valid Data: cap051.nii.gz\n",
      "[INFO] Normalizing Mask...\n",
      "[INFO] Saving...\n"
     ]
    },
    {
     "name": "stderr",
     "output_type": "stream",
     "text": [
      "100%|████████████████████████████████████████████████████████████████████████████████| 177/177 [00:02<00:00, 78.61it/s]\n"
     ]
    },
    {
     "name": "stdout",
     "output_type": "stream",
     "text": [
      "[INFO] Loading  cap052.nii.gz\n"
     ]
    },
    {
     "name": "stderr",
     "output_type": "stream",
     "text": [
      " 12%|█████████▉                                                                      | 20/162 [00:00<00:00, 199.99it/s]"
     ]
    },
    {
     "name": "stdout",
     "output_type": "stream",
     "text": [
      "[INFO] Volume Size:  (512, 512, 162)\n",
      "[INFO] Loading  cap052_lungmask_.nii\n",
      "[INFO] Volume Size:  (512, 512, 162)\n",
      "[INFO] Valid Data: cap052.nii.gz\n",
      "[INFO] Normalizing Mask...\n",
      "[INFO] Saving...\n"
     ]
    },
    {
     "name": "stderr",
     "output_type": "stream",
     "text": [
      "100%|████████████████████████████████████████████████████████████████████████████████| 162/162 [00:02<00:00, 78.26it/s]\n"
     ]
    },
    {
     "name": "stdout",
     "output_type": "stream",
     "text": [
      "[INFO] Loading  cap053.nii.gz\n"
     ]
    },
    {
     "name": "stderr",
     "output_type": "stream",
     "text": [
      " 12%|█████████▊                                                                      | 20/164 [00:00<00:00, 194.43it/s]"
     ]
    },
    {
     "name": "stdout",
     "output_type": "stream",
     "text": [
      "[INFO] Volume Size:  (512, 512, 164)\n",
      "[INFO] Loading  cap053_lungmask_.nii\n",
      "[INFO] Volume Size:  (512, 512, 164)\n",
      "[INFO] Valid Data: cap053.nii.gz\n",
      "[INFO] Normalizing Mask...\n",
      "[INFO] Saving...\n"
     ]
    },
    {
     "name": "stderr",
     "output_type": "stream",
     "text": [
      "100%|████████████████████████████████████████████████████████████████████████████████| 164/164 [00:02<00:00, 73.04it/s]\n"
     ]
    },
    {
     "name": "stdout",
     "output_type": "stream",
     "text": [
      "[INFO] Loading  cap054.nii.gz\n"
     ]
    },
    {
     "name": "stderr",
     "output_type": "stream",
     "text": [
      " 14%|███████████▌                                                                    | 21/146 [00:00<00:00, 185.81it/s]"
     ]
    },
    {
     "name": "stdout",
     "output_type": "stream",
     "text": [
      "[INFO] Volume Size:  (512, 512, 146)\n",
      "[INFO] Loading  cap054_lungmask_.nii\n",
      "[INFO] Volume Size:  (512, 512, 146)\n",
      "[INFO] Valid Data: cap054.nii.gz\n",
      "[INFO] Normalizing Mask...\n",
      "[INFO] Saving...\n"
     ]
    },
    {
     "name": "stderr",
     "output_type": "stream",
     "text": [
      "100%|████████████████████████████████████████████████████████████████████████████████| 146/146 [00:02<00:00, 69.49it/s]\n"
     ]
    },
    {
     "name": "stdout",
     "output_type": "stream",
     "text": [
      "[INFO] Loading  cap055.nii.gz\n"
     ]
    },
    {
     "name": "stderr",
     "output_type": "stream",
     "text": [
      " 14%|██████████▊                                                                     | 20/148 [00:00<00:00, 198.42it/s]"
     ]
    },
    {
     "name": "stdout",
     "output_type": "stream",
     "text": [
      "[INFO] Volume Size:  (512, 512, 148)\n",
      "[INFO] Loading  cap055_lungmask_.nii\n",
      "[INFO] Volume Size:  (512, 512, 148)\n",
      "[INFO] Valid Data: cap055.nii.gz\n",
      "[INFO] Normalizing Mask...\n",
      "[INFO] Saving...\n"
     ]
    },
    {
     "name": "stderr",
     "output_type": "stream",
     "text": [
      "100%|████████████████████████████████████████████████████████████████████████████████| 148/148 [00:02<00:00, 68.81it/s]\n"
     ]
    },
    {
     "name": "stdout",
     "output_type": "stream",
     "text": [
      "[INFO] Loading  cap056.nii.gz\n"
     ]
    },
    {
     "name": "stderr",
     "output_type": "stream",
     "text": [
      " 10%|███████▉                                                                        | 12/121 [00:00<00:00, 112.13it/s]"
     ]
    },
    {
     "name": "stdout",
     "output_type": "stream",
     "text": [
      "[INFO] Volume Size:  (512, 512, 121)\n",
      "[INFO] Loading  cap056_lungmask_.nii\n",
      "[INFO] Volume Size:  (512, 512, 121)\n",
      "[INFO] Valid Data: cap056.nii.gz\n",
      "[INFO] Normalizing Mask...\n",
      "[INFO] Saving...\n"
     ]
    },
    {
     "name": "stderr",
     "output_type": "stream",
     "text": [
      "100%|████████████████████████████████████████████████████████████████████████████████| 121/121 [00:01<00:00, 67.54it/s]\n"
     ]
    },
    {
     "name": "stdout",
     "output_type": "stream",
     "text": [
      "[INFO] Loading  cap057.nii.gz\n"
     ]
    },
    {
     "name": "stderr",
     "output_type": "stream",
     "text": [
      "  9%|██████▊                                                                         | 13/152 [00:00<00:01, 122.61it/s]"
     ]
    },
    {
     "name": "stdout",
     "output_type": "stream",
     "text": [
      "[INFO] Volume Size:  (512, 512, 152)\n",
      "[INFO] Loading  cap057_lungmask_.nii\n",
      "[INFO] Volume Size:  (512, 512, 152)\n",
      "[INFO] Valid Data: cap057.nii.gz\n",
      "[INFO] Normalizing Mask...\n",
      "[INFO] Saving...\n"
     ]
    },
    {
     "name": "stderr",
     "output_type": "stream",
     "text": [
      "100%|████████████████████████████████████████████████████████████████████████████████| 152/152 [00:02<00:00, 66.88it/s]\n"
     ]
    },
    {
     "name": "stdout",
     "output_type": "stream",
     "text": [
      "[INFO] Loading  cap058.nii.gz\n"
     ]
    },
    {
     "name": "stderr",
     "output_type": "stream",
     "text": [
      " 11%|████████▍                                                                       | 16/152 [00:00<00:00, 140.32it/s]"
     ]
    },
    {
     "name": "stdout",
     "output_type": "stream",
     "text": [
      "[INFO] Volume Size:  (512, 512, 152)\n",
      "[INFO] Loading  cap058_lungmask_.nii\n",
      "[INFO] Volume Size:  (512, 512, 152)\n",
      "[INFO] Valid Data: cap058.nii.gz\n",
      "[INFO] Normalizing Mask...\n",
      "[INFO] Saving...\n"
     ]
    },
    {
     "name": "stderr",
     "output_type": "stream",
     "text": [
      "100%|████████████████████████████████████████████████████████████████████████████████| 152/152 [00:02<00:00, 68.91it/s]\n"
     ]
    },
    {
     "name": "stdout",
     "output_type": "stream",
     "text": [
      "[INFO] Loading  cap059.nii.gz\n"
     ]
    },
    {
     "name": "stderr",
     "output_type": "stream",
     "text": [
      "  6%|████▌                                                                             | 8/145 [00:00<00:01, 74.75it/s]"
     ]
    },
    {
     "name": "stdout",
     "output_type": "stream",
     "text": [
      "[INFO] Volume Size:  (512, 512, 145)\n",
      "[INFO] Loading  cap059_lungmask_.nii\n",
      "[INFO] Volume Size:  (512, 512, 145)\n",
      "[INFO] Valid Data: cap059.nii.gz\n",
      "[INFO] Normalizing Mask...\n",
      "[INFO] Saving...\n"
     ]
    },
    {
     "name": "stderr",
     "output_type": "stream",
     "text": [
      "100%|████████████████████████████████████████████████████████████████████████████████| 145/145 [00:02<00:00, 62.96it/s]\n"
     ]
    },
    {
     "name": "stdout",
     "output_type": "stream",
     "text": [
      "[INFO] Loading  cap060.nii.gz\n"
     ]
    },
    {
     "name": "stderr",
     "output_type": "stream",
     "text": [
      "  9%|██████▊                                                                         | 12/141 [00:00<00:01, 114.26it/s]"
     ]
    },
    {
     "name": "stdout",
     "output_type": "stream",
     "text": [
      "[INFO] Volume Size:  (512, 512, 141)\n",
      "[INFO] Loading  cap060_lungmask_.nii\n",
      "[INFO] Volume Size:  (512, 512, 141)\n",
      "[INFO] Valid Data: cap060.nii.gz\n",
      "[INFO] Normalizing Mask...\n",
      "[INFO] Saving...\n"
     ]
    },
    {
     "name": "stderr",
     "output_type": "stream",
     "text": [
      "100%|████████████████████████████████████████████████████████████████████████████████| 141/141 [00:02<00:00, 65.69it/s]\n"
     ]
    }
   ],
   "source": [
    "covid19_ct_lung_and_infection_segmentation()\n",
    "covid19_ct_segmentation_dataset()\n",
    "radiopaedia()\n",
    "mosmed()\n",
    "covid_ct_md_normal()\n",
    "covid_ct_md_cap()"
   ]
  },
  {
   "cell_type": "code",
   "execution_count": 2,
   "id": "ffd44238",
   "metadata": {},
   "outputs": [],
   "source": [
    "datset_path = r\"D:\\YSC2023\\Implementation\\Dataset\"\n",
    "covid_data_path = r\"D:\\YSC2023\\Implementation\\Dataset\\COVID\\Covid\"\n",
    "normal_data_path = r\"D:\\YSC2023\\Implementation\\Dataset\\NONCOVID\\Normal\"\n",
    "cap_data_path = r\"D:\\YSC2023\\Implementation\\Dataset\\NONCOVID\\CAP\"\n",
    "\n",
    "def generate_train_validation_test_set():\n",
    "    train_ratio = 0.65\n",
    "    validation_ratio = 0.20\n",
    "    test_ratio = 0.15\n",
    "\n",
    "    images_covid = glob2.glob(os.path.join(covid_data_path, \"*.dcm\"))\n",
    "    images_normal = glob2.glob(os.path.join(normal_data_path, \"*.dcm\"))\n",
    "    images_cap = glob2.glob(os.path.join(cap_data_path, \"*.dcm\"))\n",
    "\n",
    "    covid_length = len(images_covid)\n",
    "    normal_length = len(images_normal)\n",
    "    cap_length = len(images_cap)\n",
    "    print(covid_length, normal_length, cap_length)\n",
    "\n",
    "    images_HU_Covid = []\n",
    "    images_HU_Normal = []\n",
    "    for image in images_covid:\n",
    "        if (os.path.basename(image)).split('_')[0] != \"radiopaedia\":\n",
    "            images_HU_Covid.append(image)\n",
    "    for image in images_normal:\n",
    "        if (os.path.basename(image)).split('_')[0] != \"radiopaedia\":\n",
    "            images_HU_Normal.append(image)\n",
    "\n",
    "    covid_length = len(images_HU_Covid)\n",
    "    normal_length = len(images_HU_Normal)\n",
    "    print(covid_length, normal_length)\n",
    "    images_covid = images_HU_Covid\n",
    "    images_normal = images_HU_Normal\n",
    "\n",
    "    covid_train_end_idx = int(covid_length * train_ratio) - 1 \n",
    "    covid_validation_end_idx = int(covid_length * (train_ratio + validation_ratio)) - 1\n",
    "    normal_train_end_idx = int(normal_length * train_ratio) - 1\n",
    "    normal_validation_end_idx = int(normal_length * (train_ratio + validation_ratio)) - 1\n",
    "    cap_train_end_idx = int(cap_length * train_ratio) - 1 \n",
    "    cap_validation_end_idx = int(cap_length * (train_ratio + validation_ratio)) - 1\n",
    "    \n",
    "    # Xáo trộn dữ liệu\n",
    "    np.random.shuffle(images_covid)\n",
    "    np.random.shuffle(images_normal)\n",
    "    np.random.shuffle(images_cap)\n",
    "    \n",
    "    # covid\n",
    "    with open(os.path.join(datset_path, \"covid_train.txt\"), \"w\") as f:\n",
    "        for line in images_covid[:covid_train_end_idx]:\n",
    "            f.write(os.path.basename(line)+'\\n')\n",
    "    f.close() \n",
    "\n",
    "    with open(os.path.join(datset_path, \"covid_validation.txt\"), \"w\") as f:\n",
    "        for line in images_covid[covid_train_end_idx:covid_validation_end_idx]:\n",
    "            f.write(os.path.basename(line)+'\\n')\n",
    "    f.close() \n",
    "\n",
    "    with open(os.path.join(datset_path, \"covid_test.txt\"), \"w\") as f:\n",
    "        for line in images_covid[covid_validation_end_idx:]:\n",
    "            f.write(os.path.basename(line)+'\\n')\n",
    "    f.close() \n",
    "\n",
    "    # normal\n",
    "    with open(os.path.join(datset_path, \"normal_train.txt\"), \"w\") as f:\n",
    "        for line in images_normal[:normal_train_end_idx]:\n",
    "            f.write(os.path.basename(line)+'\\n')\n",
    "    f.close() \n",
    "\n",
    "    with open(os.path.join(datset_path, \"normal_validation.txt\"), \"w\") as f:\n",
    "        for line in images_normal[normal_train_end_idx:normal_validation_end_idx]:\n",
    "            f.write(os.path.basename(line)+'\\n')\n",
    "    f.close() \n",
    "\n",
    "    with open(os.path.join(datset_path, \"normal_test.txt\"), \"w\") as f:\n",
    "        for line in images_normal[normal_validation_end_idx:normal_length]:\n",
    "            f.write(os.path.basename(line)+'\\n')\n",
    "    f.close() \n",
    "    \n",
    "    # cap\n",
    "    with open(os.path.join(datset_path, \"cap_train.txt\"), \"w\") as f:\n",
    "        for line in images_cap[:cap_train_end_idx]:\n",
    "            f.write(os.path.basename(line)+'\\n')\n",
    "    f.close() \n",
    "\n",
    "    with open(os.path.join(datset_path, \"cap_validation.txt\"), \"w\") as f:\n",
    "        for line in images_cap[cap_train_end_idx:cap_validation_end_idx]:\n",
    "            f.write(os.path.basename(line)+'\\n')\n",
    "    f.close() \n",
    "\n",
    "    with open(os.path.join(datset_path, \"cap_test.txt\"), \"w\") as f:\n",
    "        for line in images_cap[cap_validation_end_idx:cap_length]:\n",
    "            f.write(os.path.basename(line)+'\\n')\n",
    "    f.close() \n"
   ]
  },
  {
   "cell_type": "code",
   "execution_count": 4,
   "id": "71f4d220",
   "metadata": {},
   "outputs": [
    {
     "name": "stdout",
     "output_type": "stream",
     "text": [
      "3100 12562 7673\n",
      "2607 12238\n"
     ]
    }
   ],
   "source": [
    "generate_train_validation_test_set()"
   ]
  }
 ],
 "metadata": {
  "kernelspec": {
   "display_name": "Python 3",
   "language": "python",
   "name": "python3"
  },
  "language_info": {
   "codemirror_mode": {
    "name": "ipython",
    "version": 3
   },
   "file_extension": ".py",
   "mimetype": "text/x-python",
   "name": "python",
   "nbconvert_exporter": "python",
   "pygments_lexer": "ipython3",
   "version": "3.8.8"
  }
 },
 "nbformat": 4,
 "nbformat_minor": 5
}
