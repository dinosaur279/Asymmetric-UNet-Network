{
 "cells": [
  {
   "cell_type": "code",
   "execution_count": 1,
   "id": "17fdb522",
   "metadata": {},
   "outputs": [
    {
     "name": "stdout",
     "output_type": "stream",
     "text": [
      "Collecting dicom2nifti\n",
      "  Downloading dicom2nifti-2.4.7-py3-none-any.whl (43 kB)\n",
      "Collecting python-gdcm\n",
      "  Downloading python_gdcm-3.0.20-cp38-cp38-win_amd64.whl (27.2 MB)\n",
      "Requirement already satisfied: pydicom>=2.2.0 in c:\\users\\asus\\anaconda3\\lib\\site-packages (from dicom2nifti) (2.3.1)\n",
      "Requirement already satisfied: numpy in c:\\users\\asus\\anaconda3\\lib\\site-packages (from dicom2nifti) (1.21.6)\n",
      "Collecting nibabel\n",
      "  Downloading nibabel-5.0.0-py3-none-any.whl (3.3 MB)\n",
      "Requirement already satisfied: scipy in c:\\users\\asus\\anaconda3\\lib\\site-packages (from dicom2nifti) (1.6.2)\n",
      "Requirement already satisfied: setuptools in c:\\users\\asus\\anaconda3\\lib\\site-packages (from nibabel->dicom2nifti) (61.0.0)\n",
      "Requirement already satisfied: packaging>=17 in c:\\users\\asus\\anaconda3\\lib\\site-packages (from nibabel->dicom2nifti) (20.9)\n",
      "Requirement already satisfied: pyparsing>=2.0.2 in c:\\users\\asus\\anaconda3\\lib\\site-packages (from packaging>=17->nibabel->dicom2nifti) (2.4.7)\n",
      "Installing collected packages: python-gdcm, nibabel, dicom2nifti\n",
      "Successfully installed dicom2nifti-2.4.7 nibabel-5.0.0 python-gdcm-3.0.20\n"
     ]
    }
   ],
   "source": [
    "!pip install dicom2nifti"
   ]
  },
  {
   "cell_type": "code",
   "execution_count": 14,
   "id": "6df1f06f",
   "metadata": {},
   "outputs": [],
   "source": [
    "import dicom2nifti\n",
    "import os\n",
    "from glob import glob\n",
    "\n",
    "path = 'D:/YSC2023/Dataset/COVID-CT-MD/Cap Cases/*'\n",
    "path_output_data = 'D:/YSC2023/Dataset/COVID-CT-MD/NIfTI/CAP'\n",
    "\n",
    "for i,patient in enumerate(glob(path)):\n",
    "#     print(patient.split('/')[-1].split('\\\\')[-1])\n",
    "    dicom2nifti.dicom_series_to_nifti(patient, os.path.join(path_output_data, patient.split('/')[-1].split('\\\\')[-1]+'.nii.gz'))"
   ]
  },
  {
   "cell_type": "code",
   "execution_count": null,
   "id": "b283a436",
   "metadata": {},
   "outputs": [],
   "source": []
  }
 ],
 "metadata": {
  "kernelspec": {
   "display_name": "Python 3",
   "language": "python",
   "name": "python3"
  },
  "language_info": {
   "codemirror_mode": {
    "name": "ipython",
    "version": 3
   },
   "file_extension": ".py",
   "mimetype": "text/x-python",
   "name": "python",
   "nbconvert_exporter": "python",
   "pygments_lexer": "ipython3",
   "version": "3.8.8"
  }
 },
 "nbformat": 4,
 "nbformat_minor": 5
}
